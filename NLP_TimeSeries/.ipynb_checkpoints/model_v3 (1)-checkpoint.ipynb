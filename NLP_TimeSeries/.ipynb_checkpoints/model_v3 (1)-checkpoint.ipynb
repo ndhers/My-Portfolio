{
  "cells": [
    {
      "cell_type": "code",
      "execution_count": 57,
      "id": "92277777-aa4e-440c-8e99-9acd16b75d96",
      "metadata": {
        "id": "92277777-aa4e-440c-8e99-9acd16b75d96"
      },
      "outputs": [],
      "source": [
        "import pandas as pd\n",
        "import numpy as np\n",
        "import os\n",
        "from sklearn.linear_model import LogisticRegression\n",
        "from sklearn.ensemble import RandomForestClassifier\n",
        "from sklearn.model_selection import train_test_split\n",
        "from sklearn.metrics import accuracy_score, f1_score, recall_score,precision_score"
      ]
    },
    {
      "cell_type": "code",
      "source": [
        "from google.colab import drive\n",
        "drive.mount('/content/drive')"
      ],
      "metadata": {
        "colab": {
          "base_uri": "https://localhost:8080/"
        },
        "id": "YeJmuxyHloG6",
        "outputId": "f396b810-9ccc-4e50-d3d8-5a91d9503b37"
      },
      "id": "YeJmuxyHloG6",
      "execution_count": 1,
      "outputs": [
        {
          "output_type": "stream",
          "name": "stdout",
          "text": [
            "Mounted at /content/drive\n"
          ]
        }
      ]
    },
    {
      "cell_type": "code",
      "execution_count": 3,
      "id": "6e17bf43-2c02-414f-9085-9b05b87b3c94",
      "metadata": {
        "id": "6e17bf43-2c02-414f-9085-9b05b87b3c94"
      },
      "outputs": [],
      "source": [
        "folder = \"drive/MyDrive/data/physionet/PhysioNet/raw/\""
      ]
    },
    {
      "cell_type": "code",
      "execution_count": 4,
      "id": "1a05c05a-b8a3-43fa-955d-9462d0ffd147",
      "metadata": {
        "id": "1a05c05a-b8a3-43fa-955d-9462d0ffd147"
      },
      "outputs": [],
      "source": [
        "# labels\n",
        "outcomes_a = pd.read_csv(folder+\"Outcomes-a.txt\")"
      ]
    },
    {
      "cell_type": "code",
      "execution_count": 79,
      "id": "90c7486a-a7a7-49a9-825f-b0f3b9f03e29",
      "metadata": {
        "colab": {
          "base_uri": "https://localhost:8080/"
        },
        "id": "90c7486a-a7a7-49a9-825f-b0f3b9f03e29",
        "outputId": "497c0ad5-4ad6-4bbb-8466-15907cf2e9e1"
      },
      "outputs": [
        {
          "output_type": "stream",
          "name": "stdout",
          "text": [
            "number of feature is 17\n"
          ]
        }
      ],
      "source": [
        "# preprocessing X matrix\n",
        "\n",
        "features = ['BUN', 'Creatinine', 'GCS', 'Glucose', 'HCO3', 'HCT',\n",
        "       'HR', 'K', 'Mg', 'NIDiasABP', 'NIMAP', 'NISysABP',\n",
        "       'Na', 'Platelets', 'Temp', 'Urine', 'WBC']\n",
        "stationary_features = [\"Age\",\"Gender\",\"Height\",\"ICUType\"] \n",
        "print(f'number of feature is {len(features)}')\n",
        "\n",
        "def preprocess_data(patient_df,features,num_time = 50):\n",
        "    params = features\n",
        "    times = patient_df['Time'].unique()\n",
        "    if len(times) >=50:\n",
        "        patient = np.zeros((1,num_time))\n",
        "        time_df = patient_df['Time'].unique()[-num_time:]\n",
        "        time_df = pd.DataFrame(time_df)\n",
        "        time_df.columns = ['Time']\n",
        "        for p in params:\n",
        "            value_df = patient_df[patient_df['Parameter']==p][['Time','Value']]\n",
        "            res = time_df.merge(value_df,how='left',on = 'Time').fillna(-1)\n",
        "            res =res.drop_duplicates(subset=['Time'])\n",
        "            res = res['Value'].values.reshape((1,num_time))\n",
        "            patient = np.concatenate((patient, res), axis=0)\n",
        "        for x in stationary_features:\n",
        "          res = -1*np.ones((1,50))\n",
        "          res[0,-1] = pt[pt['Parameter']==x].values[0][2]\n",
        "          patient = np.concatenate((patient, res), axis=0)\n",
        "        return patient[1:,:]\n",
        "    \n",
        "num_feat = 21\n",
        "num_time = 50\n",
        "patients = np.zeros((1,num_time,num_feat))\n",
        "selected_patients = []\n",
        "for f in os.scandir(folder+\"set-a/\"):\n",
        "    if f.path[-3:] == 'txt':\n",
        "        pt = pd.read_csv(f.path)\n",
        "        pt = preprocess_data(pt,features)\n",
        "        if pt is not None:\n",
        "            selected_patients.append(np.int64(f.name[:-4]))\n",
        "            pt = pt.reshape((1,num_time,num_feat))\n",
        "            patients = np.concatenate((patients, pt), axis=0)\n",
        "\n",
        "# remove first dummy patient (all zeros)\n",
        "patients = patients[1:]"
      ]
    },
    {
      "cell_type": "code",
      "execution_count": 80,
      "id": "7b245a5b-1d40-4711-aba0-74c8d8e880c9",
      "metadata": {
        "id": "7b245a5b-1d40-4711-aba0-74c8d8e880c9"
      },
      "outputs": [],
      "source": [
        "# only keep outcome labels of selected patients and make sure RecordID match between X and y\n",
        "selected_outcomes_a = outcomes_a.query(f'RecordID == {selected_patients}')\n",
        "selected_outcomes_a = selected_outcomes_a.set_index('RecordID')\n",
        "y = selected_outcomes_a.loc[selected_patients]['In-hospital_death'].values"
      ]
    },
    {
      "cell_type": "code",
      "source": [
        "# train test split 80%/20%\n",
        "\n",
        "num_train_samples = int(np.floor(4*len(patients)/5))\n",
        "p = np.random.permutation(patients.shape[0])\n",
        "patients = patients[p]\n",
        "y = y[p]\n",
        "\n",
        "X_train = patients[:num_train_samples,:,:]\n",
        "X_test = patients[num_train_samples:,:,:]\n",
        "y_train = y[:num_train_samples]\n",
        "y_test = y[num_train_samples:]"
      ],
      "metadata": {
        "id": "GM9Ixhu2o7d7"
      },
      "id": "GM9Ixhu2o7d7",
      "execution_count": 81,
      "outputs": []
    },
    {
      "cell_type": "code",
      "source": [
        "float(np.floor(len(y[y==0])/len(y)*100))"
      ],
      "metadata": {
        "colab": {
          "base_uri": "https://localhost:8080/"
        },
        "id": "aKJcdygkLHtk",
        "outputId": "770d5052-decc-425b-f6df-2470110fa141"
      },
      "id": "aKJcdygkLHtk",
      "execution_count": 82,
      "outputs": [
        {
          "output_type": "execute_result",
          "data": {
            "text/plain": [
              "85.0"
            ]
          },
          "metadata": {},
          "execution_count": 82
        }
      ]
    },
    {
      "cell_type": "code",
      "execution_count": 99,
      "id": "6bbaa12e-4194-4c95-be73-19c3e722226e",
      "metadata": {
        "colab": {
          "base_uri": "https://localhost:8080/"
        },
        "id": "6bbaa12e-4194-4c95-be73-19c3e722226e",
        "outputId": "992a05da-a282-48f4-d385-1c1127a7fb70"
      },
      "outputs": [
        {
          "output_type": "stream",
          "name": "stdout",
          "text": [
            "Model: \"model_21\"\n",
            "_________________________________________________________________\n",
            " Layer (type)                Output Shape              Param #   \n",
            "=================================================================\n",
            " input_23 (InputLayer)       [(None, 50, 21)]          0         \n",
            "                                                                 \n",
            " masking_22 (Masking)        (None, 50, 21)            0         \n",
            "                                                                 \n",
            " bidirectional_17 (Bidirecti  (None, 32)               4864      \n",
            " onal)                                                           \n",
            "                                                                 \n",
            " dropout_5 (Dropout)         (None, 32)                0         \n",
            "                                                                 \n",
            " dense_46 (Dense)            (None, 16)                528       \n",
            "                                                                 \n",
            " dense_47 (Dense)            (None, 1)                 17        \n",
            "                                                                 \n",
            "=================================================================\n",
            "Total params: 5,409\n",
            "Trainable params: 5,409\n",
            "Non-trainable params: 0\n",
            "_________________________________________________________________\n",
            "Epoch 1/12\n",
            "371/371 [==============================] - 82s 203ms/step - loss: 1.0701 - accuracy: 0.6724 - recall_21: 0.3828\n",
            "Epoch 2/12\n",
            "371/371 [==============================] - 77s 208ms/step - loss: 1.0168 - accuracy: 0.7176 - recall_21: 0.4354\n",
            "Epoch 3/12\n",
            "371/371 [==============================] - 76s 204ms/step - loss: 0.9787 - accuracy: 0.7530 - recall_21: 0.4689\n",
            "Epoch 4/12\n",
            "371/371 [==============================] - 77s 207ms/step - loss: 0.9415 - accuracy: 0.7513 - recall_21: 0.5694\n",
            "Epoch 5/12\n",
            "371/371 [==============================] - 76s 204ms/step - loss: 0.8877 - accuracy: 0.7655 - recall_21: 0.6005\n",
            "Epoch 6/12\n",
            "371/371 [==============================] - 77s 208ms/step - loss: 0.8436 - accuracy: 0.7814 - recall_21: 0.6364\n",
            "Epoch 7/12\n",
            "371/371 [==============================] - 75s 203ms/step - loss: 0.7969 - accuracy: 0.7824 - recall_21: 0.6890\n",
            "Epoch 8/12\n",
            "371/371 [==============================] - 77s 208ms/step - loss: 0.7540 - accuracy: 0.7932 - recall_21: 0.7249\n",
            "Epoch 9/12\n",
            "371/371 [==============================] - 76s 204ms/step - loss: 0.7130 - accuracy: 0.8060 - recall_21: 0.7536\n",
            "Epoch 10/12\n",
            "371/371 [==============================] - 77s 207ms/step - loss: 0.6746 - accuracy: 0.8124 - recall_21: 0.7632\n",
            "Epoch 11/12\n",
            "371/371 [==============================] - 75s 202ms/step - loss: 0.6163 - accuracy: 0.8333 - recall_21: 0.7919\n",
            "Epoch 12/12\n",
            "371/371 [==============================] - 77s 206ms/step - loss: 0.5531 - accuracy: 0.8475 - recall_21: 0.8278\n"
          ]
        },
        {
          "output_type": "execute_result",
          "data": {
            "text/plain": [
              "<keras.callbacks.History at 0x7fc02fb1ee20>"
            ]
          },
          "metadata": {},
          "execution_count": 99
        }
      ],
      "source": [
        "# modeling\n",
        "\n",
        "import keras\n",
        "from keras import Model\n",
        "from keras.layers import Input, Dense, Bidirectional, Masking, Embedding, Dropout\n",
        "from keras.layers import LSTM\n",
        "import numpy as np\n",
        "\n",
        "# class weight\n",
        "\n",
        "class_weight = {0: 1.,\n",
        "                1: 5.}\n",
        "\n",
        "# model:2-layer bi-directional LSTM using all time series features and then FCNN for classification\n",
        "special_value = -1\n",
        "def define_model():\n",
        "    input1 = Input(shape=(num_time,num_feat)) \n",
        "    mask = Masking(mask_value=special_value)(input1)\n",
        "    lstm1 = Bidirectional(LSTM(units=16))(mask)\n",
        "    # lstm2 = Bidirectional(LSTM(units=32))(lstm1)\n",
        "    # dnn_hidden_layer1 = Dense(64, activation='relu')(lstm2)\n",
        "    dropout = Dropout(0.2)(lstm1)\n",
        "    dnn_hidden_layer2 = Dense(16, activation='relu')(dropout)\n",
        "    dnn_output = Dense(1, activation='sigmoid')(dnn_hidden_layer2)\n",
        "    model = Model(inputs=[input1],outputs=[dnn_output])\n",
        "    # compile the model\n",
        "    model.compile(loss='binary_crossentropy', optimizer='adam', metrics=['accuracy',keras.metrics.Recall()])\n",
        "    model.summary()\n",
        "    return model\n",
        "\n",
        "model = define_model()\n",
        "model.fit(X_train,y_train,epochs=12,batch_size=8,verbose=1,class_weight=class_weight)"
      ]
    },
    {
      "cell_type": "code",
      "source": [
        "# test performance: recall\n",
        "\n",
        "classifier_thresh = 0.3\n",
        "\n",
        "y_pred_test = model.predict(X_test)\n",
        "y_pred_test[y_pred_test<classifier_thresh] = 0\n",
        "y_pred_test[y_pred_test>=classifier_thresh] = 1\n",
        "recall_test = recall_score(y_test, y_pred_test)\n",
        "precision_test = precision_score(y_test, y_pred_test)\n",
        "f1_test = f1_score(y_test, y_pred_test)\n",
        "print(recall_test)\n",
        "print(precision_test)\n",
        "print(f1_test)"
      ],
      "metadata": {
        "colab": {
          "base_uri": "https://localhost:8080/"
        },
        "id": "eituuKjcoz-m",
        "outputId": "0d89252f-80b0-4859-a3a6-26d66ad94666"
      },
      "id": "eituuKjcoz-m",
      "execution_count": 109,
      "outputs": [
        {
          "output_type": "stream",
          "name": "stdout",
          "text": [
            "24/24 [==============================] - 1s 34ms/step\n",
            "0.4727272727272727\n",
            "0.23423423423423423\n",
            "0.3132530120481928\n"
          ]
        }
      ]
    },
    {
      "cell_type": "code",
      "source": [
        "from sklearn.metrics import confusion_matrix, ConfusionMatrixDisplay\n",
        "\n",
        "cm = confusion_matrix(y_test, y_pred_test)\n",
        "disp = ConfusionMatrixDisplay(confusion_matrix=cm,display_labels=['not dead', 'dead'])\n",
        "disp.plot()"
      ],
      "metadata": {
        "colab": {
          "base_uri": "https://localhost:8080/",
          "height": 296
        },
        "id": "HG4oliV-KXdl",
        "outputId": "6eacb416-f67a-4248-8010-3499358523ed"
      },
      "id": "HG4oliV-KXdl",
      "execution_count": 110,
      "outputs": [
        {
          "output_type": "execute_result",
          "data": {
            "text/plain": [
              "<sklearn.metrics._plot.confusion_matrix.ConfusionMatrixDisplay at 0x7fc04a4b45b0>"
            ]
          },
          "metadata": {},
          "execution_count": 110
        },
        {
          "output_type": "display_data",
          "data": {
            "text/plain": [
              "<Figure size 432x288 with 2 Axes>"
            ],
            "image/png": "[encoded data removed]"
          },
          "metadata": {
            "needs_background": "light"
          }
        }
      ]
    },
    {
      "cell_type": "code",
      "source": [
        "y_pred_train = model.predict(X_train)\n",
        "y_pred_train[y_pred_train<classifier_thresh] = 0\n",
        "y_pred_train[y_pred_train>=classifier_thresh] = 1\n",
        "cm = confusion_matrix(y_train, y_pred_train)\n",
        "disp = ConfusionMatrixDisplay(confusion_matrix=cm,display_labels=['not dead', 'dead'])\n",
        "disp.plot()"
      ],
      "metadata": {
        "colab": {
          "base_uri": "https://localhost:8080/",
          "height": 314
        },
        "id": "MIhqNi6WKjde",
        "outputId": "5782e02f-b875-4835-bdde-a47fe44020a9"
      },
      "id": "MIhqNi6WKjde",
      "execution_count": 102,
      "outputs": [
        {
          "output_type": "stream",
          "name": "stdout",
          "text": [
            "93/93 [==============================] - 2s 25ms/step\n"
          ]
        },
        {
          "output_type": "execute_result",
          "data": {
            "text/plain": [
              "<sklearn.metrics._plot.confusion_matrix.ConfusionMatrixDisplay at 0x7fc02faa1550>"
            ]
          },
          "metadata": {},
          "execution_count": 102
        },
        {
          "output_type": "display_data",
          "data": {
            "text/plain": [
              "<Figure size 432x288 with 2 Axes>"
            ],
            "image/png": "[encoded data removed]"
          },
          "metadata": {
            "needs_background": "light"
          }
        }
      ]
    },
    {
      "cell_type": "code",
      "source": [
        "recall_train = recall_score(y_train, y_pred_train)\n",
        "precision_train = precision_score(y_train, y_pred_train)\n",
        "f1_train = f1_score(y_train, y_pred_train)\n",
        "acc_train = accuracy_score(y_train, y_pred_train)\n",
        "print(recall_train)\n",
        "print(precision_train)\n",
        "print(f1_train)\n",
        "print(acc_train)"
      ],
      "metadata": {
        "colab": {
          "base_uri": "https://localhost:8080/"
        },
        "id": "tamJa2_9auIZ",
        "outputId": "a7ba7892-cb86-4be4-84ab-2b5ad7fd4981"
      },
      "id": "tamJa2_9auIZ",
      "execution_count": 104,
      "outputs": [
        {
          "output_type": "stream",
          "name": "stdout",
          "text": [
            "0.9186602870813397\n",
            "0.6432160804020101\n",
            "0.7566502463054188\n",
            "0.9166666666666666\n"
          ]
        }
      ]
    }
  ],
  "metadata": {
    "kernelspec": {
      "display_name": "Python 3 (ipykernel)",
      "language": "python",
      "name": "python3"
    },
    "language_info": {
      "codemirror_mode": {
        "name": "ipython",
        "version": 3
      },
      "file_extension": ".py",
      "mimetype": "text/x-python",
      "name": "python",
      "nbconvert_exporter": "python",
      "pygments_lexer": "ipython3",
      "version": "3.8.8"
    },
    "colab": {
      "provenance": []
    },
    "accelerator": "GPU",
    "gpuClass": "standard"
  },
  "nbformat": 4,
  "nbformat_minor": 5
}