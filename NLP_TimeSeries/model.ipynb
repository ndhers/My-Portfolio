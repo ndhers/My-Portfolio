{
 "cells": [
  {
   "cell_type": "code",
   "execution_count": 1,
   "id": "92277777-aa4e-440c-8e99-9acd16b75d96",
   "metadata": {
    "id": "92277777-aa4e-440c-8e99-9acd16b75d96"
   },
   "outputs": [],
   "source": [
    "import pandas as pd\n",
    "import numpy as np\n",
    "import os\n",
    "\n",
    "import tensorflow as tf\n",
    "from sklearn.linear_model import LogisticRegression\n",
    "from sklearn.ensemble import RandomForestClassifier\n",
    "from sklearn.model_selection import train_test_split\n",
    "from sklearn.metrics import accuracy_score, f1_score, recall_score,precision_score"
   ]
  },
  {
   "cell_type": "code",
   "execution_count": 2,
   "id": "YeJmuxyHloG6",
   "metadata": {
    "colab": {
     "base_uri": "https://localhost:8080/"
    },
    "id": "YeJmuxyHloG6",
    "outputId": "59e0019f-ff02-4e88-ce0a-382314f4768b"
   },
   "outputs": [
    {
     "name": "stdout",
     "output_type": "stream",
     "text": [
      "Drive already mounted at /content/drive; to attempt to forcibly remount, call drive.mount(\"/content/drive\", force_remount=True).\n"
     ]
    }
   ],
   "source": [
    "from google.colab import drive\n",
    "drive.mount('/content/drive')"
   ]
  },
  {
   "cell_type": "code",
   "execution_count": 3,
   "id": "6e17bf43-2c02-414f-9085-9b05b87b3c94",
   "metadata": {
    "id": "6e17bf43-2c02-414f-9085-9b05b87b3c94"
   },
   "outputs": [],
   "source": [
    "folder = \"drive/MyDrive/data/physionet/PhysioNet/raw/\""
   ]
  },
  {
   "cell_type": "code",
   "execution_count": 4,
   "id": "1a05c05a-b8a3-43fa-955d-9462d0ffd147",
   "metadata": {
    "id": "1a05c05a-b8a3-43fa-955d-9462d0ffd147"
   },
   "outputs": [],
   "source": [
    "# labels\n",
    "outcomes_a = pd.read_csv(folder+\"Outcomes-a.txt\")\n",
    "# outcomes_b = pd.read_csv(folder+\"Outcomes-b.txt\")"
   ]
  },
  {
   "cell_type": "code",
   "execution_count": 5,
   "id": "a1fys1luO1VL",
   "metadata": {
    "id": "a1fys1luO1VL"
   },
   "outputs": [],
   "source": [
    "tf.keras.utils.set_random_seed(42)"
   ]
  },
  {
   "cell_type": "code",
   "execution_count": 6,
   "id": "R4KPl_uaO1If",
   "metadata": {
    "id": "R4KPl_uaO1If"
   },
   "outputs": [],
   "source": [
    "pt = pd.read_csv(folder+\"set-a/\"+\"134650.txt\")"
   ]
  },
  {
   "cell_type": "code",
   "execution_count": 7,
   "id": "rzlYBi-NPBgg",
   "metadata": {
    "id": "rzlYBi-NPBgg"
   },
   "outputs": [],
   "source": [
    "#Helper Function\n",
    "\n",
    "\n",
    "def get_times_total():\n",
    "  time_arr = [] \n",
    "  for f in os.scandir(folder+\"set-a/\"):\n",
    "    if f.path[-3:] == 'txt':\n",
    "      patient_df = pd.read_csv(f.path)\n",
    "      times = patient_df['Time'].unique()\n",
    "      time_arr.append(times)\n",
    "  total_times = set().union(*time_arr)\n",
    "  total_sorted = np.array(sorted(total_times))\n",
    "  return total_sorted"
   ]
  },
  {
   "cell_type": "code",
   "execution_count": 8,
   "id": "dmZs0q9uOWHs",
   "metadata": {
    "id": "dmZs0q9uOWHs"
   },
   "outputs": [],
   "source": [
    "\n",
    "def preprocess_data(patient_df,features,num_time = 50):\n",
    "    params = features\n",
    "    times = patient_df['Time'].unique()\n",
    "    if len(times) >=50:\n",
    "        patient = np.zeros((1,num_time))\n",
    "        time_df = patient_df['Time'].unique()[-num_time:]\n",
    "        time_df = pd.DataFrame(time_df)\n",
    "        time_df.columns = ['Time']\n",
    "        for p in params:\n",
    "            value_df = patient_df[patient_df['Parameter']==p][['Time','Value']]\n",
    "            res = time_df.merge(value_df,how='left',on = 'Time').fillna(-1)\n",
    "            res =res.drop_duplicates(subset=['Time'])\n",
    "            res = res['Value'].values.reshape((1,num_time))\n",
    "            patient = np.concatenate((patient, res), axis=0)\n",
    "        for x in stationary_features:\n",
    "          res = -1*np.ones((1,50))\n",
    "          res[0,-1] = pt[pt['Parameter']==x].values[0][2]\n",
    "          patient = np.concatenate((patient, res), axis=0)\n",
    "        return patient[1:,:]\n",
    "    else:\n",
    "      return None\n",
    "\n",
    "\n",
    "def preprocess_data2(patient_df,features,max_time):\n",
    "    params = features\n",
    "    times = patient_df['Time'].unique()\n",
    "    patient = np.zeros((1,max_time))\n",
    "    time_df = patient_df['Time'].unique()\n",
    "    time_df = pd.DataFrame(time_df)\n",
    "    time_df.columns = ['Time']\n",
    "    for p in params:\n",
    "        value_df = patient_df[patient_df['Parameter']==p][['Time','Value']]\n",
    "        res = time_df.merge(value_df,how='left',on = 'Time').fillna(-1)\n",
    "        res =res.drop_duplicates(subset=['Time'])\n",
    "        # print(res)\n",
    "        # res = res['Value'].values.reshape((1,max_time))\n",
    "        res = np.concatenate([res['Value'].values, -1*np.ones(max_time-len(res))])\n",
    "        res = res.reshape((1,max_time))\n",
    "        patient = np.concatenate((patient, res), axis=0)\n",
    "    for x in stationary_features:\n",
    "        res = -1*np.ones((1,max_time))\n",
    "        # res[0,-1] = pt[pt['Parameter']==x].values[0][2]\n",
    "        val = pt[pt['Parameter']==x].values[0][2]\n",
    "        res = val * np.ones((1,max_time))\n",
    "        patient = np.concatenate((patient, res), axis=0)\n",
    "    return patient[1:,:]\n",
    "\n",
    "def preprocess_data3(patient_df,features,times_all):\n",
    "    max_time = len(times_all)\n",
    "    params = features\n",
    "    times_patient = patient_df['Time'].unique()\n",
    "    patient = np.zeros((1,max_time))\n",
    "    # time_df = patient_df['Time'].unique()\n",
    "    time_df = pd.DataFrame(times_all)\n",
    "    time_df.columns = ['Time']\n",
    "    for p in params:\n",
    "        value_df = patient_df[patient_df['Parameter']==p][['Time','Value']]\n",
    "        res = time_df.merge(value_df,how='left',on = 'Time').fillna(-1)\n",
    "        res =res.drop_duplicates(subset=['Time'])\n",
    "        # print(res)\n",
    "        # res = res['Value'].values.reshape((1,max_time))\n",
    "        res = np.concatenate([res['Value'].values, -1*np.ones(max_time-len(res))])\n",
    "        res = res.reshape((1,max_time))\n",
    "        patient = np.concatenate((patient, res), axis=0)\n",
    "    for x in stationary_features:\n",
    "        res = -1*np.ones((1,max_time))\n",
    "        # res[0,-1] = pt[pt['Parameter']==x].values[0][2]\n",
    "        val = pt[pt['Parameter']==x].values[0][2]\n",
    "        res = val * np.ones((1,max_time))\n",
    "        patient = np.concatenate((patient, res), axis=0)\n",
    "    return patient[1:,:]\n",
    "\n"
   ]
  },
  {
   "cell_type": "code",
   "execution_count": 9,
   "id": "nUaTg4L8-keq",
   "metadata": {
    "id": "nUaTg4L8-keq"
   },
   "outputs": [],
   "source": [
    "times_all = get_times_total()"
   ]
  },
  {
   "cell_type": "code",
   "execution_count": 10,
   "id": "AJZYYjZwlICb",
   "metadata": {
    "colab": {
     "base_uri": "https://localhost:8080/"
    },
    "id": "AJZYYjZwlICb",
    "outputId": "42dcfbf6-ff60-46a5-e3a1-9d339fa6bb24"
   },
   "outputs": [
    {
     "name": "stdout",
     "output_type": "stream",
     "text": [
      "1\n",
      "2881\n",
      "2\n",
      "2881\n",
      "3\n",
      "2881\n",
      "4\n",
      "2881\n",
      "5\n",
      "2881\n",
      "6\n",
      "2881\n",
      "7\n",
      "2881\n",
      "8\n",
      "2881\n",
      "9\n",
      "2881\n",
      "10\n",
      "2881\n",
      "11\n",
      "2881\n",
      "12\n",
      "2881\n",
      "13\n",
      "2881\n",
      "14\n",
      "2881\n",
      "15\n",
      "2881\n",
      "16\n",
      "2881\n",
      "17\n",
      "2881\n",
      "18\n",
      "2881\n",
      "19\n",
      "2881\n",
      "20\n",
      "2881\n",
      "21\n",
      "2881\n",
      "22\n",
      "2881\n"
     ]
    }
   ],
   "source": [
    "stationary_features = [\"Age\",\"Gender\",\"Height\",\"ICUType\"] \n",
    "features = ['BUN', 'Creatinine', 'GCS', 'Glucose', 'HCO3', 'HCT',\n",
    "       'HR', 'K', 'Mg', 'NIDiasABP', 'NIMAP', 'NISysABP',\n",
    "       'Na', 'Platelets', 'Temp', 'Urine', 'WBC','Weight']\n",
    "\n",
    "v = 0\n",
    "for i in preprocess_data3(pt,features,times_all):\n",
    "  v += 1\n",
    "  print(v)\n",
    "  print(len(i))"
   ]
  },
  {
   "cell_type": "code",
   "execution_count": null,
   "id": "u_L56nC27nRw",
   "metadata": {
    "id": "u_L56nC27nRw"
   },
   "outputs": [],
   "source": [
    "import datetime\n",
    "# sorted(total_times, key=lambda x: datetime.datetime.strptime(x, '%m-%Y'))\n",
    "\n"
   ]
  },
  {
   "cell_type": "code",
   "execution_count": 25,
   "id": "qYkZ_5RV6vZd",
   "metadata": {
    "id": "qYkZ_5RV6vZd"
   },
   "outputs": [],
   "source": []
  },
  {
   "cell_type": "code",
   "execution_count": null,
   "id": "90c7486a-a7a7-49a9-825f-b0f3b9f03e29",
   "metadata": {
    "colab": {
     "base_uri": "https://localhost:8080/"
    },
    "id": "90c7486a-a7a7-49a9-825f-b0f3b9f03e29",
    "outputId": "bc85be44-2049-4793-b048-b68ec572ee95"
   },
   "outputs": [
    {
     "name": "stdout",
     "output_type": "stream",
     "text": [
      "Number of features is 22\n"
     ]
    }
   ],
   "source": [
    "# preprocessing X matrix\n",
    "\n",
    "features = ['BUN', 'Creatinine', 'GCS', 'Glucose', 'HCO3', 'HCT',\n",
    "       'HR', 'K', 'Mg', 'NIDiasABP', 'NIMAP', 'NISysABP',\n",
    "       'Na', 'Platelets', 'Temp', 'Urine', 'WBC','Weight']\n",
    "stationary_features = [\"Age\",\"Gender\",\"Height\",\"ICUType\"] \n",
    "print(f'Number of features is {len(features) + len(stationary_features)}')\n",
    "\n",
    "    \n",
    "num_feat = 22\n",
    "num_time = len(times_all)\n",
    "patients = []\n",
    "selected_patients = []\n",
    "for f in os.scandir(folder+\"set-a/\"):\n",
    "    if f.path[-3:] == 'txt':\n",
    "        pt = pd.read_csv(f.path)\n",
    "        pt = preprocess_data3(pt,features,times_all)\n",
    "        # if pt is not None:\n",
    "        pt = pt.reshape((1,num_feat,num_time))\n",
    "        selected_patients.append(np.int64(f.name[:-4]))\n",
    "        # pt = pt.reshape((1,num_time,num_feat))\n",
    "        patients.append(pt)\n",
    "\n",
    "# remove first dummy patient (all zeros)\n",
    "patients = patients[1:]"
   ]
  },
  {
   "cell_type": "code",
   "execution_count": null,
   "id": "ljoIG6-ZV0sI",
   "metadata": {
    "colab": {
     "base_uri": "https://localhost:8080/"
    },
    "id": "ljoIG6-ZV0sI",
    "outputId": "9de873c3-d015-4c12-9365-31f74f3c096e"
   },
   "outputs": [
    {
     "data": {
      "text/plain": [
       "(1, 22, 203)"
      ]
     },
     "execution_count": 142,
     "metadata": {},
     "output_type": "execute_result"
    }
   ],
   "source": [
    "patients[1000].shape"
   ]
  },
  {
   "cell_type": "code",
   "execution_count": null,
   "id": "thfQRf3mfvHX",
   "metadata": {
    "id": "thfQRf3mfvHX"
   },
   "outputs": [],
   "source": [
    "np.random.seed(seed=2)"
   ]
  },
  {
   "cell_type": "code",
   "execution_count": null,
   "id": "aOLzNAB7aWcd",
   "metadata": {
    "id": "aOLzNAB7aWcd"
   },
   "outputs": [],
   "source": [
    "# patients"
   ]
  },
  {
   "cell_type": "code",
   "execution_count": null,
   "id": "58YpLP8DZ8RI",
   "metadata": {
    "id": "58YpLP8DZ8RI"
   },
   "outputs": [],
   "source": [
    "max_len = []\n",
    "for i in patients:\n",
    "  # forpatients[i]\n",
    "  for g in i[0]:\n",
    "    # print(len(g))\n",
    "    max_len.append(len(g))\n",
    "      "
   ]
  },
  {
   "cell_type": "code",
   "execution_count": null,
   "id": "y22JCge5aNTZ",
   "metadata": {
    "colab": {
     "base_uri": "https://localhost:8080/"
    },
    "id": "y22JCge5aNTZ",
    "outputId": "3f7a9e71-5582-4b82-e683-99395cdf57d4"
   },
   "outputs": [
    {
     "name": "stdout",
     "output_type": "stream",
     "text": [
      "203\n"
     ]
    }
   ],
   "source": [
    "print(max(max_len))"
   ]
  },
  {
   "cell_type": "code",
   "execution_count": null,
   "id": "7b245a5b-1d40-4711-aba0-74c8d8e880c9",
   "metadata": {
    "id": "7b245a5b-1d40-4711-aba0-74c8d8e880c9"
   },
   "outputs": [],
   "source": [
    "# only keep outcome labels of selected patients and make sure RecordID match between X and y\n",
    "selected_outcomes_a = outcomes_a.query(f'RecordID == {selected_patients}')\n",
    "selected_outcomes_a = selected_outcomes_a.set_index('RecordID')\n",
    "y = selected_outcomes_a.loc[selected_patients]['In-hospital_death'].values"
   ]
  },
  {
   "cell_type": "code",
   "execution_count": null,
   "id": "SQFUEe0Grxz5",
   "metadata": {
    "id": "SQFUEe0Grxz5"
   },
   "outputs": [],
   "source": [
    "patients = np.array(patients)"
   ]
  },
  {
   "cell_type": "code",
   "execution_count": null,
   "id": "7WKrsy65GYZ_",
   "metadata": {
    "id": "7WKrsy65GYZ_"
   },
   "outputs": [],
   "source": [
    "len(patients)"
   ]
  },
  {
   "cell_type": "code",
   "execution_count": null,
   "id": "GM9Ixhu2o7d7",
   "metadata": {
    "id": "GM9Ixhu2o7d7"
   },
   "outputs": [],
   "source": [
    "# train test split 80%/20%\n",
    "\n",
    "num_train_samples = int(np.floor(4*len(patients)/5))\n",
    "# num_train_samples\n",
    "p = np.random.permutation(len(patients)-1)\n",
    "\n",
    "patients = patients[p]\n",
    "y = y[p]\n",
    "\n",
    "X_train = patients[:num_train_samples,:,:]\n",
    "X_test = patients[num_train_samples:,:,:]\n",
    "y_train = y[:num_train_samples]\n",
    "y_test = y[num_train_samples:]"
   ]
  },
  {
   "cell_type": "code",
   "execution_count": null,
   "id": "aKJcdygkLHtk",
   "metadata": {
    "id": "aKJcdygkLHtk"
   },
   "outputs": [],
   "source": [
    "# float(np.floor(len(y[y==0])/len(y)*100))"
   ]
  },
  {
   "cell_type": "code",
   "execution_count": null,
   "id": "ApSz_UEyEuri",
   "metadata": {
    "id": "ApSz_UEyEuri"
   },
   "outputs": [],
   "source": [
    "from tensorflow import keras\n",
    "from tensorflow.keras import layers\n",
    "import keras\n",
    "from keras import Model\n",
    "from keras.layers import Input, Dense, Bidirectional, Masking, Embedding, Dropout\n",
    "from keras.layers import LSTM\n",
    "import numpy as np\n",
    "\n",
    "\n",
    "def transformer_encoder(inputs, head_size, num_heads, ff_dim, dropout=0):\n",
    "    # Normalization and Attention\n",
    "    x = layers.LayerNormalization(epsilon=1e-6)(inputs)\n",
    "    x = layers.MultiHeadAttention(\n",
    "        key_dim=head_size, num_heads=num_heads, dropout=dropout\n",
    "    )(x, x)\n",
    "    x = layers.Dropout(dropout)(x)\n",
    "    res = x + inputs\n",
    "\n",
    "    # Feed Forward Part\n",
    "    x = layers.LayerNormalization(epsilon=1e-6)(res)\n",
    "    x = layers.Conv1D(filters=ff_dim, kernel_size=1, activation=\"relu\")(x)\n",
    "    x = layers.Dropout(dropout)(x)\n",
    "    x = layers.Conv1D(filters=inputs.shape[-1], kernel_size=1)(x)\n",
    "    return x + res"
   ]
  },
  {
   "cell_type": "code",
   "execution_count": null,
   "id": "i8kYzEBpFAHD",
   "metadata": {
    "id": "i8kYzEBpFAHD"
   },
   "outputs": [],
   "source": [
    "\n",
    "def build_model(input_shape,head_size,num_heads,ff_dim,num_transformer_blocks,mlp_units,dropout=0,mlp_dropout=0,):\n",
    "    inputs = keras.Input(shape=input_shape)\n",
    "    mask = Masking(mask_value=-1)(inputs)\n",
    "    x = mask\n",
    "    for _ in range(num_transformer_blocks):\n",
    "        x = transformer_encoder(x, head_size, num_heads, ff_dim, dropout)\n",
    "    x = layers.GlobalAveragePooling1D(data_format=\"channels_first\")(x)\n",
    "    for dim in mlp_units:\n",
    "        x = layers.Dense(dim, activation=\"relu\")(x)\n",
    "        x = layers.Dropout(mlp_dropout)(x)\n",
    "    outputs = layers.Dense(1, activation=\"sigmoid\")(x)\n",
    "    return keras.Model(inputs, outputs)"
   ]
  },
  {
   "cell_type": "code",
   "execution_count": null,
   "id": "jlmCouyVJIOm",
   "metadata": {
    "id": "jlmCouyVJIOm"
   },
   "outputs": [],
   "source": []
  },
  {
   "cell_type": "code",
   "execution_count": 63,
   "id": "7CW0VnQ7oPTD",
   "metadata": {
    "colab": {
     "base_uri": "https://localhost:8080/"
    },
    "id": "7CW0VnQ7oPTD",
    "outputId": "64f03b11-bb47-4235-da30-1a1b5de83b84"
   },
   "outputs": [
    {
     "data": {
      "text/plain": [
       "(1, 22, 2881)"
      ]
     },
     "execution_count": 63,
     "metadata": {},
     "output_type": "execute_result"
    }
   ],
   "source": [
    "X_train[0].shape"
   ]
  },
  {
   "cell_type": "code",
   "execution_count": null,
   "id": "nC0sbeIIuv4S",
   "metadata": {
    "id": "nC0sbeIIuv4S"
   },
   "outputs": [],
   "source": [
    "X_train = X_train.reshape((-1,2881,22))\n",
    "X_test = X_test.reshape((-1,2881,22))"
   ]
  },
  {
   "cell_type": "code",
   "execution_count": null,
   "id": "w2rPB-MSpvoK",
   "metadata": {
    "id": "w2rPB-MSpvoK"
   },
   "outputs": [],
   "source": [
    "input_shape = (2881,22)"
   ]
  },
  {
   "cell_type": "code",
   "execution_count": null,
   "id": "OEKoOYg-FQC_",
   "metadata": {
    "id": "OEKoOYg-FQC_"
   },
   "outputs": [],
   "source": [
    "\n",
    "\n",
    "class_weight = {0: 1.,\n",
    "                1: 5.}\n",
    "\n",
    "\n",
    "\n",
    "model = build_model(\n",
    "    input_shape,\n",
    "    head_size=128,\n",
    "    num_heads=2,\n",
    "    ff_dim=3,\n",
    "    num_transformer_blocks=2,\n",
    "    mlp_units=[64],\n",
    "    mlp_dropout=0.2,\n",
    "    dropout=0.2,\n",
    ")\n",
    "\n",
    "model.compile(\n",
    "    loss=\"binary_crossentropy\",\n",
    "    optimizer=keras.optimizers.Adam(learning_rate=1e-4),\n",
    "    metrics=['accuracy',keras.metrics.Recall()],\n",
    ")\n",
    "model.summary()\n",
    "\n",
    "callbacks = [keras.callbacks.EarlyStopping(patience=5, restore_best_weights=True)]\n",
    "\n",
    "model.fit(\n",
    "    X_train,\n",
    "    y_train,\n",
    "    validation_split=0.2,\n",
    "    epochs=200,\n",
    "    batch_size=8,\n",
    "    callbacks=callbacks,\n",
    "    class_weight=class_weight\n",
    ")\n",
    "\n",
    "# model.evaluate(x_test, y_test, verbose=1)"
   ]
  },
  {
   "cell_type": "code",
   "execution_count": 182,
   "id": "Ghxo-2fFGtVB",
   "metadata": {
    "colab": {
     "base_uri": "https://localhost:8080/"
    },
    "id": "Ghxo-2fFGtVB",
    "outputId": "c47b9ed6-2404-43bd-b4ac-01f1f4bbd1bf"
   },
   "outputs": [
    {
     "name": "stdout",
     "output_type": "stream",
     "text": [
      "24/24 [==============================] - 1s 6ms/step\n",
      "0.87\n",
      "0.13161875945537066\n",
      "0.22864651773981604\n"
     ]
    }
   ],
   "source": [
    "\n",
    "classifier_thresh = 0.3\n",
    "y_pred_test = model.predict(X_test)\n",
    "y_pred_test[y_pred_test<classifier_thresh] = 0\n",
    "y_pred_test[y_pred_test>=classifier_thresh] = 1\n",
    "recall_test = recall_score(y_test, y_pred_test)\n",
    "precision_test = precision_score(y_test, y_pred_test)\n",
    "f1_test = f1_score(y_test, y_pred_test)\n",
    "print(recall_test)\n",
    "print(precision_test)\n",
    "print(f1_test)\n",
    "# model.evaluate(X_test, y_test, verbose=1)"
   ]
  },
  {
   "cell_type": "code",
   "execution_count": 183,
   "id": "ToxQpF1zZdes",
   "metadata": {
    "colab": {
     "base_uri": "https://localhost:8080/",
     "height": 297
    },
    "id": "ToxQpF1zZdes",
    "outputId": "4fda00b6-3289-44bb-843c-1fb177c7a6eb"
   },
   "outputs": [
    {
     "data": {
      "text/plain": [
       "<sklearn.metrics._plot.confusion_matrix.ConfusionMatrixDisplay at 0x7fb303b324c0>"
      ]
     },
     "execution_count": 183,
     "metadata": {},
     "output_type": "execute_result"
    },
    {
     "data": {
      "image/png": "[encoded data removed]",
      "text/plain": [
       "<Figure size 432x288 with 2 Axes>"
      ]
     },
     "metadata": {
      "needs_background": "light"
     },
     "output_type": "display_data"
    }
   ],
   "source": [
    "\n",
    "cm = confusion_matrix(y_test, y_pred_test,normalize='true')\n",
    "disp = ConfusionMatrixDisplay(confusion_matrix=cm,display_labels=['Survived', 'Not Survive'],)\n",
    "disp.plot(cmap = 'Blues')"
   ]
  },
  {
   "cell_type": "code",
   "execution_count": 19,
   "id": "sDQ36bvv1KFD",
   "metadata": {
    "colab": {
     "base_uri": "https://localhost:8080/",
     "height": 297
    },
    "id": "sDQ36bvv1KFD",
    "outputId": "7edfce29-916f-48ec-a9f9-b4a68da10b5d"
   },
   "outputs": [
    {
     "data": {
      "text/plain": [
       "<sklearn.metrics._plot.confusion_matrix.ConfusionMatrixDisplay at 0x7fb42dfaff40>"
      ]
     },
     "execution_count": 19,
     "metadata": {},
     "output_type": "execute_result"
    },
    {
     "data": {
      "image/png": "[encoded data removed]",
      "text/plain": [
       "<Figure size 432x288 with 2 Axes>"
      ]
     },
     "metadata": {
      "needs_background": "light"
     },
     "output_type": "display_data"
    }
   ],
   "source": [
    "from sklearn.metrics import confusion_matrix, ConfusionMatrixDisplay\n",
    "\n",
    "cm = confusion_matrix(y_test, y_pred_test)\n",
    "disp = ConfusionMatrixDisplay(confusion_matrix=cm,display_labels=['not dead', 'dead'])\n",
    "disp.plot()"
   ]
  },
  {
   "cell_type": "code",
   "execution_count": 67,
   "id": "6bbaa12e-4194-4c95-be73-19c3e722226e",
   "metadata": {
    "id": "6bbaa12e-4194-4c95-be73-19c3e722226e"
   },
   "outputs": [],
   "source": [
    "# modeling\n",
    "\n",
    "import keras\n",
    "from keras import Model\n",
    "from keras.layers import Input, Dense, Bidirectional, Masking, Embedding, Dropout\n",
    "from keras.layers import LSTM\n",
    "import numpy as np\n",
    "\n",
    "# class weight\n",
    "\n",
    "class_weight = {0: 1.,\n",
    "                1: 5.}\n",
    "\n",
    "# model:2-layer bi-directional LSTM using all time series features and then FCNN for classification\n",
    "special_value = -1\n",
    "def define_model():\n",
    "    input1 = Input(shape=input_shape) \n",
    "    mask = Masking(mask_value=special_value)(input1)\n",
    "    lstm1 = Bidirectional(LSTM(units=16))(mask)\n",
    "    # lstm2 = Bidirectional(LSTM(units=32))(lstm1)\n",
    "    # dnn_hidden_layer1 = Dense(64, activation='relu')(lstm2)\n",
    "    dropout = Dropout(0.2)(lstm1)\n",
    "    dnn_hidden_layer2 = Dense(16, activation='relu')(dropout)\n",
    "    dnn_output = Dense(1, activation='sigmoid')(dnn_hidden_layer2)\n",
    "    model = Model(inputs=[input1],outputs=[dnn_output])\n",
    "    # compile the model\n",
    "    model.compile(loss='binary_crossentropy', optimizer='adam', metrics=['accuracy',keras.metrics.Recall()])\n",
    "    model.summary()\n",
    "    return model\n"
   ]
  },
  {
   "cell_type": "code",
   "execution_count": 70,
   "id": "e2d9389e",
   "metadata": {
    "colab": {
     "base_uri": "https://localhost:8080/"
    },
    "id": "e2d9389e",
    "outputId": "bd4d7c16-15da-4aca-dac8-ebf26af662e1"
   },
   "outputs": [
    {
     "name": "stdout",
     "output_type": "stream",
     "text": [
      "Model: \"model_2\"\n",
      "_________________________________________________________________\n",
      " Layer (type)                Output Shape              Param #   \n",
      "=================================================================\n",
      " input_3 (InputLayer)        [(None, 2881, 22)]        0         \n",
      "                                                                 \n",
      " masking_2 (Masking)         (None, 2881, 22)          0         \n",
      "                                                                 \n",
      " bidirectional_2 (Bidirectio  (None, 32)               4992      \n",
      " nal)                                                            \n",
      "                                                                 \n",
      " dropout_2 (Dropout)         (None, 32)                0         \n",
      "                                                                 \n",
      " dense_4 (Dense)             (None, 16)                528       \n",
      "                                                                 \n",
      " dense_5 (Dense)             (None, 1)                 17        \n",
      "                                                                 \n",
      "=================================================================\n",
      "Total params: 5,537\n",
      "Trainable params: 5,537\n",
      "Non-trainable params: 0\n",
      "_________________________________________________________________\n",
      "Epoch 1/50\n",
      "5/5 [==============================] - 66s 12s/step - loss: 1.0897 - accuracy: 0.8234 - recall_2: 0.0702 - val_loss: 0.6372 - val_accuracy: 0.7188 - val_recall_2: 0.1942\n",
      "Epoch 2/50\n",
      "5/5 [==============================] - 56s 11s/step - loss: 1.0630 - accuracy: 0.6635 - recall_2: 0.3187 - val_loss: 0.6915 - val_accuracy: 0.5047 - val_recall_2: 0.4369\n",
      "Epoch 3/50\n",
      "5/5 [==============================] - 57s 11s/step - loss: 1.0723 - accuracy: 0.6010 - recall_2: 0.3421 - val_loss: 0.6740 - val_accuracy: 0.5906 - val_recall_2: 0.3107\n",
      "Epoch 4/50\n",
      "5/5 [==============================] - 57s 11s/step - loss: 1.0619 - accuracy: 0.6866 - recall_2: 0.1930 - val_loss: 0.6504 - val_accuracy: 0.7406 - val_recall_2: 0.1456\n",
      "Epoch 5/50\n",
      "5/5 [==============================] - 56s 11s/step - loss: 1.0461 - accuracy: 0.7808 - recall_2: 0.2018 - val_loss: 0.6356 - val_accuracy: 0.7922 - val_recall_2: 0.0874\n",
      "Epoch 6/50\n",
      "5/5 [==============================] - 57s 11s/step - loss: 1.0449 - accuracy: 0.8038 - recall_2: 0.1140 - val_loss: 0.6262 - val_accuracy: 0.8062 - val_recall_2: 0.0485\n",
      "Epoch 7/50\n",
      "5/5 [==============================] - 57s 12s/step - loss: 1.0514 - accuracy: 0.8191 - recall_2: 0.0877 - val_loss: 0.6220 - val_accuracy: 0.8172 - val_recall_2: 0.0680\n",
      "Epoch 8/50\n",
      "5/5 [==============================] - 57s 11s/step - loss: 1.0446 - accuracy: 0.8210 - recall_2: 0.0936 - val_loss: 0.6225 - val_accuracy: 0.8188 - val_recall_2: 0.0680\n",
      "Epoch 9/50\n",
      "5/5 [==============================] - 57s 11s/step - loss: 1.0481 - accuracy: 0.8132 - recall_2: 0.0936 - val_loss: 0.6260 - val_accuracy: 0.8062 - val_recall_2: 0.0777\n",
      "Epoch 10/50\n",
      "5/5 [==============================] - 56s 11s/step - loss: 1.0439 - accuracy: 0.8148 - recall_2: 0.1228 - val_loss: 0.6291 - val_accuracy: 0.8062 - val_recall_2: 0.1068\n",
      "Epoch 11/50\n",
      "5/5 [==============================] - 58s 12s/step - loss: 1.0431 - accuracy: 0.8097 - recall_2: 0.1111 - val_loss: 0.6290 - val_accuracy: 0.8016 - val_recall_2: 0.1165\n",
      "Epoch 12/50\n",
      "5/5 [==============================] - 58s 11s/step - loss: 1.0396 - accuracy: 0.8202 - recall_2: 0.1550 - val_loss: 0.6283 - val_accuracy: 0.7969 - val_recall_2: 0.1262\n",
      "Epoch 13/50\n",
      "5/5 [==============================] - 57s 12s/step - loss: 1.0289 - accuracy: 0.8171 - recall_2: 0.1257 - val_loss: 0.6247 - val_accuracy: 0.8000 - val_recall_2: 0.1262\n",
      "Epoch 14/50\n",
      "5/5 [==============================] - 56s 11s/step - loss: 1.0378 - accuracy: 0.8132 - recall_2: 0.1257 - val_loss: 0.6237 - val_accuracy: 0.7953 - val_recall_2: 0.1262\n",
      "Epoch 15/50\n",
      "5/5 [==============================] - 56s 11s/step - loss: 1.0323 - accuracy: 0.8191 - recall_2: 0.1404 - val_loss: 0.6209 - val_accuracy: 0.7984 - val_recall_2: 0.1359\n",
      "Epoch 16/50\n",
      "5/5 [==============================] - 56s 11s/step - loss: 1.0382 - accuracy: 0.8109 - recall_2: 0.1082 - val_loss: 0.6222 - val_accuracy: 0.7937 - val_recall_2: 0.1359\n",
      "Epoch 17/50\n",
      "5/5 [==============================] - 56s 11s/step - loss: 1.0267 - accuracy: 0.8105 - recall_2: 0.1520 - val_loss: 0.6267 - val_accuracy: 0.7734 - val_recall_2: 0.1456\n",
      "Epoch 18/50\n",
      "5/5 [==============================] - 56s 11s/step - loss: 1.0244 - accuracy: 0.8105 - recall_2: 0.1901 - val_loss: 0.6216 - val_accuracy: 0.7828 - val_recall_2: 0.1456\n",
      "Epoch 19/50\n",
      "5/5 [==============================] - 57s 11s/step - loss: 1.0267 - accuracy: 0.8007 - recall_2: 0.1754 - val_loss: 0.6228 - val_accuracy: 0.7734 - val_recall_2: 0.1650\n",
      "Epoch 20/50\n",
      "5/5 [==============================] - 56s 11s/step - loss: 1.0288 - accuracy: 0.8046 - recall_2: 0.1637 - val_loss: 0.6174 - val_accuracy: 0.7781 - val_recall_2: 0.1456\n",
      "Epoch 21/50\n",
      "5/5 [==============================] - 56s 11s/step - loss: 1.0275 - accuracy: 0.7995 - recall_2: 0.1491 - val_loss: 0.6196 - val_accuracy: 0.7734 - val_recall_2: 0.1650\n",
      "Epoch 22/50\n",
      "5/5 [==============================] - 56s 11s/step - loss: 1.0177 - accuracy: 0.8023 - recall_2: 0.1754 - val_loss: 0.6156 - val_accuracy: 0.7766 - val_recall_2: 0.1748\n",
      "Epoch 23/50\n",
      "5/5 [==============================] - 56s 11s/step - loss: 1.0151 - accuracy: 0.8120 - recall_2: 0.2105 - val_loss: 0.6148 - val_accuracy: 0.7703 - val_recall_2: 0.1942\n",
      "Epoch 24/50\n",
      "5/5 [==============================] - 56s 11s/step - loss: 1.0171 - accuracy: 0.8050 - recall_2: 0.2164 - val_loss: 0.6104 - val_accuracy: 0.7672 - val_recall_2: 0.1942\n",
      "Epoch 25/50\n",
      "5/5 [==============================] - 56s 11s/step - loss: 1.0179 - accuracy: 0.8081 - recall_2: 0.2105 - val_loss: 0.6125 - val_accuracy: 0.7594 - val_recall_2: 0.2136\n",
      "Epoch 26/50\n",
      "5/5 [==============================] - 56s 11s/step - loss: 1.0082 - accuracy: 0.7972 - recall_2: 0.2661 - val_loss: 0.6181 - val_accuracy: 0.7500 - val_recall_2: 0.2330\n",
      "Epoch 27/50\n",
      "5/5 [==============================] - 57s 11s/step - loss: 1.0138 - accuracy: 0.7859 - recall_2: 0.2222 - val_loss: 0.6112 - val_accuracy: 0.7625 - val_recall_2: 0.2039\n",
      "Epoch 28/50\n",
      "5/5 [==============================] - 56s 11s/step - loss: 1.0108 - accuracy: 0.7956 - recall_2: 0.2485 - val_loss: 0.6146 - val_accuracy: 0.7578 - val_recall_2: 0.2136\n",
      "Epoch 29/50\n",
      "5/5 [==============================] - 57s 11s/step - loss: 1.0015 - accuracy: 0.8030 - recall_2: 0.2778 - val_loss: 0.6111 - val_accuracy: 0.7563 - val_recall_2: 0.2136\n",
      "Epoch 30/50\n",
      "5/5 [==============================] - 57s 11s/step - loss: 1.0026 - accuracy: 0.7964 - recall_2: 0.2865 - val_loss: 0.6113 - val_accuracy: 0.7500 - val_recall_2: 0.2136\n",
      "Epoch 31/50\n",
      "5/5 [==============================] - 57s 11s/step - loss: 1.0030 - accuracy: 0.7905 - recall_2: 0.2778 - val_loss: 0.6091 - val_accuracy: 0.7484 - val_recall_2: 0.2039\n",
      "Epoch 32/50\n",
      "5/5 [==============================] - 56s 11s/step - loss: 0.9972 - accuracy: 0.7933 - recall_2: 0.2982 - val_loss: 0.6092 - val_accuracy: 0.7391 - val_recall_2: 0.2136\n",
      "Epoch 33/50\n",
      "5/5 [==============================] - 57s 11s/step - loss: 0.9921 - accuracy: 0.7827 - recall_2: 0.3187 - val_loss: 0.6128 - val_accuracy: 0.7250 - val_recall_2: 0.2524\n",
      "Epoch 34/50\n",
      "5/5 [==============================] - 57s 12s/step - loss: 1.0013 - accuracy: 0.7694 - recall_2: 0.3246 - val_loss: 0.6192 - val_accuracy: 0.7125 - val_recall_2: 0.2816\n",
      "Epoch 35/50\n",
      "5/5 [==============================] - 58s 12s/step - loss: 0.9943 - accuracy: 0.7675 - recall_2: 0.3801 - val_loss: 0.6197 - val_accuracy: 0.7125 - val_recall_2: 0.2718\n",
      "Epoch 36/50\n",
      "5/5 [==============================] - 56s 11s/step - loss: 0.9893 - accuracy: 0.7718 - recall_2: 0.3860 - val_loss: 0.6098 - val_accuracy: 0.7344 - val_recall_2: 0.2524\n",
      "Epoch 37/50\n",
      "5/5 [==============================] - 57s 11s/step - loss: 0.9870 - accuracy: 0.7761 - recall_2: 0.3626 - val_loss: 0.6043 - val_accuracy: 0.7437 - val_recall_2: 0.2233\n",
      "Epoch 38/50\n",
      "5/5 [==============================] - 56s 11s/step - loss: 0.9847 - accuracy: 0.7812 - recall_2: 0.2836 - val_loss: 0.5980 - val_accuracy: 0.7500 - val_recall_2: 0.1942\n",
      "Epoch 39/50\n",
      "5/5 [==============================] - 56s 11s/step - loss: 0.9877 - accuracy: 0.7956 - recall_2: 0.3216 - val_loss: 0.5971 - val_accuracy: 0.7437 - val_recall_2: 0.1845\n",
      "Epoch 40/50\n",
      "5/5 [==============================] - 58s 11s/step - loss: 0.9844 - accuracy: 0.7769 - recall_2: 0.3363 - val_loss: 0.6119 - val_accuracy: 0.7141 - val_recall_2: 0.2718\n",
      "Epoch 41/50\n",
      "5/5 [==============================] - 56s 11s/step - loss: 0.9754 - accuracy: 0.7730 - recall_2: 0.4123 - val_loss: 0.6114 - val_accuracy: 0.7156 - val_recall_2: 0.2621\n",
      "Epoch 42/50\n",
      "5/5 [==============================] - 56s 11s/step - loss: 0.9697 - accuracy: 0.7722 - recall_2: 0.4240 - val_loss: 0.6111 - val_accuracy: 0.7172 - val_recall_2: 0.2621\n",
      "Epoch 43/50\n",
      "5/5 [==============================] - 58s 12s/step - loss: 0.9632 - accuracy: 0.7706 - recall_2: 0.4327 - val_loss: 0.6045 - val_accuracy: 0.7234 - val_recall_2: 0.2427\n",
      "Epoch 44/50\n",
      "5/5 [==============================] - 56s 11s/step - loss: 0.9697 - accuracy: 0.7773 - recall_2: 0.3713 - val_loss: 0.5954 - val_accuracy: 0.7437 - val_recall_2: 0.2233\n",
      "Epoch 45/50\n",
      "5/5 [==============================] - 56s 11s/step - loss: 0.9718 - accuracy: 0.7905 - recall_2: 0.3567 - val_loss: 0.5946 - val_accuracy: 0.7375 - val_recall_2: 0.2136\n",
      "Epoch 46/50\n",
      "5/5 [==============================] - 56s 11s/step - loss: 0.9535 - accuracy: 0.7816 - recall_2: 0.4094 - val_loss: 0.6063 - val_accuracy: 0.7188 - val_recall_2: 0.2718\n",
      "Epoch 47/50\n",
      "5/5 [==============================] - 58s 12s/step - loss: 0.9530 - accuracy: 0.7726 - recall_2: 0.4971 - val_loss: 0.6126 - val_accuracy: 0.6984 - val_recall_2: 0.2718\n",
      "Epoch 48/50\n",
      "5/5 [==============================] - 56s 11s/step - loss: 0.9595 - accuracy: 0.7651 - recall_2: 0.4591 - val_loss: 0.6102 - val_accuracy: 0.7016 - val_recall_2: 0.2621\n",
      "Epoch 49/50\n",
      "5/5 [==============================] - 56s 11s/step - loss: 0.9553 - accuracy: 0.7589 - recall_2: 0.4561 - val_loss: 0.6054 - val_accuracy: 0.7078 - val_recall_2: 0.2524\n",
      "Epoch 50/50\n",
      "5/5 [==============================] - 58s 12s/step - loss: 0.9511 - accuracy: 0.7655 - recall_2: 0.4532 - val_loss: 0.6033 - val_accuracy: 0.7000 - val_recall_2: 0.2233\n"
     ]
    },
    {
     "data": {
      "text/plain": [
       "<keras.callbacks.History at 0x7f3da4e19250>"
      ]
     },
     "execution_count": 70,
     "metadata": {},
     "output_type": "execute_result"
    }
   ],
   "source": [
    "model_1 = define_model()\n",
    "\n",
    "\n",
    "callbacks = [keras.callbacks.EarlyStopping(patience=10, restore_best_weights=True)]\n",
    "model_1.fit(X_train,y_train,epochs=50,batch_size=512,verbose=1,class_weight=class_weight,callbacks=callbacks,validation_split=.2)"
   ]
  },
  {
   "cell_type": "code",
   "execution_count": 71,
   "id": "eituuKjcoz-m",
   "metadata": {
    "colab": {
     "base_uri": "https://localhost:8080/"
    },
    "id": "eituuKjcoz-m",
    "outputId": "ae937a8a-da58-4383-da3e-a63a196748a9"
   },
   "outputs": [
    {
     "name": "stdout",
     "output_type": "stream",
     "text": [
      "25/25 [==============================] - 33s 1s/step\n",
      "0.8623853211009175\n",
      "0.13884785819793205\n",
      "0.23918575063613232\n"
     ]
    }
   ],
   "source": [
    "# test performance: recall\n",
    "\n",
    "classifier_thresh = 0.3\n",
    "y_pred_test = model_1.predict(X_test)\n",
    "y_pred_test[y_pred_test<classifier_thresh] = 0\n",
    "y_pred_test[y_pred_test>=classifier_thresh] = 1\n",
    "recall_test = recall_score(y_test, y_pred_test)\n",
    "precision_test = precision_score(y_test, y_pred_test)\n",
    "f1_test = f1_score(y_test, y_pred_test)\n",
    "print(recall_test)\n",
    "print(precision_test)\n",
    "print(f1_test)"
   ]
  },
  {
   "cell_type": "code",
   "execution_count": 74,
   "id": "dix6wRXIbUWD",
   "metadata": {
    "colab": {
     "base_uri": "https://localhost:8080/",
     "height": 297
    },
    "id": "dix6wRXIbUWD",
    "outputId": "d000e3e1-a18f-4226-fe68-5636158ca70d"
   },
   "outputs": [
    {
     "data": {
      "text/plain": [
       "<sklearn.metrics._plot.confusion_matrix.ConfusionMatrixDisplay at 0x7f3d61264e50>"
      ]
     },
     "execution_count": 74,
     "metadata": {},
     "output_type": "execute_result"
    },
    {
     "data": {
      "image/png": "[encoded data removed]",
      "text/plain": [
       "<Figure size 432x288 with 2 Axes>"
      ]
     },
     "metadata": {
      "needs_background": "light"
     },
     "output_type": "display_data"
    }
   ],
   "source": [
    "from sklearn.metrics import confusion_matrix, ConfusionMatrixDisplay\n",
    "cm = confusion_matrix(y_test, y_pred_test,normalize='true')\n",
    "disp = ConfusionMatrixDisplay(confusion_matrix=cm,display_labels=['Survived', 'Not Survive'])\n",
    "disp.plot(cmap = 'Blues')"
   ]
  },
  {
   "cell_type": "code",
   "execution_count": null,
   "id": "HG4oliV-KXdl",
   "metadata": {
    "colab": {
     "base_uri": "https://localhost:8080/",
     "height": 296
    },
    "id": "HG4oliV-KXdl",
    "outputId": "1ea9fecf-c166-475d-a3a0-7a4eb4ea8a65"
   },
   "outputs": [
    {
     "data": {
      "text/plain": [
       "<sklearn.metrics._plot.confusion_matrix.ConfusionMatrixDisplay at 0x7f8558bb0d60>"
      ]
     },
     "execution_count": 51,
     "metadata": {},
     "output_type": "execute_result"
    },
    {
     "data": {
      "image/png": "[encoded data removed]",
      "text/plain": [
       "<Figure size 432x288 with 2 Axes>"
      ]
     },
     "metadata": {
      "needs_background": "light"
     },
     "output_type": "display_data"
    }
   ],
   "source": [
    "from sklearn.metrics import confusion_matrix, ConfusionMatrixDisplay\n",
    "\n",
    "cm = confusion_matrix(y_test, y_pred_test)\n",
    "disp = ConfusionMatrixDisplay(confusion_matrix=cm,display_labels=['not dead', 'dead'])\n",
    "disp.plot()"
   ]
  },
  {
   "cell_type": "code",
   "execution_count": null,
   "id": "MIhqNi6WKjde",
   "metadata": {
    "colab": {
     "base_uri": "https://localhost:8080/",
     "height": 314
    },
    "id": "MIhqNi6WKjde",
    "outputId": "3a02f721-74b1-487d-eb9e-f6c9feee81a3"
   },
   "outputs": [
    {
     "name": "stdout",
     "output_type": "stream",
     "text": [
      "100/100 [==============================] - 1s 14ms/step\n"
     ]
    },
    {
     "data": {
      "text/plain": [
       "<sklearn.metrics._plot.confusion_matrix.ConfusionMatrixDisplay at 0x7fddba8d1250>"
      ]
     },
     "execution_count": 130,
     "metadata": {},
     "output_type": "execute_result"
    },
    {
     "data": {
      "image/png": "[encoded data removed]",
      "text/plain": [
       "<Figure size 432x288 with 2 Axes>"
      ]
     },
     "metadata": {
      "needs_background": "light"
     },
     "output_type": "display_data"
    }
   ],
   "source": [
    "y_pred_train = model.predict(X_train)\n",
    "y_pred_train[y_pred_train<classifier_thresh] = 0\n",
    "y_pred_train[y_pred_train>=classifier_thresh] = 1\n",
    "cm = confusion_matrix(y_train, y_pred_train)\n",
    "disp = ConfusionMatrixDisplay(confusion_matrix=cm,display_labels=['not dead', 'dead'])\n",
    "disp.plot()"
   ]
  },
  {
   "cell_type": "code",
   "execution_count": null,
   "id": "tamJa2_9auIZ",
   "metadata": {
    "colab": {
     "base_uri": "https://localhost:8080/"
    },
    "id": "tamJa2_9auIZ",
    "outputId": "16c0d9ce-b534-46ed-fafe-be9a25714f60"
   },
   "outputs": [
    {
     "name": "stdout",
     "output_type": "stream",
     "text": [
      "0.8140589569160998\n",
      "0.3526522593320236\n",
      "0.4921178889650446\n",
      "0.7683651140981557\n"
     ]
    }
   ],
   "source": [
    "recall_train = recall_score(y_train, y_pred_train)\n",
    "precision_train = precision_score(y_train, y_pred_train)\n",
    "f1_train = f1_score(y_train, y_pred_train)\n",
    "acc_train = accuracy_score(y_train, y_pred_train)\n",
    "print(recall_train)\n",
    "print(precision_train)\n",
    "print(f1_train)\n",
    "print(acc_train)"
   ]
  },
  {
   "cell_type": "code",
   "execution_count": null,
   "id": "WeVcT9TOCW-m",
   "metadata": {
    "id": "WeVcT9TOCW-m"
   },
   "outputs": [],
   "source": []
  }
 ],
 "metadata": {
  "accelerator": "TPU",
  "colab": {
   "provenance": []
  },
  "gpuClass": "standard",
  "kernelspec": {
   "display_name": "Python 3 (ipykernel)",
   "language": "python",
   "name": "python3"
  },
  "language_info": {
   "codemirror_mode": {
    "name": "ipython",
    "version": 3
   },
   "file_extension": ".py",
   "mimetype": "text/x-python",
   "name": "python",
   "nbconvert_exporter": "python",
   "pygments_lexer": "ipython3",
   "version": "3.8.8"
  }
 },
 "nbformat": 4,
 "nbformat_minor": 5
}
