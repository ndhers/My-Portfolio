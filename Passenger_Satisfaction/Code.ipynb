{
 "cells": [
  {
   "cell_type": "markdown",
   "metadata": {
    "cell_id": "ecd670f6505f45859cce95d7091dc4ae",
    "deepnote_cell_height": 82,
    "deepnote_cell_type": "markdown",
    "tags": []
   },
   "source": [
    "# Airline passenger satisfaction"
   ]
  },
  {
   "cell_type": "code",
   "execution_count": null,
   "metadata": {
    "cell_id": "ff5e68052a7b41d5adbb501e16dc5f5f",
    "deepnote_cell_height": 585,
    "deepnote_cell_type": "code",
    "deepnote_to_be_reexecuted": false,
    "execution_millis": 0,
    "execution_start": 1652037782356,
    "source_hash": "b74b3711",
    "tags": []
   },
   "outputs": [],
   "source": [
    "import pandas as pd\n",
    "import numpy as np\n",
    "import seaborn as sns\n",
    "import matplotlib.pyplot as plt\n",
    "import sklearn\n",
    "from sklearn.model_selection import train_test_split\n",
    "from sklearn.impute import KNNImputer\n",
    "from sklearn.feature_selection import SelectKBest\n",
    "from sklearn.feature_selection import f_classif\n",
    "from sklearn.metrics import classification_report\n",
    "from sklearn.ensemble import RandomForestClassifier\n",
    "from sklearn.ensemble import GradientBoostingClassifier\n",
    "from sklearn.ensemble import BaggingClassifier\n",
    "from sklearn.tree import DecisionTreeClassifier\n",
    "from sklearn.linear_model import LogisticRegression\n",
    "from sklearn.preprocessing import StandardScaler\n",
    "from sklearn.metrics import roc_auc_score\n",
    "from sklearn.metrics import accuracy_score\n",
    "from sklearn.metrics import confusion_matrix\n",
    "from sklearn.metrics import plot_confusion_matrix\n",
    "from sklearn.linear_model import LogisticRegressionCV\n",
    "from sklearn.model_selection import GridSearchCV\n",
    "from sklearn.metrics import ConfusionMatrixDisplay\n",
    "from sklearn import svm\n",
    "import tensorflow as tf\n",
    "from tensorflow.keras.models import Sequential\n",
    "from tensorflow.keras.layers import Dense\n",
    "from tensorflow.keras.layers import Dropout\n",
    "from tensorflow.keras.optimizers import SGD, Adam"
   ]
  },
  {
   "cell_type": "markdown",
   "metadata": {
    "cell_id": "e19146ce391f4dbc8e6ec8217a030690",
    "deepnote_cell_height": 130.796875,
    "deepnote_cell_type": "markdown",
    "tags": []
   },
   "source": [
    "## Project Goal:\n",
    "\n",
    "Predict satisfaction of airline customers based on predictors describing both flight conditions as well as customer features."
   ]
  },
  {
   "cell_type": "markdown",
   "metadata": {
    "cell_id": "e80b32223eff408586fc5ab43f828158",
    "deepnote_cell_height": 909.15625,
    "deepnote_cell_type": "markdown",
    "tags": []
   },
   "source": [
    "## Dataset Description:\n",
    "\n",
    "Gender: Gender of the passengers (Female, Male)\n",
    "\n",
    "Customer Type: The customer type (Loyal customer, disloyal customer)\n",
    "\n",
    "Age: The actual age of the passengers\n",
    "\n",
    "Type of Travel: Purpose of the flight of the passengers (Personal Travel, Business Travel)\n",
    "\n",
    "Class: Travel class in the plane of the passengers (Business, Eco, Eco Plus)\n",
    "\n",
    "Flight distance: The flight distance of this journey\n",
    "\n",
    "Inflight wifi service: Satisfaction level of the inflight wifi service (0:Not Applicable;1-5)\n",
    "\n",
    "Departure/Arrival time convenient: Satisfaction level of Departure/Arrival time convenient\n",
    "\n",
    "Ease of Online booking: Satisfaction level of online booking\n",
    "\n",
    "Gate location: Satisfaction level of Gate location\n",
    "\n",
    "Food and drink: Satisfaction level of Food and drink\n",
    "\n",
    "Online boarding: Satisfaction level of online boarding\n",
    "\n",
    "Seat comfort: Satisfaction level of Seat comfort\n",
    "\n",
    "Inflight entertainment: Satisfaction level of inflight entertainment\n",
    "\n",
    "On-board service: Satisfaction level of On-board service\n",
    "\n",
    "Leg room service: Satisfaction level of Leg room service\n",
    "\n",
    "Baggage handling: Satisfaction level of baggage handling\n",
    "\n",
    "Check-in service: Satisfaction level of Check-in service\n",
    "\n",
    "Inflight service: Satisfaction level of inflight service\n",
    "\n",
    "Cleanliness: Satisfaction level of Cleanliness\n",
    "\n",
    "Departure Delay in Minutes: Minutes delayed when departure\n",
    "\n",
    "Arrival Delay in Minutes: Minutes delayed when Arrival\n",
    "\n",
    "Satisfaction: Airline satisfaction level(Satisfaction, neutral or dissatisfaction)"
   ]
  },
  {
   "cell_type": "markdown",
   "metadata": {
    "cell_id": "33ca72e790424f89a41584abed56fdf8",
    "deepnote_cell_height": 70,
    "deepnote_cell_type": "markdown",
    "tags": []
   },
   "source": [
    "## Data processing"
   ]
  },
  {
   "cell_type": "markdown",
   "metadata": {
    "cell_id": "651cacb94e59440db0d8b775c373f297",
    "deepnote_cell_height": 62,
    "deepnote_cell_type": "markdown",
    "tags": []
   },
   "source": [
    "### Loading the dataset"
   ]
  },
  {
   "cell_type": "code",
   "execution_count": null,
   "metadata": {
    "cell_id": "459f840054034be99ab50f9b0d413555",
    "deepnote_cell_height": 243,
    "deepnote_cell_type": "code",
    "deepnote_to_be_reexecuted": false,
    "execution_millis": 295,
    "execution_start": 1652037786353,
    "source_hash": "3a4bd14c",
    "tags": []
   },
   "outputs": [],
   "source": [
    "#Load the train dataset\n",
    "df_train = pd.read_csv(\"train.csv\")\n",
    "df_train = df_train.drop(\"Unnamed: 0\", axis=1)\n",
    "\n",
    "#Load the test dataset\n",
    "df_test = pd.read_csv(\"test.csv\")\n",
    "df_test = df_test.drop(\"Unnamed: 0\", axis=1)\n",
    "\n",
    "#Merging the two datasets\n",
    "full_df = result = pd.concat([df_train,df_test])"
   ]
  },
  {
   "cell_type": "code",
   "execution_count": null,
   "metadata": {
    "cell_id": "e9ba383f644c4eea873900dcec5de4e6",
    "deepnote_cell_height": 395,
    "deepnote_cell_type": "code",
    "deepnote_to_be_reexecuted": false,
    "execution_millis": 75,
    "execution_start": 1652037787523,
    "owner_user_id": "5d7ca990-78a3-488c-8f11-c09d8289e082",
    "source_hash": "1cf84513",
    "tags": []
   },
   "outputs": [
    {
     "data": {
      "application/vnd.deepnote.dataframe.v3+json": {
       "column_count": 24,
       "columns": [
        {
         "dtype": "int64",
         "name": "id",
         "stats": {
          "histogram": [
           {
            "bin_end": 16472.2,
            "bin_start": 5047,
            "count": 1
           },
           {
            "bin_end": 27897.4,
            "bin_start": 16472.2,
            "count": 1
           },
           {
            "bin_end": 39322.600000000006,
            "bin_start": 27897.4,
            "count": 0
           },
           {
            "bin_end": 50747.8,
            "bin_start": 39322.600000000006,
            "count": 0
           },
           {
            "bin_end": 62173,
            "bin_start": 50747.8,
            "count": 0
           },
           {
            "bin_end": 73598.20000000001,
            "bin_start": 62173,
            "count": 1
           },
           {
            "bin_end": 85023.40000000001,
            "bin_start": 73598.20000000001,
            "count": 0
           },
           {
            "bin_end": 96448.6,
            "bin_start": 85023.40000000001,
            "count": 0
           },
           {
            "bin_end": 107873.8,
            "bin_start": 96448.6,
            "count": 0
           },
           {
            "bin_end": 119299,
            "bin_start": 107873.8,
            "count": 2
           }
          ],
          "max": "119299",
          "min": "5047",
          "nan_count": 0,
          "unique_count": 5
         }
        },
        {
         "dtype": "object",
         "name": "Gender",
         "stats": {
          "categories": [
           {
            "count": 3,
            "name": "Male"
           },
           {
            "count": 2,
            "name": "Female"
           }
          ],
          "nan_count": 0,
          "unique_count": 2
         }
        },
        {
         "dtype": "object",
         "name": "Customer Type",
         "stats": {
          "categories": [
           {
            "count": 4,
            "name": "Loyal Customer"
           },
           {
            "count": 1,
            "name": "disloyal Customer"
           }
          ],
          "nan_count": 0,
          "unique_count": 2
         }
        },
        {
         "dtype": "int64",
         "name": "Age",
         "stats": {
          "histogram": [
           {
            "bin_end": 17.8,
            "bin_start": 13,
            "count": 1
           },
           {
            "bin_end": 22.6,
            "bin_start": 17.8,
            "count": 0
           },
           {
            "bin_end": 27.4,
            "bin_start": 22.6,
            "count": 3
           },
           {
            "bin_end": 32.2,
            "bin_start": 27.4,
            "count": 0
           },
           {
            "bin_end": 37,
            "bin_start": 32.2,
            "count": 0
           },
           {
            "bin_end": 41.8,
            "bin_start": 37,
            "count": 0
           },
           {
            "bin_end": 46.6,
            "bin_start": 41.8,
            "count": 0
           },
           {
            "bin_end": 51.4,
            "bin_start": 46.6,
            "count": 0
           },
           {
            "bin_end": 56.199999999999996,
            "bin_start": 51.4,
            "count": 0
           },
           {
            "bin_end": 61,
            "bin_start": 56.199999999999996,
            "count": 1
           }
          ],
          "max": "61",
          "min": "13",
          "nan_count": 0,
          "unique_count": 4
         }
        },
        {
         "dtype": "object",
         "name": "Type of Travel",
         "stats": {
          "categories": [
           {
            "count": 4,
            "name": "Business travel"
           },
           {
            "count": 1,
            "name": "Personal Travel"
           }
          ],
          "nan_count": 0,
          "unique_count": 2
         }
        },
        {
         "dtype": "object",
         "name": "Class",
         "stats": {
          "categories": [
           {
            "count": 4,
            "name": "Business"
           },
           {
            "count": 1,
            "name": "Eco Plus"
           }
          ],
          "nan_count": 0,
          "unique_count": 2
         }
        },
        {
         "dtype": "int64",
         "name": "Flight Distance",
         "stats": {
          "histogram": [
           {
            "bin_end": 306.8,
            "bin_start": 214,
            "count": 2
           },
           {
            "bin_end": 399.6,
            "bin_start": 306.8,
            "count": 0
           },
           {
            "bin_end": 492.4,
            "bin_start": 399.6,
            "count": 1
           },
           {
            "bin_end": 585.2,
            "bin_start": 492.4,
            "count": 1
           },
           {
            "bin_end": 678,
            "bin_start": 585.2,
            "count": 0
           },
           {
            "bin_end": 770.8,
            "bin_start": 678,
            "count": 0
           },
           {
            "bin_end": 863.6,
            "bin_start": 770.8,
            "count": 0
           },
           {
            "bin_end": 956.4,
            "bin_start": 863.6,
            "count": 0
           },
           {
            "bin_end": 1049.1999999999998,
            "bin_start": 956.4,
            "count": 0
           },
           {
            "bin_end": 1142,
            "bin_start": 1049.1999999999998,
            "count": 1
           }
          ],
          "max": "1142",
          "min": "214",
          "nan_count": 0,
          "unique_count": 5
         }
        },
        {
         "dtype": "int64",
         "name": "Inflight wifi service",
         "stats": {
          "histogram": [
           {
            "bin_end": 2.1,
            "bin_start": 2,
            "count": 2
           },
           {
            "bin_end": 2.2,
            "bin_start": 2.1,
            "count": 0
           },
           {
            "bin_end": 2.3,
            "bin_start": 2.2,
            "count": 0
           },
           {
            "bin_end": 2.4,
            "bin_start": 2.3,
            "count": 0
           },
           {
            "bin_end": 2.5,
            "bin_start": 2.4,
            "count": 0
           },
           {
            "bin_end": 2.6,
            "bin_start": 2.5,
            "count": 0
           },
           {
            "bin_end": 2.7,
            "bin_start": 2.6,
            "count": 0
           },
           {
            "bin_end": 2.8,
            "bin_start": 2.7,
            "count": 0
           },
           {
            "bin_end": 2.9,
            "bin_start": 2.8,
            "count": 0
           },
           {
            "bin_end": 3,
            "bin_start": 2.9,
            "count": 3
           }
          ],
          "max": "3",
          "min": "2",
          "nan_count": 0,
          "unique_count": 2
         }
        },
        {
         "dtype": "int64",
         "name": "Departure/Arrival time convenient",
         "stats": {
          "histogram": [
           {
            "bin_end": 2.3,
            "bin_start": 2,
            "count": 2
           },
           {
            "bin_end": 2.6,
            "bin_start": 2.3,
            "count": 0
           },
           {
            "bin_end": 2.9,
            "bin_start": 2.6,
            "count": 0
           },
           {
            "bin_end": 3.2,
            "bin_start": 2.9,
            "count": 1
           },
           {
            "bin_end": 3.5,
            "bin_start": 3.2,
            "count": 0
           },
           {
            "bin_end": 3.8,
            "bin_start": 3.5,
            "count": 0
           },
           {
            "bin_end": 4.1,
            "bin_start": 3.8,
            "count": 1
           },
           {
            "bin_end": 4.4,
            "bin_start": 4.1,
            "count": 0
           },
           {
            "bin_end": 4.699999999999999,
            "bin_start": 4.4,
            "count": 0
           },
           {
            "bin_end": 5,
            "bin_start": 4.699999999999999,
            "count": 1
           }
          ],
          "max": "5",
          "min": "2",
          "nan_count": 0,
          "unique_count": 4
         }
        },
        {
         "dtype": "int64",
         "name": "Ease of Online booking",
         "stats": {
          "histogram": [
           {
            "bin_end": 2.3,
            "bin_start": 2,
            "count": 1
           },
           {
            "bin_end": 2.6,
            "bin_start": 2.3,
            "count": 0
           },
           {
            "bin_end": 2.9,
            "bin_start": 2.6,
            "count": 0
           },
           {
            "bin_end": 3.2,
            "bin_start": 2.9,
            "count": 3
           },
           {
            "bin_end": 3.5,
            "bin_start": 3.2,
            "count": 0
           },
           {
            "bin_end": 3.8,
            "bin_start": 3.5,
            "count": 0
           },
           {
            "bin_end": 4.1,
            "bin_start": 3.8,
            "count": 0
           },
           {
            "bin_end": 4.4,
            "bin_start": 4.1,
            "count": 0
           },
           {
            "bin_end": 4.699999999999999,
            "bin_start": 4.4,
            "count": 0
           },
           {
            "bin_end": 5,
            "bin_start": 4.699999999999999,
            "count": 1
           }
          ],
          "max": "5",
          "min": "2",
          "nan_count": 0,
          "unique_count": 3
         }
        },
        {
         "dtype": "int64",
         "name": "Gate location",
         "stats": {
          "histogram": [
           {
            "bin_end": 1.4,
            "bin_start": 1,
            "count": 1
           },
           {
            "bin_end": 1.8,
            "bin_start": 1.4,
            "count": 0
           },
           {
            "bin_end": 2.2,
            "bin_start": 1.8,
            "count": 1
           },
           {
            "bin_end": 2.6,
            "bin_start": 2.2,
            "count": 0
           },
           {
            "bin_end": 3,
            "bin_start": 2.6,
            "count": 0
           },
           {
            "bin_end": 3.4000000000000004,
            "bin_start": 3,
            "count": 2
           },
           {
            "bin_end": 3.8000000000000003,
            "bin_start": 3.4000000000000004,
            "count": 0
           },
           {
            "bin_end": 4.2,
            "bin_start": 3.8000000000000003,
            "count": 0
           },
           {
            "bin_end": 4.6,
            "bin_start": 4.2,
            "count": 0
           },
           {
            "bin_end": 5,
            "bin_start": 4.6,
            "count": 1
           }
          ],
          "max": "5",
          "min": "1",
          "nan_count": 0,
          "unique_count": 4
         }
        },
        {
         "dtype": "int64",
         "name": "Food and drink",
         "stats": {
          "histogram": [
           {
            "bin_end": 1.4,
            "bin_start": 1,
            "count": 1
           },
           {
            "bin_end": 1.8,
            "bin_start": 1.4,
            "count": 0
           },
           {
            "bin_end": 2.2,
            "bin_start": 1.8,
            "count": 1
           },
           {
            "bin_end": 2.6,
            "bin_start": 2.2,
            "count": 0
           },
           {
            "bin_end": 3,
            "bin_start": 2.6,
            "count": 0
           },
           {
            "bin_end": 3.4000000000000004,
            "bin_start": 3,
            "count": 0
           },
           {
            "bin_end": 3.8000000000000003,
            "bin_start": 3.4000000000000004,
            "count": 0
           },
           {
            "bin_end": 4.2,
            "bin_start": 3.8000000000000003,
            "count": 1
           },
           {
            "bin_end": 4.6,
            "bin_start": 4.2,
            "count": 0
           },
           {
            "bin_end": 5,
            "bin_start": 4.6,
            "count": 2
           }
          ],
          "max": "5",
          "min": "1",
          "nan_count": 0,
          "unique_count": 4
         }
        },
        {
         "dtype": "int64",
         "name": "Online boarding",
         "stats": {
          "histogram": [
           {
            "bin_end": 2.3,
            "bin_start": 2,
            "count": 1
           },
           {
            "bin_end": 2.6,
            "bin_start": 2.3,
            "count": 0
           },
           {
            "bin_end": 2.9,
            "bin_start": 2.6,
            "count": 0
           },
           {
            "bin_end": 3.2,
            "bin_start": 2.9,
            "count": 2
           },
           {
            "bin_end": 3.5,
            "bin_start": 3.2,
            "count": 0
           },
           {
            "bin_end": 3.8,
            "bin_start": 3.5,
            "count": 0
           },
           {
            "bin_end": 4.1,
            "bin_start": 3.8,
            "count": 0
           },
           {
            "bin_end": 4.4,
            "bin_start": 4.1,
            "count": 0
           },
           {
            "bin_end": 4.699999999999999,
            "bin_start": 4.4,
            "count": 0
           },
           {
            "bin_end": 5,
            "bin_start": 4.699999999999999,
            "count": 2
           }
          ],
          "max": "5",
          "min": "2",
          "nan_count": 0,
          "unique_count": 3
         }
        },
        {
         "dtype": "int64",
         "name": "Seat comfort",
         "stats": {
          "histogram": [
           {
            "bin_end": 1.4,
            "bin_start": 1,
            "count": 1
           },
           {
            "bin_end": 1.8,
            "bin_start": 1.4,
            "count": 0
           },
           {
            "bin_end": 2.2,
            "bin_start": 1.8,
            "count": 1
           },
           {
            "bin_end": 2.6,
            "bin_start": 2.2,
            "count": 0
           },
           {
            "bin_end": 3,
            "bin_start": 2.6,
            "count": 0
           },
           {
            "bin_end": 3.4000000000000004,
            "bin_start": 3,
            "count": 0
           },
           {
            "bin_end": 3.8000000000000003,
            "bin_start": 3.4000000000000004,
            "count": 0
           },
           {
            "bin_end": 4.2,
            "bin_start": 3.8000000000000003,
            "count": 0
           },
           {
            "bin_end": 4.6,
            "bin_start": 4.2,
            "count": 0
           },
           {
            "bin_end": 5,
            "bin_start": 4.6,
            "count": 3
           }
          ],
          "max": "5",
          "min": "1",
          "nan_count": 0,
          "unique_count": 3
         }
        },
        {
         "dtype": "int64",
         "name": "Inflight entertainment",
         "stats": {
          "histogram": [
           {
            "bin_end": 1.4,
            "bin_start": 1,
            "count": 1
           },
           {
            "bin_end": 1.8,
            "bin_start": 1.4,
            "count": 0
           },
           {
            "bin_end": 2.2,
            "bin_start": 1.8,
            "count": 1
           },
           {
            "bin_end": 2.6,
            "bin_start": 2.2,
            "count": 0
           },
           {
            "bin_end": 3,
            "bin_start": 2.6,
            "count": 0
           },
           {
            "bin_end": 3.4000000000000004,
            "bin_start": 3,
            "count": 1
           },
           {
            "bin_end": 3.8000000000000003,
            "bin_start": 3.4000000000000004,
            "count": 0
           },
           {
            "bin_end": 4.2,
            "bin_start": 3.8000000000000003,
            "count": 0
           },
           {
            "bin_end": 4.6,
            "bin_start": 4.2,
            "count": 0
           },
           {
            "bin_end": 5,
            "bin_start": 4.6,
            "count": 2
           }
          ],
          "max": "5",
          "min": "1",
          "nan_count": 0,
          "unique_count": 4
         }
        },
        {
         "dtype": "int64",
         "name": "On-board service",
         "stats": {
          "histogram": [
           {
            "bin_end": 1.3,
            "bin_start": 1,
            "count": 1
           },
           {
            "bin_end": 1.6,
            "bin_start": 1.3,
            "count": 0
           },
           {
            "bin_end": 1.9,
            "bin_start": 1.6,
            "count": 0
           },
           {
            "bin_end": 2.2,
            "bin_start": 1.9,
            "count": 1
           },
           {
            "bin_end": 2.5,
            "bin_start": 2.2,
            "count": 0
           },
           {
            "bin_end": 2.8,
            "bin_start": 2.5,
            "count": 0
           },
           {
            "bin_end": 3.1,
            "bin_start": 2.8,
            "count": 1
           },
           {
            "bin_end": 3.4,
            "bin_start": 3.1,
            "count": 0
           },
           {
            "bin_end": 3.6999999999999997,
            "bin_start": 3.4,
            "count": 0
           },
           {
            "bin_end": 4,
            "bin_start": 3.6999999999999997,
            "count": 2
           }
          ],
          "max": "4",
          "min": "1",
          "nan_count": 0,
          "unique_count": 4
         }
        },
        {
         "dtype": "int64",
         "name": "Leg room service",
         "stats": {
          "histogram": [
           {
            "bin_end": 3.2,
            "bin_start": 3,
            "count": 2
           },
           {
            "bin_end": 3.4,
            "bin_start": 3.2,
            "count": 0
           },
           {
            "bin_end": 3.6,
            "bin_start": 3.4,
            "count": 0
           },
           {
            "bin_end": 3.8,
            "bin_start": 3.6,
            "count": 0
           },
           {
            "bin_end": 4,
            "bin_start": 3.8,
            "count": 0
           },
           {
            "bin_end": 4.2,
            "bin_start": 4,
            "count": 1
           },
           {
            "bin_end": 4.4,
            "bin_start": 4.2,
            "count": 0
           },
           {
            "bin_end": 4.6,
            "bin_start": 4.4,
            "count": 0
           },
           {
            "bin_end": 4.8,
            "bin_start": 4.6,
            "count": 0
           },
           {
            "bin_end": 5,
            "bin_start": 4.8,
            "count": 2
           }
          ],
          "max": "5",
          "min": "3",
          "nan_count": 0,
          "unique_count": 3
         }
        },
        {
         "dtype": "int64",
         "name": "Baggage handling",
         "stats": {
          "histogram": [
           {
            "bin_end": 3.1,
            "bin_start": 3,
            "count": 2
           },
           {
            "bin_end": 3.2,
            "bin_start": 3.1,
            "count": 0
           },
           {
            "bin_end": 3.3,
            "bin_start": 3.2,
            "count": 0
           },
           {
            "bin_end": 3.4,
            "bin_start": 3.3,
            "count": 0
           },
           {
            "bin_end": 3.5,
            "bin_start": 3.4,
            "count": 0
           },
           {
            "bin_end": 3.6,
            "bin_start": 3.5,
            "count": 0
           },
           {
            "bin_end": 3.7,
            "bin_start": 3.6,
            "count": 0
           },
           {
            "bin_end": 3.8,
            "bin_start": 3.7,
            "count": 0
           },
           {
            "bin_end": 3.9,
            "bin_start": 3.8,
            "count": 0
           },
           {
            "bin_end": 4,
            "bin_start": 3.9,
            "count": 3
           }
          ],
          "max": "4",
          "min": "3",
          "nan_count": 0,
          "unique_count": 2
         }
        },
        {
         "dtype": "int64",
         "name": "Checkin service",
         "stats": {
          "histogram": [
           {
            "bin_end": 1.3,
            "bin_start": 1,
            "count": 2
           },
           {
            "bin_end": 1.6,
            "bin_start": 1.3,
            "count": 0
           },
           {
            "bin_end": 1.9,
            "bin_start": 1.6,
            "count": 0
           },
           {
            "bin_end": 2.2,
            "bin_start": 1.9,
            "count": 0
           },
           {
            "bin_end": 2.5,
            "bin_start": 2.2,
            "count": 0
           },
           {
            "bin_end": 2.8,
            "bin_start": 2.5,
            "count": 0
           },
           {
            "bin_end": 3.1,
            "bin_start": 2.8,
            "count": 1
           },
           {
            "bin_end": 3.4,
            "bin_start": 3.1,
            "count": 0
           },
           {
            "bin_end": 3.6999999999999997,
            "bin_start": 3.4,
            "count": 0
           },
           {
            "bin_end": 4,
            "bin_start": 3.6999999999999997,
            "count": 2
           }
          ],
          "max": "4",
          "min": "1",
          "nan_count": 0,
          "unique_count": 3
         }
        },
        {
         "dtype": "int64",
         "name": "Inflight service",
         "stats": {
          "histogram": [
           {
            "bin_end": 3.2,
            "bin_start": 3,
            "count": 1
           },
           {
            "bin_end": 3.4,
            "bin_start": 3.2,
            "count": 0
           },
           {
            "bin_end": 3.6,
            "bin_start": 3.4,
            "count": 0
           },
           {
            "bin_end": 3.8,
            "bin_start": 3.6,
            "count": 0
           },
           {
            "bin_end": 4,
            "bin_start": 3.8,
            "count": 0
           },
           {
            "bin_end": 4.2,
            "bin_start": 4,
            "count": 3
           },
           {
            "bin_end": 4.4,
            "bin_start": 4.2,
            "count": 0
           },
           {
            "bin_end": 4.6,
            "bin_start": 4.4,
            "count": 0
           },
           {
            "bin_end": 4.8,
            "bin_start": 4.6,
            "count": 0
           },
           {
            "bin_end": 5,
            "bin_start": 4.8,
            "count": 1
           }
          ],
          "max": "5",
          "min": "3",
          "nan_count": 0,
          "unique_count": 3
         }
        },
        {
         "dtype": "int64",
         "name": "Cleanliness",
         "stats": {
          "histogram": [
           {
            "bin_end": 1.4,
            "bin_start": 1,
            "count": 1
           },
           {
            "bin_end": 1.8,
            "bin_start": 1.4,
            "count": 0
           },
           {
            "bin_end": 2.2,
            "bin_start": 1.8,
            "count": 1
           },
           {
            "bin_end": 2.6,
            "bin_start": 2.2,
            "count": 0
           },
           {
            "bin_end": 3,
            "bin_start": 2.6,
            "count": 0
           },
           {
            "bin_end": 3.4000000000000004,
            "bin_start": 3,
            "count": 1
           },
           {
            "bin_end": 3.8000000000000003,
            "bin_start": 3.4000000000000004,
            "count": 0
           },
           {
            "bin_end": 4.2,
            "bin_start": 3.8000000000000003,
            "count": 0
           },
           {
            "bin_end": 4.6,
            "bin_start": 4.2,
            "count": 0
           },
           {
            "bin_end": 5,
            "bin_start": 4.6,
            "count": 2
           }
          ],
          "max": "5",
          "min": "1",
          "nan_count": 0,
          "unique_count": 4
         }
        },
        {
         "dtype": "int64",
         "name": "Departure Delay in Minutes",
         "stats": {
          "histogram": [
           {
            "bin_end": 2.5,
            "bin_start": 0,
            "count": 3
           },
           {
            "bin_end": 5,
            "bin_start": 2.5,
            "count": 0
           },
           {
            "bin_end": 7.5,
            "bin_start": 5,
            "count": 0
           },
           {
            "bin_end": 10,
            "bin_start": 7.5,
            "count": 0
           },
           {
            "bin_end": 12.5,
            "bin_start": 10,
            "count": 1
           },
           {
            "bin_end": 15,
            "bin_start": 12.5,
            "count": 0
           },
           {
            "bin_end": 17.5,
            "bin_start": 15,
            "count": 0
           },
           {
            "bin_end": 20,
            "bin_start": 17.5,
            "count": 0
           },
           {
            "bin_end": 22.5,
            "bin_start": 20,
            "count": 0
           },
           {
            "bin_end": 25,
            "bin_start": 22.5,
            "count": 1
           }
          ],
          "max": "25",
          "min": "0",
          "nan_count": 0,
          "unique_count": 4
         }
        },
        {
         "dtype": "float64",
         "name": "Arrival Delay in Minutes",
         "stats": {
          "histogram": [
           {
            "bin_end": 1.8,
            "bin_start": 0,
            "count": 2
           },
           {
            "bin_end": 3.6,
            "bin_start": 1.8,
            "count": 0
           },
           {
            "bin_end": 5.4,
            "bin_start": 3.6,
            "count": 0
           },
           {
            "bin_end": 7.2,
            "bin_start": 5.4,
            "count": 1
           },
           {
            "bin_end": 9,
            "bin_start": 7.2,
            "count": 0
           },
           {
            "bin_end": 10.8,
            "bin_start": 9,
            "count": 1
           },
           {
            "bin_end": 12.6,
            "bin_start": 10.8,
            "count": 0
           },
           {
            "bin_end": 14.4,
            "bin_start": 12.6,
            "count": 0
           },
           {
            "bin_end": 16.2,
            "bin_start": 14.4,
            "count": 0
           },
           {
            "bin_end": 18,
            "bin_start": 16.2,
            "count": 1
           }
          ],
          "max": "18.0",
          "min": "0.0",
          "nan_count": 0,
          "unique_count": 4
         }
        },
        {
         "dtype": "object",
         "name": "satisfaction",
         "stats": {
          "categories": [
           {
            "count": 3,
            "name": "neutral or dissatisfied"
           },
           {
            "count": 2,
            "name": "satisfied"
           }
          ],
          "nan_count": 0,
          "unique_count": 2
         }
        },
        {
         "dtype": "int64",
         "name": "_deepnote_index_column"
        }
       ],
       "row_count": 5,
       "rows": [
        {
         "Age": 13,
         "Arrival Delay in Minutes": 18,
         "Baggage handling": 4,
         "Checkin service": 4,
         "Class": "Eco Plus",
         "Cleanliness": 5,
         "Customer Type": "Loyal Customer",
         "Departure Delay in Minutes": 25,
         "Departure/Arrival time convenient": 4,
         "Ease of Online booking": 3,
         "Flight Distance": 460,
         "Food and drink": 5,
         "Gate location": 1,
         "Gender": "Male",
         "Inflight entertainment": 5,
         "Inflight service": 5,
         "Inflight wifi service": 3,
         "Leg room service": 3,
         "On-board service": 4,
         "Online boarding": 3,
         "Seat comfort": 5,
         "Type of Travel": "Personal Travel",
         "_deepnote_index_column": 0,
         "id": 70172,
         "satisfaction": "neutral or dissatisfied"
        },
        {
         "Age": 25,
         "Arrival Delay in Minutes": 6,
         "Baggage handling": 3,
         "Checkin service": 1,
         "Class": "Business",
         "Cleanliness": 1,
         "Customer Type": "disloyal Customer",
         "Departure Delay in Minutes": 1,
         "Departure/Arrival time convenient": 2,
         "Ease of Online booking": 3,
         "Flight Distance": 235,
         "Food and drink": 1,
         "Gate location": 3,
         "Gender": "Male",
         "Inflight entertainment": 1,
         "Inflight service": 4,
         "Inflight wifi service": 3,
         "Leg room service": 5,
         "On-board service": 1,
         "Online boarding": 3,
         "Seat comfort": 1,
         "Type of Travel": "Business travel",
         "_deepnote_index_column": 1,
         "id": 5047,
         "satisfaction": "neutral or dissatisfied"
        },
        {
         "Age": 26,
         "Arrival Delay in Minutes": 0,
         "Baggage handling": 4,
         "Checkin service": 4,
         "Class": "Business",
         "Cleanliness": 5,
         "Customer Type": "Loyal Customer",
         "Departure Delay in Minutes": 0,
         "Departure/Arrival time convenient": 2,
         "Ease of Online booking": 2,
         "Flight Distance": 1142,
         "Food and drink": 5,
         "Gate location": 2,
         "Gender": "Female",
         "Inflight entertainment": 5,
         "Inflight service": 4,
         "Inflight wifi service": 2,
         "Leg room service": 3,
         "On-board service": 4,
         "Online boarding": 5,
         "Seat comfort": 5,
         "Type of Travel": "Business travel",
         "_deepnote_index_column": 2,
         "id": 110028,
         "satisfaction": "satisfied"
        },
        {
         "Age": 25,
         "Arrival Delay in Minutes": 9,
         "Baggage handling": 3,
         "Checkin service": 1,
         "Class": "Business",
         "Cleanliness": 2,
         "Customer Type": "Loyal Customer",
         "Departure Delay in Minutes": 11,
         "Departure/Arrival time convenient": 5,
         "Ease of Online booking": 5,
         "Flight Distance": 562,
         "Food and drink": 2,
         "Gate location": 5,
         "Gender": "Female",
         "Inflight entertainment": 2,
         "Inflight service": 4,
         "Inflight wifi service": 2,
         "Leg room service": 5,
         "On-board service": 2,
         "Online boarding": 2,
         "Seat comfort": 2,
         "Type of Travel": "Business travel",
         "_deepnote_index_column": 3,
         "id": 24026,
         "satisfaction": "neutral or dissatisfied"
        },
        {
         "Age": 61,
         "Arrival Delay in Minutes": 0,
         "Baggage handling": 4,
         "Checkin service": 3,
         "Class": "Business",
         "Cleanliness": 3,
         "Customer Type": "Loyal Customer",
         "Departure Delay in Minutes": 0,
         "Departure/Arrival time convenient": 3,
         "Ease of Online booking": 3,
         "Flight Distance": 214,
         "Food and drink": 4,
         "Gate location": 3,
         "Gender": "Male",
         "Inflight entertainment": 3,
         "Inflight service": 3,
         "Inflight wifi service": 3,
         "Leg room service": 4,
         "On-board service": 3,
         "Online boarding": 5,
         "Seat comfort": 5,
         "Type of Travel": "Business travel",
         "_deepnote_index_column": 4,
         "id": 119299,
         "satisfaction": "satisfied"
        }
       ]
      },
      "text/html": [
       "<div>\n",
       "<style scoped>\n",
       "    .dataframe tbody tr th:only-of-type {\n",
       "        vertical-align: middle;\n",
       "    }\n",
       "\n",
       "    .dataframe tbody tr th {\n",
       "        vertical-align: top;\n",
       "    }\n",
       "\n",
       "    .dataframe thead th {\n",
       "        text-align: right;\n",
       "    }\n",
       "</style>\n",
       "<table border=\"1\" class=\"dataframe\">\n",
       "  <thead>\n",
       "    <tr style=\"text-align: right;\">\n",
       "      <th></th>\n",
       "      <th>id</th>\n",
       "      <th>Gender</th>\n",
       "      <th>Customer Type</th>\n",
       "      <th>Age</th>\n",
       "      <th>Type of Travel</th>\n",
       "      <th>Class</th>\n",
       "      <th>Flight Distance</th>\n",
       "      <th>Inflight wifi service</th>\n",
       "      <th>Departure/Arrival time convenient</th>\n",
       "      <th>Ease of Online booking</th>\n",
       "      <th>...</th>\n",
       "      <th>Inflight entertainment</th>\n",
       "      <th>On-board service</th>\n",
       "      <th>Leg room service</th>\n",
       "      <th>Baggage handling</th>\n",
       "      <th>Checkin service</th>\n",
       "      <th>Inflight service</th>\n",
       "      <th>Cleanliness</th>\n",
       "      <th>Departure Delay in Minutes</th>\n",
       "      <th>Arrival Delay in Minutes</th>\n",
       "      <th>satisfaction</th>\n",
       "    </tr>\n",
       "  </thead>\n",
       "  <tbody>\n",
       "    <tr>\n",
       "      <th>0</th>\n",
       "      <td>70172</td>\n",
       "      <td>Male</td>\n",
       "      <td>Loyal Customer</td>\n",
       "      <td>13</td>\n",
       "      <td>Personal Travel</td>\n",
       "      <td>Eco Plus</td>\n",
       "      <td>460</td>\n",
       "      <td>3</td>\n",
       "      <td>4</td>\n",
       "      <td>3</td>\n",
       "      <td>...</td>\n",
       "      <td>5</td>\n",
       "      <td>4</td>\n",
       "      <td>3</td>\n",
       "      <td>4</td>\n",
       "      <td>4</td>\n",
       "      <td>5</td>\n",
       "      <td>5</td>\n",
       "      <td>25</td>\n",
       "      <td>18.0</td>\n",
       "      <td>neutral or dissatisfied</td>\n",
       "    </tr>\n",
       "    <tr>\n",
       "      <th>1</th>\n",
       "      <td>5047</td>\n",
       "      <td>Male</td>\n",
       "      <td>disloyal Customer</td>\n",
       "      <td>25</td>\n",
       "      <td>Business travel</td>\n",
       "      <td>Business</td>\n",
       "      <td>235</td>\n",
       "      <td>3</td>\n",
       "      <td>2</td>\n",
       "      <td>3</td>\n",
       "      <td>...</td>\n",
       "      <td>1</td>\n",
       "      <td>1</td>\n",
       "      <td>5</td>\n",
       "      <td>3</td>\n",
       "      <td>1</td>\n",
       "      <td>4</td>\n",
       "      <td>1</td>\n",
       "      <td>1</td>\n",
       "      <td>6.0</td>\n",
       "      <td>neutral or dissatisfied</td>\n",
       "    </tr>\n",
       "    <tr>\n",
       "      <th>2</th>\n",
       "      <td>110028</td>\n",
       "      <td>Female</td>\n",
       "      <td>Loyal Customer</td>\n",
       "      <td>26</td>\n",
       "      <td>Business travel</td>\n",
       "      <td>Business</td>\n",
       "      <td>1142</td>\n",
       "      <td>2</td>\n",
       "      <td>2</td>\n",
       "      <td>2</td>\n",
       "      <td>...</td>\n",
       "      <td>5</td>\n",
       "      <td>4</td>\n",
       "      <td>3</td>\n",
       "      <td>4</td>\n",
       "      <td>4</td>\n",
       "      <td>4</td>\n",
       "      <td>5</td>\n",
       "      <td>0</td>\n",
       "      <td>0.0</td>\n",
       "      <td>satisfied</td>\n",
       "    </tr>\n",
       "    <tr>\n",
       "      <th>3</th>\n",
       "      <td>24026</td>\n",
       "      <td>Female</td>\n",
       "      <td>Loyal Customer</td>\n",
       "      <td>25</td>\n",
       "      <td>Business travel</td>\n",
       "      <td>Business</td>\n",
       "      <td>562</td>\n",
       "      <td>2</td>\n",
       "      <td>5</td>\n",
       "      <td>5</td>\n",
       "      <td>...</td>\n",
       "      <td>2</td>\n",
       "      <td>2</td>\n",
       "      <td>5</td>\n",
       "      <td>3</td>\n",
       "      <td>1</td>\n",
       "      <td>4</td>\n",
       "      <td>2</td>\n",
       "      <td>11</td>\n",
       "      <td>9.0</td>\n",
       "      <td>neutral or dissatisfied</td>\n",
       "    </tr>\n",
       "    <tr>\n",
       "      <th>4</th>\n",
       "      <td>119299</td>\n",
       "      <td>Male</td>\n",
       "      <td>Loyal Customer</td>\n",
       "      <td>61</td>\n",
       "      <td>Business travel</td>\n",
       "      <td>Business</td>\n",
       "      <td>214</td>\n",
       "      <td>3</td>\n",
       "      <td>3</td>\n",
       "      <td>3</td>\n",
       "      <td>...</td>\n",
       "      <td>3</td>\n",
       "      <td>3</td>\n",
       "      <td>4</td>\n",
       "      <td>4</td>\n",
       "      <td>3</td>\n",
       "      <td>3</td>\n",
       "      <td>3</td>\n",
       "      <td>0</td>\n",
       "      <td>0.0</td>\n",
       "      <td>satisfied</td>\n",
       "    </tr>\n",
       "  </tbody>\n",
       "</table>\n",
       "<p>5 rows × 24 columns</p>\n",
       "</div>"
      ],
      "text/plain": [
       "       id  Gender      Customer Type  Age   Type of Travel     Class  \\\n",
       "0   70172    Male     Loyal Customer   13  Personal Travel  Eco Plus   \n",
       "1    5047    Male  disloyal Customer   25  Business travel  Business   \n",
       "2  110028  Female     Loyal Customer   26  Business travel  Business   \n",
       "3   24026  Female     Loyal Customer   25  Business travel  Business   \n",
       "4  119299    Male     Loyal Customer   61  Business travel  Business   \n",
       "\n",
       "   Flight Distance  Inflight wifi service  Departure/Arrival time convenient  \\\n",
       "0              460                      3                                  4   \n",
       "1              235                      3                                  2   \n",
       "2             1142                      2                                  2   \n",
       "3              562                      2                                  5   \n",
       "4              214                      3                                  3   \n",
       "\n",
       "   Ease of Online booking  ...  Inflight entertainment  On-board service  \\\n",
       "0                       3  ...                       5                 4   \n",
       "1                       3  ...                       1                 1   \n",
       "2                       2  ...                       5                 4   \n",
       "3                       5  ...                       2                 2   \n",
       "4                       3  ...                       3                 3   \n",
       "\n",
       "   Leg room service  Baggage handling  Checkin service  Inflight service  \\\n",
       "0                 3                 4                4                 5   \n",
       "1                 5                 3                1                 4   \n",
       "2                 3                 4                4                 4   \n",
       "3                 5                 3                1                 4   \n",
       "4                 4                 4                3                 3   \n",
       "\n",
       "   Cleanliness  Departure Delay in Minutes  Arrival Delay in Minutes  \\\n",
       "0            5                          25                      18.0   \n",
       "1            1                           1                       6.0   \n",
       "2            5                           0                       0.0   \n",
       "3            2                          11                       9.0   \n",
       "4            3                           0                       0.0   \n",
       "\n",
       "              satisfaction  \n",
       "0  neutral or dissatisfied  \n",
       "1  neutral or dissatisfied  \n",
       "2                satisfied  \n",
       "3  neutral or dissatisfied  \n",
       "4                satisfied  \n",
       "\n",
       "[5 rows x 24 columns]"
      ]
     },
     "execution_count": 50,
     "metadata": {},
     "output_type": "execute_result"
    }
   ],
   "source": [
    "full_df.head()"
   ]
  },
  {
   "cell_type": "markdown",
   "metadata": {
    "cell_id": "25f63cfab74f464a89c1e0e409db0d00",
    "deepnote_cell_height": 62,
    "deepnote_cell_type": "markdown",
    "tags": []
   },
   "source": [
    "### Information about the dataset"
   ]
  },
  {
   "cell_type": "code",
   "execution_count": null,
   "metadata": {
    "cell_id": "7e7110537f5046bfa65ce9a156661eee",
    "deepnote_cell_height": 518,
    "deepnote_cell_type": "code",
    "deepnote_to_be_reexecuted": false,
    "execution_millis": 310,
    "execution_start": 1652037794177,
    "source_hash": "f01940df",
    "tags": []
   },
   "outputs": [
    {
     "data": {
      "application/vnd.deepnote.dataframe.v3+json": {
       "column_count": 19,
       "columns": [
        {
         "dtype": "float64",
         "name": "id",
         "stats": {
          "histogram": [
           {
            "bin_end": 12988.9,
            "bin_start": 1,
            "count": 1
           },
           {
            "bin_end": 25976.8,
            "bin_start": 12988.9,
            "count": 0
           },
           {
            "bin_end": 38964.7,
            "bin_start": 25976.8,
            "count": 2
           },
           {
            "bin_end": 51952.6,
            "bin_start": 38964.7,
            "count": 0
           },
           {
            "bin_end": 64940.5,
            "bin_start": 51952.6,
            "count": 0
           },
           {
            "bin_end": 77928.4,
            "bin_start": 64940.5,
            "count": 2
           },
           {
            "bin_end": 90916.3,
            "bin_start": 77928.4,
            "count": 0
           },
           {
            "bin_end": 103904.2,
            "bin_start": 90916.3,
            "count": 1
           },
           {
            "bin_end": 116892.09999999999,
            "bin_start": 103904.2,
            "count": 0
           },
           {
            "bin_end": 129880,
            "bin_start": 116892.09999999999,
            "count": 2
           }
          ],
          "max": "129880.0",
          "min": "1.0",
          "nan_count": 0,
          "unique_count": 6
         }
        },
        {
         "dtype": "float64",
         "name": "Age",
         "stats": {
          "histogram": [
           {
            "bin_end": 12994.3,
            "bin_start": 7,
            "count": 7
           },
           {
            "bin_end": 25981.6,
            "bin_start": 12994.3,
            "count": 0
           },
           {
            "bin_end": 38968.899999999994,
            "bin_start": 25981.6,
            "count": 0
           },
           {
            "bin_end": 51956.2,
            "bin_start": 38968.899999999994,
            "count": 0
           },
           {
            "bin_end": 64943.5,
            "bin_start": 51956.2,
            "count": 0
           },
           {
            "bin_end": 77930.79999999999,
            "bin_start": 64943.5,
            "count": 0
           },
           {
            "bin_end": 90918.09999999999,
            "bin_start": 77930.79999999999,
            "count": 0
           },
           {
            "bin_end": 103905.4,
            "bin_start": 90918.09999999999,
            "count": 0
           },
           {
            "bin_end": 116892.7,
            "bin_start": 103905.4,
            "count": 0
           },
           {
            "bin_end": 129880,
            "bin_start": 116892.7,
            "count": 1
           }
          ],
          "max": "129880.0",
          "min": "7.0",
          "nan_count": 0,
          "unique_count": 8
         }
        },
        {
         "dtype": "float64",
         "name": "Flight Distance",
         "stats": {
          "histogram": [
           {
            "bin_end": 13015.9,
            "bin_start": 31,
            "count": 7
           },
           {
            "bin_end": 26000.8,
            "bin_start": 13015.9,
            "count": 0
           },
           {
            "bin_end": 38985.7,
            "bin_start": 26000.8,
            "count": 0
           },
           {
            "bin_end": 51970.6,
            "bin_start": 38985.7,
            "count": 0
           },
           {
            "bin_end": 64955.5,
            "bin_start": 51970.6,
            "count": 0
           },
           {
            "bin_end": 77940.4,
            "bin_start": 64955.5,
            "count": 0
           },
           {
            "bin_end": 90925.3,
            "bin_start": 77940.4,
            "count": 0
           },
           {
            "bin_end": 103910.2,
            "bin_start": 90925.3,
            "count": 0
           },
           {
            "bin_end": 116895.09999999999,
            "bin_start": 103910.2,
            "count": 0
           },
           {
            "bin_end": 129880,
            "bin_start": 116895.09999999999,
            "count": 1
           }
          ],
          "max": "129880.0",
          "min": "31.0",
          "nan_count": 0,
          "unique_count": 8
         }
        },
        {
         "dtype": "float64",
         "name": "Inflight wifi service",
         "stats": {
          "histogram": [
           {
            "bin_end": 12988,
            "bin_start": 0,
            "count": 7
           },
           {
            "bin_end": 25976,
            "bin_start": 12988,
            "count": 0
           },
           {
            "bin_end": 38964,
            "bin_start": 25976,
            "count": 0
           },
           {
            "bin_end": 51952,
            "bin_start": 38964,
            "count": 0
           },
           {
            "bin_end": 64940,
            "bin_start": 51952,
            "count": 0
           },
           {
            "bin_end": 77928,
            "bin_start": 64940,
            "count": 0
           },
           {
            "bin_end": 90916,
            "bin_start": 77928,
            "count": 0
           },
           {
            "bin_end": 103904,
            "bin_start": 90916,
            "count": 0
           },
           {
            "bin_end": 116892,
            "bin_start": 103904,
            "count": 0
           },
           {
            "bin_end": 129880,
            "bin_start": 116892,
            "count": 1
           }
          ],
          "max": "129880.0",
          "min": "0.0",
          "nan_count": 0,
          "unique_count": 8
         }
        },
        {
         "dtype": "float64",
         "name": "Departure/Arrival time convenient",
         "stats": {
          "histogram": [
           {
            "bin_end": 12988,
            "bin_start": 0,
            "count": 7
           },
           {
            "bin_end": 25976,
            "bin_start": 12988,
            "count": 0
           },
           {
            "bin_end": 38964,
            "bin_start": 25976,
            "count": 0
           },
           {
            "bin_end": 51952,
            "bin_start": 38964,
            "count": 0
           },
           {
            "bin_end": 64940,
            "bin_start": 51952,
            "count": 0
           },
           {
            "bin_end": 77928,
            "bin_start": 64940,
            "count": 0
           },
           {
            "bin_end": 90916,
            "bin_start": 77928,
            "count": 0
           },
           {
            "bin_end": 103904,
            "bin_start": 90916,
            "count": 0
           },
           {
            "bin_end": 116892,
            "bin_start": 103904,
            "count": 0
           },
           {
            "bin_end": 129880,
            "bin_start": 116892,
            "count": 1
           }
          ],
          "max": "129880.0",
          "min": "0.0",
          "nan_count": 0,
          "unique_count": 8
         }
        },
        {
         "dtype": "float64",
         "name": "Ease of Online booking",
         "stats": {
          "histogram": [
           {
            "bin_end": 12988,
            "bin_start": 0,
            "count": 7
           },
           {
            "bin_end": 25976,
            "bin_start": 12988,
            "count": 0
           },
           {
            "bin_end": 38964,
            "bin_start": 25976,
            "count": 0
           },
           {
            "bin_end": 51952,
            "bin_start": 38964,
            "count": 0
           },
           {
            "bin_end": 64940,
            "bin_start": 51952,
            "count": 0
           },
           {
            "bin_end": 77928,
            "bin_start": 64940,
            "count": 0
           },
           {
            "bin_end": 90916,
            "bin_start": 77928,
            "count": 0
           },
           {
            "bin_end": 103904,
            "bin_start": 90916,
            "count": 0
           },
           {
            "bin_end": 116892,
            "bin_start": 103904,
            "count": 0
           },
           {
            "bin_end": 129880,
            "bin_start": 116892,
            "count": 1
           }
          ],
          "max": "129880.0",
          "min": "0.0",
          "nan_count": 0,
          "unique_count": 8
         }
        },
        {
         "dtype": "float64",
         "name": "Gate location",
         "stats": {
          "histogram": [
           {
            "bin_end": 12988,
            "bin_start": 0,
            "count": 7
           },
           {
            "bin_end": 25976,
            "bin_start": 12988,
            "count": 0
           },
           {
            "bin_end": 38964,
            "bin_start": 25976,
            "count": 0
           },
           {
            "bin_end": 51952,
            "bin_start": 38964,
            "count": 0
           },
           {
            "bin_end": 64940,
            "bin_start": 51952,
            "count": 0
           },
           {
            "bin_end": 77928,
            "bin_start": 64940,
            "count": 0
           },
           {
            "bin_end": 90916,
            "bin_start": 77928,
            "count": 0
           },
           {
            "bin_end": 103904,
            "bin_start": 90916,
            "count": 0
           },
           {
            "bin_end": 116892,
            "bin_start": 103904,
            "count": 0
           },
           {
            "bin_end": 129880,
            "bin_start": 116892,
            "count": 1
           }
          ],
          "max": "129880.0",
          "min": "0.0",
          "nan_count": 0,
          "unique_count": 8
         }
        },
        {
         "dtype": "float64",
         "name": "Food and drink",
         "stats": {
          "histogram": [
           {
            "bin_end": 12988,
            "bin_start": 0,
            "count": 7
           },
           {
            "bin_end": 25976,
            "bin_start": 12988,
            "count": 0
           },
           {
            "bin_end": 38964,
            "bin_start": 25976,
            "count": 0
           },
           {
            "bin_end": 51952,
            "bin_start": 38964,
            "count": 0
           },
           {
            "bin_end": 64940,
            "bin_start": 51952,
            "count": 0
           },
           {
            "bin_end": 77928,
            "bin_start": 64940,
            "count": 0
           },
           {
            "bin_end": 90916,
            "bin_start": 77928,
            "count": 0
           },
           {
            "bin_end": 103904,
            "bin_start": 90916,
            "count": 0
           },
           {
            "bin_end": 116892,
            "bin_start": 103904,
            "count": 0
           },
           {
            "bin_end": 129880,
            "bin_start": 116892,
            "count": 1
           }
          ],
          "max": "129880.0",
          "min": "0.0",
          "nan_count": 0,
          "unique_count": 8
         }
        },
        {
         "dtype": "float64",
         "name": "Online boarding",
         "stats": {
          "histogram": [
           {
            "bin_end": 12988,
            "bin_start": 0,
            "count": 7
           },
           {
            "bin_end": 25976,
            "bin_start": 12988,
            "count": 0
           },
           {
            "bin_end": 38964,
            "bin_start": 25976,
            "count": 0
           },
           {
            "bin_end": 51952,
            "bin_start": 38964,
            "count": 0
           },
           {
            "bin_end": 64940,
            "bin_start": 51952,
            "count": 0
           },
           {
            "bin_end": 77928,
            "bin_start": 64940,
            "count": 0
           },
           {
            "bin_end": 90916,
            "bin_start": 77928,
            "count": 0
           },
           {
            "bin_end": 103904,
            "bin_start": 90916,
            "count": 0
           },
           {
            "bin_end": 116892,
            "bin_start": 103904,
            "count": 0
           },
           {
            "bin_end": 129880,
            "bin_start": 116892,
            "count": 1
           }
          ],
          "max": "129880.0",
          "min": "0.0",
          "nan_count": 0,
          "unique_count": 8
         }
        },
        {
         "dtype": "float64",
         "name": "Seat comfort",
         "stats": {
          "histogram": [
           {
            "bin_end": 12988,
            "bin_start": 0,
            "count": 7
           },
           {
            "bin_end": 25976,
            "bin_start": 12988,
            "count": 0
           },
           {
            "bin_end": 38964,
            "bin_start": 25976,
            "count": 0
           },
           {
            "bin_end": 51952,
            "bin_start": 38964,
            "count": 0
           },
           {
            "bin_end": 64940,
            "bin_start": 51952,
            "count": 0
           },
           {
            "bin_end": 77928,
            "bin_start": 64940,
            "count": 0
           },
           {
            "bin_end": 90916,
            "bin_start": 77928,
            "count": 0
           },
           {
            "bin_end": 103904,
            "bin_start": 90916,
            "count": 0
           },
           {
            "bin_end": 116892,
            "bin_start": 103904,
            "count": 0
           },
           {
            "bin_end": 129880,
            "bin_start": 116892,
            "count": 1
           }
          ],
          "max": "129880.0",
          "min": "0.0",
          "nan_count": 0,
          "unique_count": 7
         }
        },
        {
         "dtype": "float64",
         "name": "Inflight entertainment",
         "stats": {
          "histogram": [
           {
            "bin_end": 12988,
            "bin_start": 0,
            "count": 7
           },
           {
            "bin_end": 25976,
            "bin_start": 12988,
            "count": 0
           },
           {
            "bin_end": 38964,
            "bin_start": 25976,
            "count": 0
           },
           {
            "bin_end": 51952,
            "bin_start": 38964,
            "count": 0
           },
           {
            "bin_end": 64940,
            "bin_start": 51952,
            "count": 0
           },
           {
            "bin_end": 77928,
            "bin_start": 64940,
            "count": 0
           },
           {
            "bin_end": 90916,
            "bin_start": 77928,
            "count": 0
           },
           {
            "bin_end": 103904,
            "bin_start": 90916,
            "count": 0
           },
           {
            "bin_end": 116892,
            "bin_start": 103904,
            "count": 0
           },
           {
            "bin_end": 129880,
            "bin_start": 116892,
            "count": 1
           }
          ],
          "max": "129880.0",
          "min": "0.0",
          "nan_count": 0,
          "unique_count": 7
         }
        },
        {
         "dtype": "float64",
         "name": "On-board service",
         "stats": {
          "histogram": [
           {
            "bin_end": 12988,
            "bin_start": 0,
            "count": 7
           },
           {
            "bin_end": 25976,
            "bin_start": 12988,
            "count": 0
           },
           {
            "bin_end": 38964,
            "bin_start": 25976,
            "count": 0
           },
           {
            "bin_end": 51952,
            "bin_start": 38964,
            "count": 0
           },
           {
            "bin_end": 64940,
            "bin_start": 51952,
            "count": 0
           },
           {
            "bin_end": 77928,
            "bin_start": 64940,
            "count": 0
           },
           {
            "bin_end": 90916,
            "bin_start": 77928,
            "count": 0
           },
           {
            "bin_end": 103904,
            "bin_start": 90916,
            "count": 0
           },
           {
            "bin_end": 116892,
            "bin_start": 103904,
            "count": 0
           },
           {
            "bin_end": 129880,
            "bin_start": 116892,
            "count": 1
           }
          ],
          "max": "129880.0",
          "min": "0.0",
          "nan_count": 0,
          "unique_count": 7
         }
        },
        {
         "dtype": "float64",
         "name": "Leg room service",
         "stats": {
          "histogram": [
           {
            "bin_end": 12988,
            "bin_start": 0,
            "count": 7
           },
           {
            "bin_end": 25976,
            "bin_start": 12988,
            "count": 0
           },
           {
            "bin_end": 38964,
            "bin_start": 25976,
            "count": 0
           },
           {
            "bin_end": 51952,
            "bin_start": 38964,
            "count": 0
           },
           {
            "bin_end": 64940,
            "bin_start": 51952,
            "count": 0
           },
           {
            "bin_end": 77928,
            "bin_start": 64940,
            "count": 0
           },
           {
            "bin_end": 90916,
            "bin_start": 77928,
            "count": 0
           },
           {
            "bin_end": 103904,
            "bin_start": 90916,
            "count": 0
           },
           {
            "bin_end": 116892,
            "bin_start": 103904,
            "count": 0
           },
           {
            "bin_end": 129880,
            "bin_start": 116892,
            "count": 1
           }
          ],
          "max": "129880.0",
          "min": "0.0",
          "nan_count": 0,
          "unique_count": 7
         }
        },
        {
         "dtype": "float64",
         "name": "Baggage handling",
         "stats": {
          "histogram": [
           {
            "bin_end": 12988.9,
            "bin_start": 1,
            "count": 7
           },
           {
            "bin_end": 25976.8,
            "bin_start": 12988.9,
            "count": 0
           },
           {
            "bin_end": 38964.7,
            "bin_start": 25976.8,
            "count": 0
           },
           {
            "bin_end": 51952.6,
            "bin_start": 38964.7,
            "count": 0
           },
           {
            "bin_end": 64940.5,
            "bin_start": 51952.6,
            "count": 0
           },
           {
            "bin_end": 77928.4,
            "bin_start": 64940.5,
            "count": 0
           },
           {
            "bin_end": 90916.3,
            "bin_start": 77928.4,
            "count": 0
           },
           {
            "bin_end": 103904.2,
            "bin_start": 90916.3,
            "count": 0
           },
           {
            "bin_end": 116892.09999999999,
            "bin_start": 103904.2,
            "count": 0
           },
           {
            "bin_end": 129880,
            "bin_start": 116892.09999999999,
            "count": 1
           }
          ],
          "max": "129880.0",
          "min": "1.0",
          "nan_count": 0,
          "unique_count": 7
         }
        },
        {
         "dtype": "float64",
         "name": "Checkin service",
         "stats": {
          "histogram": [
           {
            "bin_end": 12988,
            "bin_start": 0,
            "count": 7
           },
           {
            "bin_end": 25976,
            "bin_start": 12988,
            "count": 0
           },
           {
            "bin_end": 38964,
            "bin_start": 25976,
            "count": 0
           },
           {
            "bin_end": 51952,
            "bin_start": 38964,
            "count": 0
           },
           {
            "bin_end": 64940,
            "bin_start": 51952,
            "count": 0
           },
           {
            "bin_end": 77928,
            "bin_start": 64940,
            "count": 0
           },
           {
            "bin_end": 90916,
            "bin_start": 77928,
            "count": 0
           },
           {
            "bin_end": 103904,
            "bin_start": 90916,
            "count": 0
           },
           {
            "bin_end": 116892,
            "bin_start": 103904,
            "count": 0
           },
           {
            "bin_end": 129880,
            "bin_start": 116892,
            "count": 1
           }
          ],
          "max": "129880.0",
          "min": "0.0",
          "nan_count": 0,
          "unique_count": 7
         }
        },
        {
         "dtype": "float64",
         "name": "Inflight service",
         "stats": {
          "histogram": [
           {
            "bin_end": 12988,
            "bin_start": 0,
            "count": 7
           },
           {
            "bin_end": 25976,
            "bin_start": 12988,
            "count": 0
           },
           {
            "bin_end": 38964,
            "bin_start": 25976,
            "count": 0
           },
           {
            "bin_end": 51952,
            "bin_start": 38964,
            "count": 0
           },
           {
            "bin_end": 64940,
            "bin_start": 51952,
            "count": 0
           },
           {
            "bin_end": 77928,
            "bin_start": 64940,
            "count": 0
           },
           {
            "bin_end": 90916,
            "bin_start": 77928,
            "count": 0
           },
           {
            "bin_end": 103904,
            "bin_start": 90916,
            "count": 0
           },
           {
            "bin_end": 116892,
            "bin_start": 103904,
            "count": 0
           },
           {
            "bin_end": 129880,
            "bin_start": 116892,
            "count": 1
           }
          ],
          "max": "129880.0",
          "min": "0.0",
          "nan_count": 0,
          "unique_count": 7
         }
        },
        {
         "dtype": "float64",
         "name": "Cleanliness",
         "stats": {
          "histogram": [
           {
            "bin_end": 12988,
            "bin_start": 0,
            "count": 7
           },
           {
            "bin_end": 25976,
            "bin_start": 12988,
            "count": 0
           },
           {
            "bin_end": 38964,
            "bin_start": 25976,
            "count": 0
           },
           {
            "bin_end": 51952,
            "bin_start": 38964,
            "count": 0
           },
           {
            "bin_end": 64940,
            "bin_start": 51952,
            "count": 0
           },
           {
            "bin_end": 77928,
            "bin_start": 64940,
            "count": 0
           },
           {
            "bin_end": 90916,
            "bin_start": 77928,
            "count": 0
           },
           {
            "bin_end": 103904,
            "bin_start": 90916,
            "count": 0
           },
           {
            "bin_end": 116892,
            "bin_start": 103904,
            "count": 0
           },
           {
            "bin_end": 129880,
            "bin_start": 116892,
            "count": 1
           }
          ],
          "max": "129880.0",
          "min": "0.0",
          "nan_count": 0,
          "unique_count": 8
         }
        },
        {
         "dtype": "float64",
         "name": "Departure Delay in Minutes",
         "stats": {
          "histogram": [
           {
            "bin_end": 12988,
            "bin_start": 0,
            "count": 7
           },
           {
            "bin_end": 25976,
            "bin_start": 12988,
            "count": 0
           },
           {
            "bin_end": 38964,
            "bin_start": 25976,
            "count": 0
           },
           {
            "bin_end": 51952,
            "bin_start": 38964,
            "count": 0
           },
           {
            "bin_end": 64940,
            "bin_start": 51952,
            "count": 0
           },
           {
            "bin_end": 77928,
            "bin_start": 64940,
            "count": 0
           },
           {
            "bin_end": 90916,
            "bin_start": 77928,
            "count": 0
           },
           {
            "bin_end": 103904,
            "bin_start": 90916,
            "count": 0
           },
           {
            "bin_end": 116892,
            "bin_start": 103904,
            "count": 0
           },
           {
            "bin_end": 129880,
            "bin_start": 116892,
            "count": 1
           }
          ],
          "max": "129880.0",
          "min": "0.0",
          "nan_count": 0,
          "unique_count": 6
         }
        },
        {
         "dtype": "float64",
         "name": "Arrival Delay in Minutes",
         "stats": {
          "histogram": [
           {
            "bin_end": 12948.7,
            "bin_start": 0,
            "count": 7
           },
           {
            "bin_end": 25897.4,
            "bin_start": 12948.7,
            "count": 0
           },
           {
            "bin_end": 38846.100000000006,
            "bin_start": 25897.4,
            "count": 0
           },
           {
            "bin_end": 51794.8,
            "bin_start": 38846.100000000006,
            "count": 0
           },
           {
            "bin_end": 64743.5,
            "bin_start": 51794.8,
            "count": 0
           },
           {
            "bin_end": 77692.20000000001,
            "bin_start": 64743.5,
            "count": 0
           },
           {
            "bin_end": 90640.90000000001,
            "bin_start": 77692.20000000001,
            "count": 0
           },
           {
            "bin_end": 103589.6,
            "bin_start": 90640.90000000001,
            "count": 0
           },
           {
            "bin_end": 116538.3,
            "bin_start": 103589.6,
            "count": 0
           },
           {
            "bin_end": 129487,
            "bin_start": 116538.3,
            "count": 1
           }
          ],
          "max": "129487.0",
          "min": "0.0",
          "nan_count": 0,
          "unique_count": 6
         }
        },
        {
         "dtype": "object",
         "name": "_deepnote_index_column"
        }
       ],
       "row_count": 8,
       "rows": [
        {
         "Age": 129880,
         "Arrival Delay in Minutes": 129487,
         "Baggage handling": 129880,
         "Checkin service": 129880,
         "Cleanliness": 129880,
         "Departure Delay in Minutes": 129880,
         "Departure/Arrival time convenient": 129880,
         "Ease of Online booking": 129880,
         "Flight Distance": 129880,
         "Food and drink": 129880,
         "Gate location": 129880,
         "Inflight entertainment": 129880,
         "Inflight service": 129880,
         "Inflight wifi service": 129880,
         "Leg room service": 129880,
         "On-board service": 129880,
         "Online boarding": 129880,
         "Seat comfort": 129880,
         "_deepnote_index_column": "count",
         "id": 129880
        },
        {
         "Age": 39.42795657530028,
         "Arrival Delay in Minutes": 15.09112883918849,
         "Baggage handling": 3.632114259316292,
         "Checkin service": 3.3062673236834,
         "Cleanliness": 3.286325839236218,
         "Departure Delay in Minutes": 14.713712657838004,
         "Departure/Arrival time convenient": 3.0575993224514937,
         "Ease of Online booking": 2.7568755774561136,
         "Flight Distance": 1190.3163920542038,
         "Food and drink": 3.2047736372035724,
         "Gate location": 2.976924853711118,
         "Inflight entertainment": 3.358076686171851,
         "Inflight service": 3.6421927933477054,
         "Inflight wifi service": 2.7286957191253465,
         "Leg room service": 3.3508777332922697,
         "On-board service": 3.3830227902679395,
         "Online boarding": 3.252633199876809,
         "Seat comfort": 3.4413612565445026,
         "_deepnote_index_column": "mean",
         "id": 64940.5
        },
        {
         "Age": 15.119359950371694,
         "Arrival Delay in Minutes": 38.4656502401191,
         "Baggage handling": 1.1800245722386569,
         "Checkin service": 1.2661853329512256,
         "Cleanliness": 1.3136822346517028,
         "Departure Delay in Minutes": 38.07112621503653,
         "Departure/Arrival time convenient": 1.5267414852348664,
         "Ease of Online booking": 1.4017396056161733,
         "Flight Distance": 997.4524773267642,
         "Food and drink": 1.3299330685961785,
         "Gate location": 1.2785196725585524,
         "Inflight entertainment": 1.3340489832018483,
         "Inflight service": 1.1766690733250007,
         "Inflight wifi service": 1.3293401359716595,
         "Leg room service": 1.316251772457139,
         "On-board service": 1.2870993531870345,
         "Online boarding": 1.3507187739855575,
         "Seat comfort": 1.3192888837203363,
         "_deepnote_index_column": "std",
         "id": 37493.27081846377
        },
        {
         "Age": 7,
         "Arrival Delay in Minutes": 0,
         "Baggage handling": 1,
         "Checkin service": 0,
         "Cleanliness": 0,
         "Departure Delay in Minutes": 0,
         "Departure/Arrival time convenient": 0,
         "Ease of Online booking": 0,
         "Flight Distance": 31,
         "Food and drink": 0,
         "Gate location": 0,
         "Inflight entertainment": 0,
         "Inflight service": 0,
         "Inflight wifi service": 0,
         "Leg room service": 0,
         "On-board service": 0,
         "Online boarding": 0,
         "Seat comfort": 0,
         "_deepnote_index_column": "min",
         "id": 1
        },
        {
         "Age": 27,
         "Arrival Delay in Minutes": 0,
         "Baggage handling": 3,
         "Checkin service": 3,
         "Cleanliness": 2,
         "Departure Delay in Minutes": 0,
         "Departure/Arrival time convenient": 2,
         "Ease of Online booking": 2,
         "Flight Distance": 414,
         "Food and drink": 2,
         "Gate location": 2,
         "Inflight entertainment": 2,
         "Inflight service": 3,
         "Inflight wifi service": 2,
         "Leg room service": 2,
         "On-board service": 2,
         "Online boarding": 2,
         "Seat comfort": 2,
         "_deepnote_index_column": "25%",
         "id": 32470.75
        },
        {
         "Age": 40,
         "Arrival Delay in Minutes": 0,
         "Baggage handling": 4,
         "Checkin service": 3,
         "Cleanliness": 3,
         "Departure Delay in Minutes": 0,
         "Departure/Arrival time convenient": 3,
         "Ease of Online booking": 3,
         "Flight Distance": 844,
         "Food and drink": 3,
         "Gate location": 3,
         "Inflight entertainment": 4,
         "Inflight service": 4,
         "Inflight wifi service": 3,
         "Leg room service": 4,
         "On-board service": 4,
         "Online boarding": 3,
         "Seat comfort": 4,
         "_deepnote_index_column": "50%",
         "id": 64940.5
        },
        {
         "Age": 51,
         "Arrival Delay in Minutes": 13,
         "Baggage handling": 5,
         "Checkin service": 4,
         "Cleanliness": 4,
         "Departure Delay in Minutes": 12,
         "Departure/Arrival time convenient": 4,
         "Ease of Online booking": 4,
         "Flight Distance": 1744,
         "Food and drink": 4,
         "Gate location": 4,
         "Inflight entertainment": 4,
         "Inflight service": 5,
         "Inflight wifi service": 4,
         "Leg room service": 4,
         "On-board service": 4,
         "Online boarding": 4,
         "Seat comfort": 5,
         "_deepnote_index_column": "75%",
         "id": 97410.25
        },
        {
         "Age": 85,
         "Arrival Delay in Minutes": 1584,
         "Baggage handling": 5,
         "Checkin service": 5,
         "Cleanliness": 5,
         "Departure Delay in Minutes": 1592,
         "Departure/Arrival time convenient": 5,
         "Ease of Online booking": 5,
         "Flight Distance": 4983,
         "Food and drink": 5,
         "Gate location": 5,
         "Inflight entertainment": 5,
         "Inflight service": 5,
         "Inflight wifi service": 5,
         "Leg room service": 5,
         "On-board service": 5,
         "Online boarding": 5,
         "Seat comfort": 5,
         "_deepnote_index_column": "max",
         "id": 129880
        }
       ]
      },
      "text/html": [
       "<div>\n",
       "<style scoped>\n",
       "    .dataframe tbody tr th:only-of-type {\n",
       "        vertical-align: middle;\n",
       "    }\n",
       "\n",
       "    .dataframe tbody tr th {\n",
       "        vertical-align: top;\n",
       "    }\n",
       "\n",
       "    .dataframe thead th {\n",
       "        text-align: right;\n",
       "    }\n",
       "</style>\n",
       "<table border=\"1\" class=\"dataframe\">\n",
       "  <thead>\n",
       "    <tr style=\"text-align: right;\">\n",
       "      <th></th>\n",
       "      <th>id</th>\n",
       "      <th>Age</th>\n",
       "      <th>Flight Distance</th>\n",
       "      <th>Inflight wifi service</th>\n",
       "      <th>Departure/Arrival time convenient</th>\n",
       "      <th>Ease of Online booking</th>\n",
       "      <th>Gate location</th>\n",
       "      <th>Food and drink</th>\n",
       "      <th>Online boarding</th>\n",
       "      <th>Seat comfort</th>\n",
       "      <th>Inflight entertainment</th>\n",
       "      <th>On-board service</th>\n",
       "      <th>Leg room service</th>\n",
       "      <th>Baggage handling</th>\n",
       "      <th>Checkin service</th>\n",
       "      <th>Inflight service</th>\n",
       "      <th>Cleanliness</th>\n",
       "      <th>Departure Delay in Minutes</th>\n",
       "      <th>Arrival Delay in Minutes</th>\n",
       "    </tr>\n",
       "  </thead>\n",
       "  <tbody>\n",
       "    <tr>\n",
       "      <th>count</th>\n",
       "      <td>129880.000000</td>\n",
       "      <td>129880.000000</td>\n",
       "      <td>129880.000000</td>\n",
       "      <td>129880.000000</td>\n",
       "      <td>129880.000000</td>\n",
       "      <td>129880.000000</td>\n",
       "      <td>129880.000000</td>\n",
       "      <td>129880.000000</td>\n",
       "      <td>129880.000000</td>\n",
       "      <td>129880.000000</td>\n",
       "      <td>129880.000000</td>\n",
       "      <td>129880.000000</td>\n",
       "      <td>129880.000000</td>\n",
       "      <td>129880.000000</td>\n",
       "      <td>129880.000000</td>\n",
       "      <td>129880.000000</td>\n",
       "      <td>129880.000000</td>\n",
       "      <td>129880.000000</td>\n",
       "      <td>129487.000000</td>\n",
       "    </tr>\n",
       "    <tr>\n",
       "      <th>mean</th>\n",
       "      <td>64940.500000</td>\n",
       "      <td>39.427957</td>\n",
       "      <td>1190.316392</td>\n",
       "      <td>2.728696</td>\n",
       "      <td>3.057599</td>\n",
       "      <td>2.756876</td>\n",
       "      <td>2.976925</td>\n",
       "      <td>3.204774</td>\n",
       "      <td>3.252633</td>\n",
       "      <td>3.441361</td>\n",
       "      <td>3.358077</td>\n",
       "      <td>3.383023</td>\n",
       "      <td>3.350878</td>\n",
       "      <td>3.632114</td>\n",
       "      <td>3.306267</td>\n",
       "      <td>3.642193</td>\n",
       "      <td>3.286326</td>\n",
       "      <td>14.713713</td>\n",
       "      <td>15.091129</td>\n",
       "    </tr>\n",
       "    <tr>\n",
       "      <th>std</th>\n",
       "      <td>37493.270818</td>\n",
       "      <td>15.119360</td>\n",
       "      <td>997.452477</td>\n",
       "      <td>1.329340</td>\n",
       "      <td>1.526741</td>\n",
       "      <td>1.401740</td>\n",
       "      <td>1.278520</td>\n",
       "      <td>1.329933</td>\n",
       "      <td>1.350719</td>\n",
       "      <td>1.319289</td>\n",
       "      <td>1.334049</td>\n",
       "      <td>1.287099</td>\n",
       "      <td>1.316252</td>\n",
       "      <td>1.180025</td>\n",
       "      <td>1.266185</td>\n",
       "      <td>1.176669</td>\n",
       "      <td>1.313682</td>\n",
       "      <td>38.071126</td>\n",
       "      <td>38.465650</td>\n",
       "    </tr>\n",
       "    <tr>\n",
       "      <th>min</th>\n",
       "      <td>1.000000</td>\n",
       "      <td>7.000000</td>\n",
       "      <td>31.000000</td>\n",
       "      <td>0.000000</td>\n",
       "      <td>0.000000</td>\n",
       "      <td>0.000000</td>\n",
       "      <td>0.000000</td>\n",
       "      <td>0.000000</td>\n",
       "      <td>0.000000</td>\n",
       "      <td>0.000000</td>\n",
       "      <td>0.000000</td>\n",
       "      <td>0.000000</td>\n",
       "      <td>0.000000</td>\n",
       "      <td>1.000000</td>\n",
       "      <td>0.000000</td>\n",
       "      <td>0.000000</td>\n",
       "      <td>0.000000</td>\n",
       "      <td>0.000000</td>\n",
       "      <td>0.000000</td>\n",
       "    </tr>\n",
       "    <tr>\n",
       "      <th>25%</th>\n",
       "      <td>32470.750000</td>\n",
       "      <td>27.000000</td>\n",
       "      <td>414.000000</td>\n",
       "      <td>2.000000</td>\n",
       "      <td>2.000000</td>\n",
       "      <td>2.000000</td>\n",
       "      <td>2.000000</td>\n",
       "      <td>2.000000</td>\n",
       "      <td>2.000000</td>\n",
       "      <td>2.000000</td>\n",
       "      <td>2.000000</td>\n",
       "      <td>2.000000</td>\n",
       "      <td>2.000000</td>\n",
       "      <td>3.000000</td>\n",
       "      <td>3.000000</td>\n",
       "      <td>3.000000</td>\n",
       "      <td>2.000000</td>\n",
       "      <td>0.000000</td>\n",
       "      <td>0.000000</td>\n",
       "    </tr>\n",
       "    <tr>\n",
       "      <th>50%</th>\n",
       "      <td>64940.500000</td>\n",
       "      <td>40.000000</td>\n",
       "      <td>844.000000</td>\n",
       "      <td>3.000000</td>\n",
       "      <td>3.000000</td>\n",
       "      <td>3.000000</td>\n",
       "      <td>3.000000</td>\n",
       "      <td>3.000000</td>\n",
       "      <td>3.000000</td>\n",
       "      <td>4.000000</td>\n",
       "      <td>4.000000</td>\n",
       "      <td>4.000000</td>\n",
       "      <td>4.000000</td>\n",
       "      <td>4.000000</td>\n",
       "      <td>3.000000</td>\n",
       "      <td>4.000000</td>\n",
       "      <td>3.000000</td>\n",
       "      <td>0.000000</td>\n",
       "      <td>0.000000</td>\n",
       "    </tr>\n",
       "    <tr>\n",
       "      <th>75%</th>\n",
       "      <td>97410.250000</td>\n",
       "      <td>51.000000</td>\n",
       "      <td>1744.000000</td>\n",
       "      <td>4.000000</td>\n",
       "      <td>4.000000</td>\n",
       "      <td>4.000000</td>\n",
       "      <td>4.000000</td>\n",
       "      <td>4.000000</td>\n",
       "      <td>4.000000</td>\n",
       "      <td>5.000000</td>\n",
       "      <td>4.000000</td>\n",
       "      <td>4.000000</td>\n",
       "      <td>4.000000</td>\n",
       "      <td>5.000000</td>\n",
       "      <td>4.000000</td>\n",
       "      <td>5.000000</td>\n",
       "      <td>4.000000</td>\n",
       "      <td>12.000000</td>\n",
       "      <td>13.000000</td>\n",
       "    </tr>\n",
       "    <tr>\n",
       "      <th>max</th>\n",
       "      <td>129880.000000</td>\n",
       "      <td>85.000000</td>\n",
       "      <td>4983.000000</td>\n",
       "      <td>5.000000</td>\n",
       "      <td>5.000000</td>\n",
       "      <td>5.000000</td>\n",
       "      <td>5.000000</td>\n",
       "      <td>5.000000</td>\n",
       "      <td>5.000000</td>\n",
       "      <td>5.000000</td>\n",
       "      <td>5.000000</td>\n",
       "      <td>5.000000</td>\n",
       "      <td>5.000000</td>\n",
       "      <td>5.000000</td>\n",
       "      <td>5.000000</td>\n",
       "      <td>5.000000</td>\n",
       "      <td>5.000000</td>\n",
       "      <td>1592.000000</td>\n",
       "      <td>1584.000000</td>\n",
       "    </tr>\n",
       "  </tbody>\n",
       "</table>\n",
       "</div>"
      ],
      "text/plain": [
       "                  id            Age  Flight Distance  Inflight wifi service  \\\n",
       "count  129880.000000  129880.000000    129880.000000          129880.000000   \n",
       "mean    64940.500000      39.427957      1190.316392               2.728696   \n",
       "std     37493.270818      15.119360       997.452477               1.329340   \n",
       "min         1.000000       7.000000        31.000000               0.000000   \n",
       "25%     32470.750000      27.000000       414.000000               2.000000   \n",
       "50%     64940.500000      40.000000       844.000000               3.000000   \n",
       "75%     97410.250000      51.000000      1744.000000               4.000000   \n",
       "max    129880.000000      85.000000      4983.000000               5.000000   \n",
       "\n",
       "       Departure/Arrival time convenient  Ease of Online booking  \\\n",
       "count                      129880.000000           129880.000000   \n",
       "mean                            3.057599                2.756876   \n",
       "std                             1.526741                1.401740   \n",
       "min                             0.000000                0.000000   \n",
       "25%                             2.000000                2.000000   \n",
       "50%                             3.000000                3.000000   \n",
       "75%                             4.000000                4.000000   \n",
       "max                             5.000000                5.000000   \n",
       "\n",
       "       Gate location  Food and drink  Online boarding   Seat comfort  \\\n",
       "count  129880.000000   129880.000000    129880.000000  129880.000000   \n",
       "mean        2.976925        3.204774         3.252633       3.441361   \n",
       "std         1.278520        1.329933         1.350719       1.319289   \n",
       "min         0.000000        0.000000         0.000000       0.000000   \n",
       "25%         2.000000        2.000000         2.000000       2.000000   \n",
       "50%         3.000000        3.000000         3.000000       4.000000   \n",
       "75%         4.000000        4.000000         4.000000       5.000000   \n",
       "max         5.000000        5.000000         5.000000       5.000000   \n",
       "\n",
       "       Inflight entertainment  On-board service  Leg room service  \\\n",
       "count           129880.000000     129880.000000     129880.000000   \n",
       "mean                 3.358077          3.383023          3.350878   \n",
       "std                  1.334049          1.287099          1.316252   \n",
       "min                  0.000000          0.000000          0.000000   \n",
       "25%                  2.000000          2.000000          2.000000   \n",
       "50%                  4.000000          4.000000          4.000000   \n",
       "75%                  4.000000          4.000000          4.000000   \n",
       "max                  5.000000          5.000000          5.000000   \n",
       "\n",
       "       Baggage handling  Checkin service  Inflight service    Cleanliness  \\\n",
       "count     129880.000000    129880.000000     129880.000000  129880.000000   \n",
       "mean           3.632114         3.306267          3.642193       3.286326   \n",
       "std            1.180025         1.266185          1.176669       1.313682   \n",
       "min            1.000000         0.000000          0.000000       0.000000   \n",
       "25%            3.000000         3.000000          3.000000       2.000000   \n",
       "50%            4.000000         3.000000          4.000000       3.000000   \n",
       "75%            5.000000         4.000000          5.000000       4.000000   \n",
       "max            5.000000         5.000000          5.000000       5.000000   \n",
       "\n",
       "       Departure Delay in Minutes  Arrival Delay in Minutes  \n",
       "count               129880.000000             129487.000000  \n",
       "mean                    14.713713                 15.091129  \n",
       "std                     38.071126                 38.465650  \n",
       "min                      0.000000                  0.000000  \n",
       "25%                      0.000000                  0.000000  \n",
       "50%                      0.000000                  0.000000  \n",
       "75%                     12.000000                 13.000000  \n",
       "max                   1592.000000               1584.000000  "
      ]
     },
     "execution_count": 52,
     "metadata": {},
     "output_type": "execute_result"
    }
   ],
   "source": [
    "full_df.describe()"
   ]
  },
  {
   "cell_type": "markdown",
   "metadata": {
    "cell_id": "1ae39c7d75ba44f7b9235b03fa8bf33b",
    "deepnote_cell_height": 52.390625,
    "deepnote_cell_type": "markdown",
    "tags": []
   },
   "source": [
    "**We can see that the range of the values are quite reasonable. There don't seem to be any outliers in the dataset.**"
   ]
  },
  {
   "cell_type": "code",
   "execution_count": null,
   "metadata": {
    "cell_id": "2b6041844f5c4de2a00f46b7cb62e8f1",
    "deepnote_cell_height": 701,
    "deepnote_cell_type": "code",
    "deepnote_to_be_reexecuted": false,
    "execution_millis": 52,
    "execution_start": 1652037796112,
    "source_hash": "c5a92ae8",
    "tags": []
   },
   "outputs": [
    {
     "name": "stdout",
     "output_type": "stream",
     "text": [
      "<class 'pandas.core.frame.DataFrame'>\n",
      "Int64Index: 129880 entries, 0 to 25975\n",
      "Data columns (total 24 columns):\n",
      " #   Column                             Non-Null Count   Dtype  \n",
      "---  ------                             --------------   -----  \n",
      " 0   id                                 129880 non-null  int64  \n",
      " 1   Gender                             129880 non-null  object \n",
      " 2   Customer Type                      129880 non-null  object \n",
      " 3   Age                                129880 non-null  int64  \n",
      " 4   Type of Travel                     129880 non-null  object \n",
      " 5   Class                              129880 non-null  object \n",
      " 6   Flight Distance                    129880 non-null  int64  \n",
      " 7   Inflight wifi service              129880 non-null  int64  \n",
      " 8   Departure/Arrival time convenient  129880 non-null  int64  \n",
      " 9   Ease of Online booking             129880 non-null  int64  \n",
      " 10  Gate location                      129880 non-null  int64  \n",
      " 11  Food and drink                     129880 non-null  int64  \n",
      " 12  Online boarding                    129880 non-null  int64  \n",
      " 13  Seat comfort                       129880 non-null  int64  \n",
      " 14  Inflight entertainment             129880 non-null  int64  \n",
      " 15  On-board service                   129880 non-null  int64  \n",
      " 16  Leg room service                   129880 non-null  int64  \n",
      " 17  Baggage handling                   129880 non-null  int64  \n",
      " 18  Checkin service                    129880 non-null  int64  \n",
      " 19  Inflight service                   129880 non-null  int64  \n",
      " 20  Cleanliness                        129880 non-null  int64  \n",
      " 21  Departure Delay in Minutes         129880 non-null  int64  \n",
      " 22  Arrival Delay in Minutes           129487 non-null  float64\n",
      " 23  satisfaction                       129880 non-null  object \n",
      "dtypes: float64(1), int64(18), object(5)\n",
      "memory usage: 24.8+ MB\n"
     ]
    }
   ],
   "source": [
    "full_df.info()"
   ]
  },
  {
   "cell_type": "markdown",
   "metadata": {
    "cell_id": "a40874cd41c7456496218d791d5df76e",
    "deepnote_cell_height": 119.59375,
    "deepnote_cell_type": "markdown",
    "tags": []
   },
   "source": [
    "**We can see that most of the columns are integers. Indeed, in the survey, people often had to answer on a five points rating scale. Some of them are floating numbers, and some of them are object. We are going to look at the dataset in more details to see if it is feasible to convert the \"object\" columns to columns that are understandable by machine learning algorithms.**"
   ]
  },
  {
   "cell_type": "code",
   "execution_count": null,
   "metadata": {
    "cell_id": "30b2ca4ab4304ada96413c4f1078b971",
    "deepnote_cell_height": 579,
    "deepnote_cell_type": "code",
    "deepnote_output_heights": [
     482
    ],
    "deepnote_to_be_reexecuted": false,
    "execution_millis": 103,
    "execution_start": 1652037802185,
    "source_hash": "2be0b025",
    "tags": []
   },
   "outputs": [
    {
     "data": {
      "text/plain": [
       "id                                   129880\n",
       "Gender                                    2\n",
       "Customer Type                             2\n",
       "Age                                      75\n",
       "Type of Travel                            2\n",
       "Class                                     3\n",
       "Flight Distance                        3821\n",
       "Inflight wifi service                     6\n",
       "Departure/Arrival time convenient         6\n",
       "Ease of Online booking                    6\n",
       "Gate location                             6\n",
       "Food and drink                            6\n",
       "Online boarding                           6\n",
       "Seat comfort                              6\n",
       "Inflight entertainment                    6\n",
       "On-board service                          6\n",
       "Leg room service                          6\n",
       "Baggage handling                          5\n",
       "Checkin service                           6\n",
       "Inflight service                          6\n",
       "Cleanliness                               6\n",
       "Departure Delay in Minutes              466\n",
       "Arrival Delay in Minutes                472\n",
       "satisfaction                              2\n",
       "dtype: int64"
      ]
     },
     "execution_count": 54,
     "metadata": {},
     "output_type": "execute_result"
    }
   ],
   "source": [
    "full_df.nunique()"
   ]
  },
  {
   "cell_type": "markdown",
   "metadata": {
    "cell_id": "0058948077b44d4abdf6746be3c60da5",
    "deepnote_cell_height": 97.1875,
    "deepnote_cell_type": "markdown",
    "tags": []
   },
   "source": [
    "**The \"object\" columns only take few unique values. This is good, as it means that we can easily perform encoding on these columns. We are going to do one-hot-encoding to convert these categorical features to columns that are understandable for the algorithm.**"
   ]
  },
  {
   "cell_type": "markdown",
   "metadata": {
    "cell_id": "50be64ad9bba426d96be4644ea638794",
    "deepnote_cell_height": 62,
    "deepnote_cell_type": "markdown",
    "tags": []
   },
   "source": [
    "### Encoding the categorical variables"
   ]
  },
  {
   "cell_type": "code",
   "execution_count": null,
   "metadata": {
    "cell_id": "a8ee9308abf745b6a4099f28406c6de7",
    "deepnote_cell_height": 225,
    "deepnote_cell_type": "code",
    "deepnote_to_be_reexecuted": false,
    "execution_millis": 77,
    "execution_start": 1652037806726,
    "source_hash": "9570904a",
    "tags": []
   },
   "outputs": [],
   "source": [
    "#Columns that we want to encode\n",
    "to_convert = ['Gender','Customer Type','Type of Travel','Class']\n",
    "\n",
    "#Encoding the variable that we want to predict\n",
    "full_df['satisfaction'] = (full_df['satisfaction']=='satisfied').astype(int)\n",
    "# full_df = full_df.drop('satisfaction',axis=1)\n",
    "\n",
    "#Encoding the categorical features\n",
    "full_processed_df = pd.get_dummies(full_df, columns=to_convert, drop_first=True)"
   ]
  },
  {
   "cell_type": "code",
   "execution_count": null,
   "metadata": {
    "cell_id": "e186722ef8ec44409d01534aa6fac902",
    "deepnote_cell_height": 117,
    "deepnote_cell_type": "code",
    "deepnote_to_be_reexecuted": false,
    "execution_millis": 13,
    "execution_start": 1652037807748,
    "source_hash": "55079283",
    "tags": []
   },
   "outputs": [],
   "source": [
    "#Getting X and y\n",
    "y = full_processed_df['satisfaction']\n",
    "X = full_processed_df.drop('satisfaction',axis=1)"
   ]
  },
  {
   "cell_type": "markdown",
   "metadata": {
    "cell_id": "1c9b88d00cb14480954948e82ce949bf",
    "deepnote_cell_height": 62,
    "deepnote_cell_type": "markdown",
    "tags": []
   },
   "source": [
    "### Scaling the data"
   ]
  },
  {
   "cell_type": "code",
   "execution_count": null,
   "metadata": {
    "cell_id": "1888870679524cb6a094825b7621d5a9",
    "deepnote_cell_height": 354,
    "deepnote_cell_type": "code",
    "tags": []
   },
   "outputs": [],
   "source": [
    "# separate categorical and quantitative features\n",
    "\n",
    "predictors = full_processed_df.columns.tolist()\n",
    "cat = ['Inflight wifi service', 'Departure/Arrival time convenient', 'Ease of Online booking', 'Gate location',\n",
    "'Food and drink', 'Online boarding', 'Seat comfort', 'Inflight entertainment', 'On-board service',\n",
    "'Leg room service', 'Baggage handling', 'Checkin service', 'Inflight service', 'Cleanliness',\n",
    "'Gender_Male', 'Customer Type_disloyal Customer', 'Type of Travel_Personal Travel', 'Class_Eco',\n",
    "'Class_Eco Plus']\n",
    "quant = [i for i in predictors if i not in cat]\n",
    "quant.remove('id')\n",
    "quant.remove('satisfaction')\n",
    "\n",
    "X_scaled = X.copy()\n",
    "\n",
    "# Standardization of quant features\n",
    "scaler = StandardScaler()\n",
    "X_scaled[quant] = scaler.fit_transform(X_scaled[quant])"
   ]
  },
  {
   "cell_type": "markdown",
   "metadata": {
    "cell_id": "691b9eef39b744cc9882e08e65d92a12",
    "deepnote_cell_height": 62,
    "deepnote_cell_type": "markdown",
    "tags": []
   },
   "source": [
    "### Imputing the missing values"
   ]
  },
  {
   "cell_type": "code",
   "execution_count": null,
   "metadata": {
    "cell_id": "23b553eb09514d8bae371ebdbdff9c7a",
    "deepnote_cell_height": 597,
    "deepnote_cell_type": "code",
    "deepnote_output_heights": [
     482
    ],
    "deepnote_to_be_reexecuted": false,
    "execution_millis": 69,
    "execution_start": 1652038355024,
    "source_hash": "b2490437",
    "tags": []
   },
   "outputs": [
    {
     "data": {
      "text/plain": [
       "id                                     0\n",
       "Gender                                 0\n",
       "Customer Type                          0\n",
       "Age                                    0\n",
       "Type of Travel                         0\n",
       "Class                                  0\n",
       "Flight Distance                        0\n",
       "Inflight wifi service                  0\n",
       "Departure/Arrival time convenient      0\n",
       "Ease of Online booking                 0\n",
       "Gate location                          0\n",
       "Food and drink                         0\n",
       "Online boarding                        0\n",
       "Seat comfort                           0\n",
       "Inflight entertainment                 0\n",
       "On-board service                       0\n",
       "Leg room service                       0\n",
       "Baggage handling                       0\n",
       "Checkin service                        0\n",
       "Inflight service                       0\n",
       "Cleanliness                            0\n",
       "Departure Delay in Minutes             0\n",
       "Arrival Delay in Minutes             393\n",
       "satisfaction                           0\n",
       "dtype: int64"
      ]
     },
     "execution_count": 91,
     "metadata": {},
     "output_type": "execute_result"
    }
   ],
   "source": [
    "missing = full_df.isnull().sum()\n",
    "missing"
   ]
  },
  {
   "cell_type": "markdown",
   "metadata": {
    "cell_id": "3d1825a366ba4934b927ca3e36b1188c",
    "deepnote_cell_height": 74.796875,
    "deepnote_cell_type": "markdown",
    "tags": []
   },
   "source": [
    "**We can see that we have missing values for the column \"Arrival Delay in Minutes\". We will have to handle these missing values for our model**"
   ]
  },
  {
   "cell_type": "code",
   "execution_count": null,
   "metadata": {
    "cell_id": "361956fc980346cf8b3b9c3425ec744f",
    "deepnote_cell_height": 431,
    "deepnote_cell_type": "code",
    "deepnote_to_be_reexecuted": false,
    "execution_millis": 4406,
    "execution_start": 1652037813595,
    "source_hash": "b96216f1",
    "tags": []
   },
   "outputs": [
    {
     "data": {
      "application/vnd.deepnote.dataframe.v3+json": {
       "column_count": 24,
       "columns": [
        {
         "dtype": "float64",
         "name": "id",
         "stats": {
          "histogram": [
           {
            "bin_end": 16472.2,
            "bin_start": 5047,
            "count": 1
           },
           {
            "bin_end": 27897.4,
            "bin_start": 16472.2,
            "count": 1
           },
           {
            "bin_end": 39322.600000000006,
            "bin_start": 27897.4,
            "count": 0
           },
           {
            "bin_end": 50747.8,
            "bin_start": 39322.600000000006,
            "count": 0
           },
           {
            "bin_end": 62173,
            "bin_start": 50747.8,
            "count": 0
           },
           {
            "bin_end": 73598.20000000001,
            "bin_start": 62173,
            "count": 1
           },
           {
            "bin_end": 85023.40000000001,
            "bin_start": 73598.20000000001,
            "count": 0
           },
           {
            "bin_end": 96448.6,
            "bin_start": 85023.40000000001,
            "count": 0
           },
           {
            "bin_end": 107873.8,
            "bin_start": 96448.6,
            "count": 0
           },
           {
            "bin_end": 119299,
            "bin_start": 107873.8,
            "count": 2
           }
          ],
          "max": "119299.0",
          "min": "5047.0",
          "nan_count": 0,
          "unique_count": 5
         }
        },
        {
         "dtype": "float64",
         "name": "Age",
         "stats": {
          "histogram": [
           {
            "bin_end": -1.4304864695383042,
            "bin_start": -1.7479614482714039,
            "count": 1
           },
           {
            "bin_end": -1.1130114908052045,
            "bin_start": -1.4304864695383042,
            "count": 0
           },
           {
            "bin_end": -0.7955365120721047,
            "bin_start": -1.1130114908052045,
            "count": 3
           },
           {
            "bin_end": -0.47806153333900503,
            "bin_start": -0.7955365120721047,
            "count": 0
           },
           {
            "bin_end": -0.16058655460590532,
            "bin_start": -0.47806153333900503,
            "count": 0
           },
           {
            "bin_end": 0.1568884241271944,
            "bin_start": -0.16058655460590532,
            "count": 0
           },
           {
            "bin_end": 0.4743634028602941,
            "bin_start": 0.1568884241271944,
            "count": 0
           },
           {
            "bin_end": 0.7918383815933938,
            "bin_start": 0.4743634028602941,
            "count": 0
           },
           {
            "bin_end": 1.1093133603264935,
            "bin_start": 0.7918383815933938,
            "count": 0
           },
           {
            "bin_end": 1.4267883390595932,
            "bin_start": 1.1093133603264935,
            "count": 1
           }
          ],
          "max": "1.4267883390595932",
          "min": "-1.7479614482714039",
          "nan_count": 0,
          "unique_count": 4
         }
        },
        {
         "dtype": "float64",
         "name": "Flight Distance",
         "stats": {
          "histogram": [
           {
            "bin_end": -0.8857763286340679,
            "bin_start": -0.9788137007037855,
            "count": 2
           },
           {
            "bin_end": -0.7927389565643501,
            "bin_start": -0.8857763286340679,
            "count": 0
           },
           {
            "bin_end": -0.6997015844946325,
            "bin_start": -0.7927389565643501,
            "count": 1
           },
           {
            "bin_end": -0.6066642124249149,
            "bin_start": -0.6997015844946325,
            "count": 1
           },
           {
            "bin_end": -0.5136268403551972,
            "bin_start": -0.6066642124249149,
            "count": 0
           },
           {
            "bin_end": -0.4205894682854795,
            "bin_start": -0.5136268403551972,
            "count": 0
           },
           {
            "bin_end": -0.32755209621576187,
            "bin_start": -0.4205894682854795,
            "count": 0
           },
           {
            "bin_end": -0.23451472414604424,
            "bin_start": -0.32755209621576187,
            "count": 0
           },
           {
            "bin_end": -0.1414773520763266,
            "bin_start": -0.23451472414604424,
            "count": 0
           },
           {
            "bin_end": -0.048439980006608915,
            "bin_start": -0.1414773520763266,
            "count": 1
           }
          ],
          "max": "-0.048439980006608915",
          "min": "-0.9788137007037855",
          "nan_count": 0,
          "unique_count": 5
         }
        },
        {
         "dtype": "float64",
         "name": "Inflight wifi service",
         "stats": {
          "histogram": [
           {
            "bin_end": 2.1,
            "bin_start": 2,
            "count": 2
           },
           {
            "bin_end": 2.2,
            "bin_start": 2.1,
            "count": 0
           },
           {
            "bin_end": 2.3,
            "bin_start": 2.2,
            "count": 0
           },
           {
            "bin_end": 2.4,
            "bin_start": 2.3,
            "count": 0
           },
           {
            "bin_end": 2.5,
            "bin_start": 2.4,
            "count": 0
           },
           {
            "bin_end": 2.6,
            "bin_start": 2.5,
            "count": 0
           },
           {
            "bin_end": 2.7,
            "bin_start": 2.6,
            "count": 0
           },
           {
            "bin_end": 2.8,
            "bin_start": 2.7,
            "count": 0
           },
           {
            "bin_end": 2.9,
            "bin_start": 2.8,
            "count": 0
           },
           {
            "bin_end": 3,
            "bin_start": 2.9,
            "count": 3
           }
          ],
          "max": "3.0",
          "min": "2.0",
          "nan_count": 0,
          "unique_count": 2
         }
        },
        {
         "dtype": "float64",
         "name": "Departure/Arrival time convenient",
         "stats": {
          "histogram": [
           {
            "bin_end": 2.3,
            "bin_start": 2,
            "count": 2
           },
           {
            "bin_end": 2.6,
            "bin_start": 2.3,
            "count": 0
           },
           {
            "bin_end": 2.9,
            "bin_start": 2.6,
            "count": 0
           },
           {
            "bin_end": 3.2,
            "bin_start": 2.9,
            "count": 1
           },
           {
            "bin_end": 3.5,
            "bin_start": 3.2,
            "count": 0
           },
           {
            "bin_end": 3.8,
            "bin_start": 3.5,
            "count": 0
           },
           {
            "bin_end": 4.1,
            "bin_start": 3.8,
            "count": 1
           },
           {
            "bin_end": 4.4,
            "bin_start": 4.1,
            "count": 0
           },
           {
            "bin_end": 4.699999999999999,
            "bin_start": 4.4,
            "count": 0
           },
           {
            "bin_end": 5,
            "bin_start": 4.699999999999999,
            "count": 1
           }
          ],
          "max": "5.0",
          "min": "2.0",
          "nan_count": 0,
          "unique_count": 4
         }
        },
        {
         "dtype": "float64",
         "name": "Ease of Online booking",
         "stats": {
          "histogram": [
           {
            "bin_end": 2.3,
            "bin_start": 2,
            "count": 1
           },
           {
            "bin_end": 2.6,
            "bin_start": 2.3,
            "count": 0
           },
           {
            "bin_end": 2.9,
            "bin_start": 2.6,
            "count": 0
           },
           {
            "bin_end": 3.2,
            "bin_start": 2.9,
            "count": 3
           },
           {
            "bin_end": 3.5,
            "bin_start": 3.2,
            "count": 0
           },
           {
            "bin_end": 3.8,
            "bin_start": 3.5,
            "count": 0
           },
           {
            "bin_end": 4.1,
            "bin_start": 3.8,
            "count": 0
           },
           {
            "bin_end": 4.4,
            "bin_start": 4.1,
            "count": 0
           },
           {
            "bin_end": 4.699999999999999,
            "bin_start": 4.4,
            "count": 0
           },
           {
            "bin_end": 5,
            "bin_start": 4.699999999999999,
            "count": 1
           }
          ],
          "max": "5.0",
          "min": "2.0",
          "nan_count": 0,
          "unique_count": 3
         }
        },
        {
         "dtype": "float64",
         "name": "Gate location",
         "stats": {
          "histogram": [
           {
            "bin_end": 1.4,
            "bin_start": 1,
            "count": 1
           },
           {
            "bin_end": 1.8,
            "bin_start": 1.4,
            "count": 0
           },
           {
            "bin_end": 2.2,
            "bin_start": 1.8,
            "count": 1
           },
           {
            "bin_end": 2.6,
            "bin_start": 2.2,
            "count": 0
           },
           {
            "bin_end": 3,
            "bin_start": 2.6,
            "count": 0
           },
           {
            "bin_end": 3.4000000000000004,
            "bin_start": 3,
            "count": 2
           },
           {
            "bin_end": 3.8000000000000003,
            "bin_start": 3.4000000000000004,
            "count": 0
           },
           {
            "bin_end": 4.2,
            "bin_start": 3.8000000000000003,
            "count": 0
           },
           {
            "bin_end": 4.6,
            "bin_start": 4.2,
            "count": 0
           },
           {
            "bin_end": 5,
            "bin_start": 4.6,
            "count": 1
           }
          ],
          "max": "5.0",
          "min": "1.0",
          "nan_count": 0,
          "unique_count": 4
         }
        },
        {
         "dtype": "float64",
         "name": "Food and drink",
         "stats": {
          "histogram": [
           {
            "bin_end": 1.4,
            "bin_start": 1,
            "count": 1
           },
           {
            "bin_end": 1.8,
            "bin_start": 1.4,
            "count": 0
           },
           {
            "bin_end": 2.2,
            "bin_start": 1.8,
            "count": 1
           },
           {
            "bin_end": 2.6,
            "bin_start": 2.2,
            "count": 0
           },
           {
            "bin_end": 3,
            "bin_start": 2.6,
            "count": 0
           },
           {
            "bin_end": 3.4000000000000004,
            "bin_start": 3,
            "count": 0
           },
           {
            "bin_end": 3.8000000000000003,
            "bin_start": 3.4000000000000004,
            "count": 0
           },
           {
            "bin_end": 4.2,
            "bin_start": 3.8000000000000003,
            "count": 1
           },
           {
            "bin_end": 4.6,
            "bin_start": 4.2,
            "count": 0
           },
           {
            "bin_end": 5,
            "bin_start": 4.6,
            "count": 2
           }
          ],
          "max": "5.0",
          "min": "1.0",
          "nan_count": 0,
          "unique_count": 4
         }
        },
        {
         "dtype": "float64",
         "name": "Online boarding",
         "stats": {
          "histogram": [
           {
            "bin_end": 2.3,
            "bin_start": 2,
            "count": 1
           },
           {
            "bin_end": 2.6,
            "bin_start": 2.3,
            "count": 0
           },
           {
            "bin_end": 2.9,
            "bin_start": 2.6,
            "count": 0
           },
           {
            "bin_end": 3.2,
            "bin_start": 2.9,
            "count": 2
           },
           {
            "bin_end": 3.5,
            "bin_start": 3.2,
            "count": 0
           },
           {
            "bin_end": 3.8,
            "bin_start": 3.5,
            "count": 0
           },
           {
            "bin_end": 4.1,
            "bin_start": 3.8,
            "count": 0
           },
           {
            "bin_end": 4.4,
            "bin_start": 4.1,
            "count": 0
           },
           {
            "bin_end": 4.699999999999999,
            "bin_start": 4.4,
            "count": 0
           },
           {
            "bin_end": 5,
            "bin_start": 4.699999999999999,
            "count": 2
           }
          ],
          "max": "5.0",
          "min": "2.0",
          "nan_count": 0,
          "unique_count": 3
         }
        },
        {
         "dtype": "float64",
         "name": "Seat comfort",
         "stats": {
          "histogram": [
           {
            "bin_end": 1.4,
            "bin_start": 1,
            "count": 1
           },
           {
            "bin_end": 1.8,
            "bin_start": 1.4,
            "count": 0
           },
           {
            "bin_end": 2.2,
            "bin_start": 1.8,
            "count": 1
           },
           {
            "bin_end": 2.6,
            "bin_start": 2.2,
            "count": 0
           },
           {
            "bin_end": 3,
            "bin_start": 2.6,
            "count": 0
           },
           {
            "bin_end": 3.4000000000000004,
            "bin_start": 3,
            "count": 0
           },
           {
            "bin_end": 3.8000000000000003,
            "bin_start": 3.4000000000000004,
            "count": 0
           },
           {
            "bin_end": 4.2,
            "bin_start": 3.8000000000000003,
            "count": 0
           },
           {
            "bin_end": 4.6,
            "bin_start": 4.2,
            "count": 0
           },
           {
            "bin_end": 5,
            "bin_start": 4.6,
            "count": 3
           }
          ],
          "max": "5.0",
          "min": "1.0",
          "nan_count": 0,
          "unique_count": 3
         }
        },
        {
         "dtype": "float64",
         "name": "Inflight entertainment",
         "stats": {
          "histogram": [
           {
            "bin_end": 1.4,
            "bin_start": 1,
            "count": 1
           },
           {
            "bin_end": 1.8,
            "bin_start": 1.4,
            "count": 0
           },
           {
            "bin_end": 2.2,
            "bin_start": 1.8,
            "count": 1
           },
           {
            "bin_end": 2.6,
            "bin_start": 2.2,
            "count": 0
           },
           {
            "bin_end": 3,
            "bin_start": 2.6,
            "count": 0
           },
           {
            "bin_end": 3.4000000000000004,
            "bin_start": 3,
            "count": 1
           },
           {
            "bin_end": 3.8000000000000003,
            "bin_start": 3.4000000000000004,
            "count": 0
           },
           {
            "bin_end": 4.2,
            "bin_start": 3.8000000000000003,
            "count": 0
           },
           {
            "bin_end": 4.6,
            "bin_start": 4.2,
            "count": 0
           },
           {
            "bin_end": 5,
            "bin_start": 4.6,
            "count": 2
           }
          ],
          "max": "5.0",
          "min": "1.0",
          "nan_count": 0,
          "unique_count": 4
         }
        },
        {
         "dtype": "float64",
         "name": "On-board service",
         "stats": {
          "histogram": [
           {
            "bin_end": 1.3,
            "bin_start": 1,
            "count": 1
           },
           {
            "bin_end": 1.6,
            "bin_start": 1.3,
            "count": 0
           },
           {
            "bin_end": 1.9,
            "bin_start": 1.6,
            "count": 0
           },
           {
            "bin_end": 2.2,
            "bin_start": 1.9,
            "count": 1
           },
           {
            "bin_end": 2.5,
            "bin_start": 2.2,
            "count": 0
           },
           {
            "bin_end": 2.8,
            "bin_start": 2.5,
            "count": 0
           },
           {
            "bin_end": 3.1,
            "bin_start": 2.8,
            "count": 1
           },
           {
            "bin_end": 3.4,
            "bin_start": 3.1,
            "count": 0
           },
           {
            "bin_end": 3.6999999999999997,
            "bin_start": 3.4,
            "count": 0
           },
           {
            "bin_end": 4,
            "bin_start": 3.6999999999999997,
            "count": 2
           }
          ],
          "max": "4.0",
          "min": "1.0",
          "nan_count": 0,
          "unique_count": 4
         }
        },
        {
         "dtype": "float64",
         "name": "Leg room service",
         "stats": {
          "histogram": [
           {
            "bin_end": 3.2,
            "bin_start": 3,
            "count": 2
           },
           {
            "bin_end": 3.4,
            "bin_start": 3.2,
            "count": 0
           },
           {
            "bin_end": 3.6,
            "bin_start": 3.4,
            "count": 0
           },
           {
            "bin_end": 3.8,
            "bin_start": 3.6,
            "count": 0
           },
           {
            "bin_end": 4,
            "bin_start": 3.8,
            "count": 0
           },
           {
            "bin_end": 4.2,
            "bin_start": 4,
            "count": 1
           },
           {
            "bin_end": 4.4,
            "bin_start": 4.2,
            "count": 0
           },
           {
            "bin_end": 4.6,
            "bin_start": 4.4,
            "count": 0
           },
           {
            "bin_end": 4.8,
            "bin_start": 4.6,
            "count": 0
           },
           {
            "bin_end": 5,
            "bin_start": 4.8,
            "count": 2
           }
          ],
          "max": "5.0",
          "min": "3.0",
          "nan_count": 0,
          "unique_count": 3
         }
        },
        {
         "dtype": "float64",
         "name": "Baggage handling",
         "stats": {
          "histogram": [
           {
            "bin_end": 3.1,
            "bin_start": 3,
            "count": 2
           },
           {
            "bin_end": 3.2,
            "bin_start": 3.1,
            "count": 0
           },
           {
            "bin_end": 3.3,
            "bin_start": 3.2,
            "count": 0
           },
           {
            "bin_end": 3.4,
            "bin_start": 3.3,
            "count": 0
           },
           {
            "bin_end": 3.5,
            "bin_start": 3.4,
            "count": 0
           },
           {
            "bin_end": 3.6,
            "bin_start": 3.5,
            "count": 0
           },
           {
            "bin_end": 3.7,
            "bin_start": 3.6,
            "count": 0
           },
           {
            "bin_end": 3.8,
            "bin_start": 3.7,
            "count": 0
           },
           {
            "bin_end": 3.9,
            "bin_start": 3.8,
            "count": 0
           },
           {
            "bin_end": 4,
            "bin_start": 3.9,
            "count": 3
           }
          ],
          "max": "4.0",
          "min": "3.0",
          "nan_count": 0,
          "unique_count": 2
         }
        },
        {
         "dtype": "float64",
         "name": "Checkin service",
         "stats": {
          "histogram": [
           {
            "bin_end": 1.3,
            "bin_start": 1,
            "count": 2
           },
           {
            "bin_end": 1.6,
            "bin_start": 1.3,
            "count": 0
           },
           {
            "bin_end": 1.9,
            "bin_start": 1.6,
            "count": 0
           },
           {
            "bin_end": 2.2,
            "bin_start": 1.9,
            "count": 0
           },
           {
            "bin_end": 2.5,
            "bin_start": 2.2,
            "count": 0
           },
           {
            "bin_end": 2.8,
            "bin_start": 2.5,
            "count": 0
           },
           {
            "bin_end": 3.1,
            "bin_start": 2.8,
            "count": 1
           },
           {
            "bin_end": 3.4,
            "bin_start": 3.1,
            "count": 0
           },
           {
            "bin_end": 3.6999999999999997,
            "bin_start": 3.4,
            "count": 0
           },
           {
            "bin_end": 4,
            "bin_start": 3.6999999999999997,
            "count": 2
           }
          ],
          "max": "4.0",
          "min": "1.0",
          "nan_count": 0,
          "unique_count": 3
         }
        },
        {
         "dtype": "float64",
         "name": "Inflight service",
         "stats": {
          "histogram": [
           {
            "bin_end": 3.2,
            "bin_start": 3,
            "count": 1
           },
           {
            "bin_end": 3.4,
            "bin_start": 3.2,
            "count": 0
           },
           {
            "bin_end": 3.6,
            "bin_start": 3.4,
            "count": 0
           },
           {
            "bin_end": 3.8,
            "bin_start": 3.6,
            "count": 0
           },
           {
            "bin_end": 4,
            "bin_start": 3.8,
            "count": 0
           },
           {
            "bin_end": 4.2,
            "bin_start": 4,
            "count": 3
           },
           {
            "bin_end": 4.4,
            "bin_start": 4.2,
            "count": 0
           },
           {
            "bin_end": 4.6,
            "bin_start": 4.4,
            "count": 0
           },
           {
            "bin_end": 4.8,
            "bin_start": 4.6,
            "count": 0
           },
           {
            "bin_end": 5,
            "bin_start": 4.8,
            "count": 1
           }
          ],
          "max": "5.0",
          "min": "3.0",
          "nan_count": 0,
          "unique_count": 3
         }
        },
        {
         "dtype": "float64",
         "name": "Cleanliness",
         "stats": {
          "histogram": [
           {
            "bin_end": 1.4,
            "bin_start": 1,
            "count": 1
           },
           {
            "bin_end": 1.8,
            "bin_start": 1.4,
            "count": 0
           },
           {
            "bin_end": 2.2,
            "bin_start": 1.8,
            "count": 1
           },
           {
            "bin_end": 2.6,
            "bin_start": 2.2,
            "count": 0
           },
           {
            "bin_end": 3,
            "bin_start": 2.6,
            "count": 0
           },
           {
            "bin_end": 3.4000000000000004,
            "bin_start": 3,
            "count": 1
           },
           {
            "bin_end": 3.8000000000000003,
            "bin_start": 3.4000000000000004,
            "count": 0
           },
           {
            "bin_end": 4.2,
            "bin_start": 3.8000000000000003,
            "count": 0
           },
           {
            "bin_end": 4.6,
            "bin_start": 4.2,
            "count": 0
           },
           {
            "bin_end": 5,
            "bin_start": 4.6,
            "count": 2
           }
          ],
          "max": "5.0",
          "min": "1.0",
          "nan_count": 0,
          "unique_count": 4
         }
        },
        {
         "dtype": "float64",
         "name": "Departure Delay in Minutes",
         "stats": {
          "histogram": [
           {
            "bin_end": -0.32081424669033987,
            "bin_start": -0.38648106227660245,
            "count": 3
           },
           {
            "bin_end": -0.2551474311040772,
            "bin_start": -0.32081424669033987,
            "count": 0
           },
           {
            "bin_end": -0.18948061551781462,
            "bin_start": -0.2551474311040772,
            "count": 0
           },
           {
            "bin_end": -0.123813799931552,
            "bin_start": -0.18948061551781462,
            "count": 0
           },
           {
            "bin_end": -0.058146984345289365,
            "bin_start": -0.123813799931552,
            "count": 1
           },
           {
            "bin_end": 0.007519831240973218,
            "bin_start": -0.058146984345289365,
            "count": 0
           },
           {
            "bin_end": 0.0731866468272358,
            "bin_start": 0.007519831240973218,
            "count": 0
           },
           {
            "bin_end": 0.13885346241349844,
            "bin_start": 0.0731866468272358,
            "count": 0
           },
           {
            "bin_end": 0.20452027799976108,
            "bin_start": 0.13885346241349844,
            "count": 0
           },
           {
            "bin_end": 0.27018709358602366,
            "bin_start": 0.20452027799976108,
            "count": 1
           }
          ],
          "max": "0.27018709358602366",
          "min": "-0.38648106227660245",
          "nan_count": 0,
          "unique_count": 4
         }
        },
        {
         "dtype": "float64",
         "name": "Arrival Delay in Minutes",
         "stats": {
          "histogram": [
           {
            "bin_end": -0.3455337444906899,
            "bin_start": -0.3923289225081815,
            "count": 2
           },
           {
            "bin_end": -0.2987385664731983,
            "bin_start": -0.3455337444906899,
            "count": 0
           },
           {
            "bin_end": -0.25194338845570674,
            "bin_start": -0.2987385664731983,
            "count": 0
           },
           {
            "bin_end": -0.20514821043821513,
            "bin_start": -0.25194338845570674,
            "count": 1
           },
           {
            "bin_end": -0.15835303242072352,
            "bin_start": -0.20514821043821513,
            "count": 1
           },
           {
            "bin_end": -0.11155785440323196,
            "bin_start": -0.15835303242072352,
            "count": 0
           },
           {
            "bin_end": -0.06476267638574035,
            "bin_start": -0.11155785440323196,
            "count": 0
           },
           {
            "bin_end": -0.017967498368248735,
            "bin_start": -0.06476267638574035,
            "count": 0
           },
           {
            "bin_end": 0.028827679649242877,
            "bin_start": -0.017967498368248735,
            "count": 0
           },
           {
            "bin_end": 0.07562285766673445,
            "bin_start": 0.028827679649242877,
            "count": 1
           }
          ],
          "max": "0.07562285766673445",
          "min": "-0.3923289225081815",
          "nan_count": 0,
          "unique_count": 4
         }
        },
        {
         "dtype": "float64",
         "name": "Gender_Male",
         "stats": {
          "histogram": [
           {
            "bin_end": 0.1,
            "bin_start": 0,
            "count": 2
           },
           {
            "bin_end": 0.2,
            "bin_start": 0.1,
            "count": 0
           },
           {
            "bin_end": 0.30000000000000004,
            "bin_start": 0.2,
            "count": 0
           },
           {
            "bin_end": 0.4,
            "bin_start": 0.30000000000000004,
            "count": 0
           },
           {
            "bin_end": 0.5,
            "bin_start": 0.4,
            "count": 0
           },
           {
            "bin_end": 0.6000000000000001,
            "bin_start": 0.5,
            "count": 0
           },
           {
            "bin_end": 0.7000000000000001,
            "bin_start": 0.6000000000000001,
            "count": 0
           },
           {
            "bin_end": 0.8,
            "bin_start": 0.7000000000000001,
            "count": 0
           },
           {
            "bin_end": 0.9,
            "bin_start": 0.8,
            "count": 0
           },
           {
            "bin_end": 1,
            "bin_start": 0.9,
            "count": 3
           }
          ],
          "max": "1.0",
          "min": "0.0",
          "nan_count": 0,
          "unique_count": 2
         }
        },
        {
         "dtype": "float64",
         "name": "Customer Type_disloyal Customer",
         "stats": {
          "histogram": [
           {
            "bin_end": 0.1,
            "bin_start": 0,
            "count": 4
           },
           {
            "bin_end": 0.2,
            "bin_start": 0.1,
            "count": 0
           },
           {
            "bin_end": 0.30000000000000004,
            "bin_start": 0.2,
            "count": 0
           },
           {
            "bin_end": 0.4,
            "bin_start": 0.30000000000000004,
            "count": 0
           },
           {
            "bin_end": 0.5,
            "bin_start": 0.4,
            "count": 0
           },
           {
            "bin_end": 0.6000000000000001,
            "bin_start": 0.5,
            "count": 0
           },
           {
            "bin_end": 0.7000000000000001,
            "bin_start": 0.6000000000000001,
            "count": 0
           },
           {
            "bin_end": 0.8,
            "bin_start": 0.7000000000000001,
            "count": 0
           },
           {
            "bin_end": 0.9,
            "bin_start": 0.8,
            "count": 0
           },
           {
            "bin_end": 1,
            "bin_start": 0.9,
            "count": 1
           }
          ],
          "max": "1.0",
          "min": "0.0",
          "nan_count": 0,
          "unique_count": 2
         }
        },
        {
         "dtype": "float64",
         "name": "Type of Travel_Personal Travel",
         "stats": {
          "histogram": [
           {
            "bin_end": 0.1,
            "bin_start": 0,
            "count": 4
           },
           {
            "bin_end": 0.2,
            "bin_start": 0.1,
            "count": 0
           },
           {
            "bin_end": 0.30000000000000004,
            "bin_start": 0.2,
            "count": 0
           },
           {
            "bin_end": 0.4,
            "bin_start": 0.30000000000000004,
            "count": 0
           },
           {
            "bin_end": 0.5,
            "bin_start": 0.4,
            "count": 0
           },
           {
            "bin_end": 0.6000000000000001,
            "bin_start": 0.5,
            "count": 0
           },
           {
            "bin_end": 0.7000000000000001,
            "bin_start": 0.6000000000000001,
            "count": 0
           },
           {
            "bin_end": 0.8,
            "bin_start": 0.7000000000000001,
            "count": 0
           },
           {
            "bin_end": 0.9,
            "bin_start": 0.8,
            "count": 0
           },
           {
            "bin_end": 1,
            "bin_start": 0.9,
            "count": 1
           }
          ],
          "max": "1.0",
          "min": "0.0",
          "nan_count": 0,
          "unique_count": 2
         }
        },
        {
         "dtype": "float64",
         "name": "Class_Eco",
         "stats": {
          "histogram": [
           {
            "bin_end": -0.4,
            "bin_start": -0.5,
            "count": 0
           },
           {
            "bin_end": -0.3,
            "bin_start": -0.4,
            "count": 0
           },
           {
            "bin_end": -0.19999999999999996,
            "bin_start": -0.3,
            "count": 0
           },
           {
            "bin_end": -0.09999999999999998,
            "bin_start": -0.19999999999999996,
            "count": 0
           },
           {
            "bin_end": 0,
            "bin_start": -0.09999999999999998,
            "count": 0
           },
           {
            "bin_end": 0.10000000000000009,
            "bin_start": 0,
            "count": 5
           },
           {
            "bin_end": 0.20000000000000007,
            "bin_start": 0.10000000000000009,
            "count": 0
           },
           {
            "bin_end": 0.30000000000000004,
            "bin_start": 0.20000000000000007,
            "count": 0
           },
           {
            "bin_end": 0.4,
            "bin_start": 0.30000000000000004,
            "count": 0
           },
           {
            "bin_end": 0.5,
            "bin_start": 0.4,
            "count": 0
           }
          ],
          "max": "0.0",
          "min": "0.0",
          "nan_count": 0,
          "unique_count": 1
         }
        },
        {
         "dtype": "float64",
         "name": "Class_Eco Plus",
         "stats": {
          "histogram": [
           {
            "bin_end": 0.1,
            "bin_start": 0,
            "count": 4
           },
           {
            "bin_end": 0.2,
            "bin_start": 0.1,
            "count": 0
           },
           {
            "bin_end": 0.30000000000000004,
            "bin_start": 0.2,
            "count": 0
           },
           {
            "bin_end": 0.4,
            "bin_start": 0.30000000000000004,
            "count": 0
           },
           {
            "bin_end": 0.5,
            "bin_start": 0.4,
            "count": 0
           },
           {
            "bin_end": 0.6000000000000001,
            "bin_start": 0.5,
            "count": 0
           },
           {
            "bin_end": 0.7000000000000001,
            "bin_start": 0.6000000000000001,
            "count": 0
           },
           {
            "bin_end": 0.8,
            "bin_start": 0.7000000000000001,
            "count": 0
           },
           {
            "bin_end": 0.9,
            "bin_start": 0.8,
            "count": 0
           },
           {
            "bin_end": 1,
            "bin_start": 0.9,
            "count": 1
           }
          ],
          "max": "1.0",
          "min": "0.0",
          "nan_count": 0,
          "unique_count": 2
         }
        },
        {
         "dtype": "int64",
         "name": "_deepnote_index_column"
        }
       ],
       "row_count": 5,
       "rows": [
        {
         "Age": -1.7479614482714039,
         "Arrival Delay in Minutes": 0.07562285766673445,
         "Baggage handling": 4,
         "Checkin service": 4,
         "Class_Eco": 0,
         "Class_Eco Plus": 1,
         "Cleanliness": 5,
         "Customer Type_disloyal Customer": 0,
         "Departure Delay in Minutes": 0.27018709358602366,
         "Departure/Arrival time convenient": 4,
         "Ease of Online booking": 3,
         "Flight Distance": -0.7321844600879391,
         "Food and drink": 5,
         "Gate location": 1,
         "Gender_Male": 1,
         "Inflight entertainment": 5,
         "Inflight service": 5,
         "Inflight wifi service": 3,
         "Leg room service": 3,
         "On-board service": 4,
         "Online boarding": 3,
         "Seat comfort": 5,
         "Type of Travel_Personal Travel": 1,
         "_deepnote_index_column": 0,
         "id": 70172
        },
        {
         "Age": -0.9542740014386546,
         "Arrival Delay in Minutes": -0.23634499578320953,
         "Baggage handling": 3,
         "Checkin service": 1,
         "Class_Eco": 0,
         "Class_Eco Plus": 0,
         "Cleanliness": 1,
         "Customer Type_disloyal Customer": 1,
         "Departure Delay in Minutes": -0.3602143360420974,
         "Departure/Arrival time convenient": 2,
         "Ease of Online booking": 3,
         "Flight Distance": -0.9577599850414571,
         "Food and drink": 1,
         "Gate location": 3,
         "Gender_Male": 1,
         "Inflight entertainment": 1,
         "Inflight service": 4,
         "Inflight wifi service": 3,
         "Leg room service": 5,
         "On-board service": 1,
         "Online boarding": 3,
         "Seat comfort": 1,
         "Type of Travel_Personal Travel": 0,
         "_deepnote_index_column": 1,
         "id": 5047
        },
        {
         "Age": -0.8881333808692589,
         "Arrival Delay in Minutes": -0.3923289225081815,
         "Baggage handling": 4,
         "Checkin service": 4,
         "Class_Eco": 0,
         "Class_Eco Plus": 0,
         "Cleanliness": 5,
         "Customer Type_disloyal Customer": 0,
         "Departure Delay in Minutes": -0.38648106227660245,
         "Departure/Arrival time convenient": 2,
         "Ease of Online booking": 2,
         "Flight Distance": -0.048439980006608915,
         "Food and drink": 5,
         "Gate location": 2,
         "Gender_Male": 0,
         "Inflight entertainment": 5,
         "Inflight service": 4,
         "Inflight wifi service": 2,
         "Leg room service": 3,
         "On-board service": 4,
         "Online boarding": 5,
         "Seat comfort": 5,
         "Type of Travel_Personal Travel": 0,
         "_deepnote_index_column": 2,
         "id": 110028
        },
        {
         "Age": -0.9542740014386546,
         "Arrival Delay in Minutes": -0.15835303242072354,
         "Baggage handling": 3,
         "Checkin service": 1,
         "Class_Eco": 0,
         "Class_Eco Plus": 0,
         "Cleanliness": 2,
         "Customer Type_disloyal Customer": 0,
         "Departure Delay in Minutes": -0.09754707369704695,
         "Departure/Arrival time convenient": 5,
         "Ease of Online booking": 5,
         "Flight Distance": -0.6299235554423442,
         "Food and drink": 2,
         "Gate location": 5,
         "Gender_Male": 0,
         "Inflight entertainment": 2,
         "Inflight service": 4,
         "Inflight wifi service": 2,
         "Leg room service": 5,
         "On-board service": 2,
         "Online boarding": 2,
         "Seat comfort": 2,
         "Type of Travel_Personal Travel": 0,
         "_deepnote_index_column": 3,
         "id": 24026
        },
        {
         "Age": 1.4267883390595932,
         "Arrival Delay in Minutes": -0.3923289225081815,
         "Baggage handling": 4,
         "Checkin service": 3,
         "Class_Eco": 0,
         "Class_Eco Plus": 0,
         "Cleanliness": 3,
         "Customer Type_disloyal Customer": 0,
         "Departure Delay in Minutes": -0.38648106227660245,
         "Departure/Arrival time convenient": 3,
         "Ease of Online booking": 3,
         "Flight Distance": -0.9788137007037855,
         "Food and drink": 4,
         "Gate location": 3,
         "Gender_Male": 1,
         "Inflight entertainment": 3,
         "Inflight service": 3,
         "Inflight wifi service": 3,
         "Leg room service": 4,
         "On-board service": 3,
         "Online boarding": 5,
         "Seat comfort": 5,
         "Type of Travel_Personal Travel": 0,
         "_deepnote_index_column": 4,
         "id": 119299
        }
       ]
      },
      "text/html": [
       "<div>\n",
       "<style scoped>\n",
       "    .dataframe tbody tr th:only-of-type {\n",
       "        vertical-align: middle;\n",
       "    }\n",
       "\n",
       "    .dataframe tbody tr th {\n",
       "        vertical-align: top;\n",
       "    }\n",
       "\n",
       "    .dataframe thead th {\n",
       "        text-align: right;\n",
       "    }\n",
       "</style>\n",
       "<table border=\"1\" class=\"dataframe\">\n",
       "  <thead>\n",
       "    <tr style=\"text-align: right;\">\n",
       "      <th></th>\n",
       "      <th>id</th>\n",
       "      <th>Age</th>\n",
       "      <th>Flight Distance</th>\n",
       "      <th>Inflight wifi service</th>\n",
       "      <th>Departure/Arrival time convenient</th>\n",
       "      <th>Ease of Online booking</th>\n",
       "      <th>Gate location</th>\n",
       "      <th>Food and drink</th>\n",
       "      <th>Online boarding</th>\n",
       "      <th>Seat comfort</th>\n",
       "      <th>...</th>\n",
       "      <th>Checkin service</th>\n",
       "      <th>Inflight service</th>\n",
       "      <th>Cleanliness</th>\n",
       "      <th>Departure Delay in Minutes</th>\n",
       "      <th>Arrival Delay in Minutes</th>\n",
       "      <th>Gender_Male</th>\n",
       "      <th>Customer Type_disloyal Customer</th>\n",
       "      <th>Type of Travel_Personal Travel</th>\n",
       "      <th>Class_Eco</th>\n",
       "      <th>Class_Eco Plus</th>\n",
       "    </tr>\n",
       "  </thead>\n",
       "  <tbody>\n",
       "    <tr>\n",
       "      <th>0</th>\n",
       "      <td>70172.0</td>\n",
       "      <td>-1.747961</td>\n",
       "      <td>-0.732184</td>\n",
       "      <td>3.0</td>\n",
       "      <td>4.0</td>\n",
       "      <td>3.0</td>\n",
       "      <td>1.0</td>\n",
       "      <td>5.0</td>\n",
       "      <td>3.0</td>\n",
       "      <td>5.0</td>\n",
       "      <td>...</td>\n",
       "      <td>4.0</td>\n",
       "      <td>5.0</td>\n",
       "      <td>5.0</td>\n",
       "      <td>0.270187</td>\n",
       "      <td>0.075623</td>\n",
       "      <td>1.0</td>\n",
       "      <td>0.0</td>\n",
       "      <td>1.0</td>\n",
       "      <td>0.0</td>\n",
       "      <td>1.0</td>\n",
       "    </tr>\n",
       "    <tr>\n",
       "      <th>1</th>\n",
       "      <td>5047.0</td>\n",
       "      <td>-0.954274</td>\n",
       "      <td>-0.957760</td>\n",
       "      <td>3.0</td>\n",
       "      <td>2.0</td>\n",
       "      <td>3.0</td>\n",
       "      <td>3.0</td>\n",
       "      <td>1.0</td>\n",
       "      <td>3.0</td>\n",
       "      <td>1.0</td>\n",
       "      <td>...</td>\n",
       "      <td>1.0</td>\n",
       "      <td>4.0</td>\n",
       "      <td>1.0</td>\n",
       "      <td>-0.360214</td>\n",
       "      <td>-0.236345</td>\n",
       "      <td>1.0</td>\n",
       "      <td>1.0</td>\n",
       "      <td>0.0</td>\n",
       "      <td>0.0</td>\n",
       "      <td>0.0</td>\n",
       "    </tr>\n",
       "    <tr>\n",
       "      <th>2</th>\n",
       "      <td>110028.0</td>\n",
       "      <td>-0.888133</td>\n",
       "      <td>-0.048440</td>\n",
       "      <td>2.0</td>\n",
       "      <td>2.0</td>\n",
       "      <td>2.0</td>\n",
       "      <td>2.0</td>\n",
       "      <td>5.0</td>\n",
       "      <td>5.0</td>\n",
       "      <td>5.0</td>\n",
       "      <td>...</td>\n",
       "      <td>4.0</td>\n",
       "      <td>4.0</td>\n",
       "      <td>5.0</td>\n",
       "      <td>-0.386481</td>\n",
       "      <td>-0.392329</td>\n",
       "      <td>0.0</td>\n",
       "      <td>0.0</td>\n",
       "      <td>0.0</td>\n",
       "      <td>0.0</td>\n",
       "      <td>0.0</td>\n",
       "    </tr>\n",
       "    <tr>\n",
       "      <th>3</th>\n",
       "      <td>24026.0</td>\n",
       "      <td>-0.954274</td>\n",
       "      <td>-0.629924</td>\n",
       "      <td>2.0</td>\n",
       "      <td>5.0</td>\n",
       "      <td>5.0</td>\n",
       "      <td>5.0</td>\n",
       "      <td>2.0</td>\n",
       "      <td>2.0</td>\n",
       "      <td>2.0</td>\n",
       "      <td>...</td>\n",
       "      <td>1.0</td>\n",
       "      <td>4.0</td>\n",
       "      <td>2.0</td>\n",
       "      <td>-0.097547</td>\n",
       "      <td>-0.158353</td>\n",
       "      <td>0.0</td>\n",
       "      <td>0.0</td>\n",
       "      <td>0.0</td>\n",
       "      <td>0.0</td>\n",
       "      <td>0.0</td>\n",
       "    </tr>\n",
       "    <tr>\n",
       "      <th>4</th>\n",
       "      <td>119299.0</td>\n",
       "      <td>1.426788</td>\n",
       "      <td>-0.978814</td>\n",
       "      <td>3.0</td>\n",
       "      <td>3.0</td>\n",
       "      <td>3.0</td>\n",
       "      <td>3.0</td>\n",
       "      <td>4.0</td>\n",
       "      <td>5.0</td>\n",
       "      <td>5.0</td>\n",
       "      <td>...</td>\n",
       "      <td>3.0</td>\n",
       "      <td>3.0</td>\n",
       "      <td>3.0</td>\n",
       "      <td>-0.386481</td>\n",
       "      <td>-0.392329</td>\n",
       "      <td>1.0</td>\n",
       "      <td>0.0</td>\n",
       "      <td>0.0</td>\n",
       "      <td>0.0</td>\n",
       "      <td>0.0</td>\n",
       "    </tr>\n",
       "  </tbody>\n",
       "</table>\n",
       "<p>5 rows × 24 columns</p>\n",
       "</div>"
      ],
      "text/plain": [
       "         id       Age  Flight Distance  Inflight wifi service  \\\n",
       "0   70172.0 -1.747961        -0.732184                    3.0   \n",
       "1    5047.0 -0.954274        -0.957760                    3.0   \n",
       "2  110028.0 -0.888133        -0.048440                    2.0   \n",
       "3   24026.0 -0.954274        -0.629924                    2.0   \n",
       "4  119299.0  1.426788        -0.978814                    3.0   \n",
       "\n",
       "   Departure/Arrival time convenient  Ease of Online booking  Gate location  \\\n",
       "0                                4.0                     3.0            1.0   \n",
       "1                                2.0                     3.0            3.0   \n",
       "2                                2.0                     2.0            2.0   \n",
       "3                                5.0                     5.0            5.0   \n",
       "4                                3.0                     3.0            3.0   \n",
       "\n",
       "   Food and drink  Online boarding  Seat comfort  ...  Checkin service  \\\n",
       "0             5.0              3.0           5.0  ...              4.0   \n",
       "1             1.0              3.0           1.0  ...              1.0   \n",
       "2             5.0              5.0           5.0  ...              4.0   \n",
       "3             2.0              2.0           2.0  ...              1.0   \n",
       "4             4.0              5.0           5.0  ...              3.0   \n",
       "\n",
       "   Inflight service  Cleanliness  Departure Delay in Minutes  \\\n",
       "0               5.0          5.0                    0.270187   \n",
       "1               4.0          1.0                   -0.360214   \n",
       "2               4.0          5.0                   -0.386481   \n",
       "3               4.0          2.0                   -0.097547   \n",
       "4               3.0          3.0                   -0.386481   \n",
       "\n",
       "   Arrival Delay in Minutes  Gender_Male  Customer Type_disloyal Customer  \\\n",
       "0                  0.075623          1.0                              0.0   \n",
       "1                 -0.236345          1.0                              1.0   \n",
       "2                 -0.392329          0.0                              0.0   \n",
       "3                 -0.158353          0.0                              0.0   \n",
       "4                 -0.392329          1.0                              0.0   \n",
       "\n",
       "   Type of Travel_Personal Travel  Class_Eco  Class_Eco Plus  \n",
       "0                             1.0        0.0             1.0  \n",
       "1                             0.0        0.0             0.0  \n",
       "2                             0.0        0.0             0.0  \n",
       "3                             0.0        0.0             0.0  \n",
       "4                             0.0        0.0             0.0  \n",
       "\n",
       "[5 rows x 24 columns]"
      ]
     },
     "execution_count": 57,
     "metadata": {},
     "output_type": "execute_result"
    }
   ],
   "source": [
    " imputer = KNNImputer(n_neighbors=2)\n",
    "X_scaled = pd.DataFrame(imputer.fit_transform(X_scaled),columns = X_scaled.columns)\n",
    "X_scaled.head()"
   ]
  },
  {
   "cell_type": "markdown",
   "metadata": {
    "cell_id": "1c66b7d954624f41aabe97510a59a427",
    "deepnote_cell_height": 70,
    "deepnote_cell_type": "markdown",
    "tags": []
   },
   "source": [
    "## Exploratory data analysis"
   ]
  },
  {
   "cell_type": "markdown",
   "metadata": {
    "cell_id": "f28a0f8d7ba34953a47f81aefaeabae4",
    "deepnote_cell_height": 62,
    "deepnote_cell_type": "markdown",
    "tags": []
   },
   "source": [
    "### Class Imbalance"
   ]
  },
  {
   "cell_type": "code",
   "execution_count": null,
   "metadata": {
    "cell_id": "f7a524205c934a7aaa7f36afa1471306",
    "deepnote_cell_height": 823.6875,
    "deepnote_cell_type": "code",
    "deepnote_output_heights": [
     60,
     null,
     392
    ],
    "deepnote_to_be_reexecuted": false,
    "execution_millis": 645,
    "execution_start": 1652037822706,
    "source_hash": "dc883b59",
    "tags": []
   },
   "outputs": [
    {
     "data": {
      "text/plain": [
       "0    73452\n",
       "1    56428\n",
       "Name: satisfaction, dtype: int64"
      ]
     },
     "metadata": {},
     "output_type": "display_data"
    },
    {
     "name": "stdout",
     "output_type": "stream",
     "text": [
      "We will use a threshold value of 0.43446258084385586 to account for class imbalance.\n"
     ]
    },
    {
     "data": {
      "image/png": "[encoded data removed]",
      "text/plain": [
       "<Figure size 576x432 with 1 Axes>"
      ]
     },
     "metadata": {
      "image/png": {
       "height": 390,
       "width": 491
      },
      "needs_background": "light"
     },
     "output_type": "display_data"
    }
   ],
   "source": [
    "# Class imbalance\n",
    "\n",
    "display(full_processed_df['satisfaction'].value_counts())\n",
    "plt.figure(figsize = (8,6))\n",
    "full_df.satisfaction.value_counts().sort_values().plot(kind = 'barh')\n",
    "plt.xlabel('Count', fontsize = 12)\n",
    "plt.ylabel('Target', fontsize = 12)\n",
    "plt.title('Class labels', fontsize = 12)\n",
    "\n",
    "# threshold to account for class imbalance\n",
    "threshold = full_df['satisfaction'].mean()\n",
    "print(f\"We will use a threshold value of {threshold} to account for class imbalance.\")"
   ]
  },
  {
   "cell_type": "markdown",
   "metadata": {
    "cell_id": "dc1e3749550b4ea5ac91ce8881e90bc2",
    "deepnote_cell_height": 74.796875,
    "deepnote_cell_type": "markdown",
    "tags": []
   },
   "source": [
    "**From the above barplot, we note that we have around 23% count difference between 'satisfied' labels (label 1) and 'dissatisfied or neutral' labels. The custom threshold will help us deal with this class imbalance.**"
   ]
  },
  {
   "cell_type": "markdown",
   "metadata": {
    "cell_id": "27bb537371f14d6ab8c3a2b00a9d2569",
    "deepnote_cell_height": 62,
    "deepnote_cell_type": "markdown",
    "tags": []
   },
   "source": [
    "### Feature correlation"
   ]
  },
  {
   "cell_type": "code",
   "execution_count": null,
   "metadata": {
    "cell_id": "986ddd48a8304f2a86faa06d6cefccc2",
    "deepnote_cell_height": 993.578125,
    "deepnote_cell_type": "code",
    "deepnote_output_heights": [
     null,
     21,
     611
    ],
    "deepnote_to_be_reexecuted": false,
    "execution_millis": 5328,
    "execution_start": 1652037831586,
    "source_hash": "26cfe2",
    "tags": []
   },
   "outputs": [
    {
     "name": "stderr",
     "output_type": "stream",
     "text": [
      "/shared-libs/python3.7/py-core/lib/python3.7/site-packages/ipykernel_launcher.py:3: DeprecationWarning: `np.bool` is a deprecated alias for the builtin `bool`. To silence this warning, use `bool` by itself. Doing this will not modify any behavior and is safe. If you specifically wanted the numpy scalar type, use `np.bool_` here.\n",
      "Deprecated in NumPy 1.20; for more details and guidance: https://numpy.org/devdocs/release/1.20.0-notes.html#deprecations\n",
      "  This is separate from the ipykernel package so we can avoid doing imports until\n"
     ]
    },
    {
     "data": {
      "text/plain": [
       "<AxesSubplot:>"
      ]
     },
     "execution_count": 59,
     "metadata": {},
     "output_type": "execute_result"
    },
    {
     "data": {
      "image/png": "[encoded data removed]",
      "text/plain": [
       "<Figure size 1440x1296 with 2 Axes>"
      ]
     },
     "metadata": {
      "image/png": {
       "height": 1128,
       "width": 1221
      },
      "needs_background": "light"
     },
     "output_type": "display_data"
    }
   ],
   "source": [
    "#Correlation matrix between all the columns\n",
    "corr = full_processed_df.corr(method='spearman')\n",
    "mask = np.zeros_like(corr, dtype=np.bool)\n",
    "mask[np.triu_indices_from(mask)] = True\n",
    "\n",
    "fig, ax = plt.subplots(figsize=(20, 18))\n",
    "# Draw the heatmap with the mask and correct aspect ratio\n",
    "sns.heatmap(corr, annot = True, mask=mask, cmap=\"YlGnBu\", center=0,\n",
    "            square=True, linewidths=.5)"
   ]
  },
  {
   "cell_type": "markdown",
   "metadata": {
    "cell_id": "149b7605e43e448bad72a5109d90b4d4",
    "deepnote_cell_height": 74.796875,
    "deepnote_cell_type": "markdown",
    "tags": []
   },
   "source": [
    "**We notice strong positve correlations between some of the predictors. Let us look at that in more details as it could impact our performance on linear models.**"
   ]
  },
  {
   "cell_type": "code",
   "execution_count": null,
   "metadata": {
    "cell_id": "f6cdb59c3f074a359ab19bd7389a6a0d",
    "deepnote_cell_height": 386,
    "deepnote_cell_type": "code",
    "deepnote_output_heights": [
     271
    ],
    "deepnote_to_be_reexecuted": false,
    "execution_millis": 14,
    "execution_start": 1652040124284,
    "source_hash": "79b17deb",
    "tags": []
   },
   "outputs": [
    {
     "data": {
      "text/plain": [
       "Departure Delay in Minutes      Arrival Delay in Minutes    0.740284\n",
       "Inflight wifi service           Ease of Online booking      0.710948\n",
       "Inflight entertainment          Cleanliness                 0.680963\n",
       "Seat comfort                    Cleanliness                 0.667978\n",
       "Food and drink                  Cleanliness                 0.647080\n",
       "Baggage handling                Inflight service            0.630642\n",
       "Food and drink                  Inflight entertainment      0.610895\n",
       "Seat comfort                    Inflight entertainment      0.604704\n",
       "On-board service                Inflight service            0.569414\n",
       "Food and drink                  Seat comfort                0.558318\n",
       "Online boarding                 satisfaction                0.549520\n",
       "On-board service                Baggage handling            0.536600\n",
       "Type of Travel_Personal Travel  Class_Eco                   0.501083\n",
       "dtype: float64"
      ]
     },
     "execution_count": 94,
     "metadata": {},
     "output_type": "execute_result"
    }
   ],
   "source": [
    "# Highly correlated predictors\n",
    "corr.where(np.triu(np.abs(corr) > 0.5, k=1)).stack().sort_values(ascending = False)"
   ]
  },
  {
   "cell_type": "markdown",
   "metadata": {
    "cell_id": "e56d14ab23b448b4a23a1742d9be53b7",
    "deepnote_cell_height": 97.1875,
    "deepnote_cell_type": "markdown",
    "tags": []
   },
   "source": [
    "**Some of the above seem to be correlated by pure coincidence like 'Inflight wifi service' and 'Ease of Online booking', which should not be naturally related. On the other hand, it is easy to understand why Departure Delay in Minutes and Arrival Delay in Minutes would be highly correlated, since the former would most likely be linearly related to the latter.**"
   ]
  },
  {
   "cell_type": "markdown",
   "metadata": {
    "cell_id": "145653be865f4cc49e3c293f974ed880",
    "deepnote_cell_height": 62,
    "deepnote_cell_type": "markdown",
    "tags": []
   },
   "source": [
    "### Feature distribution"
   ]
  },
  {
   "cell_type": "code",
   "execution_count": null,
   "metadata": {
    "cell_id": "88ae2590ba0542a9a3404f993a1f85e2",
    "deepnote_cell_height": 888,
    "deepnote_cell_type": "code",
    "deepnote_output_heights": [
     611
    ],
    "deepnote_to_be_reexecuted": false,
    "execution_millis": 3802,
    "execution_start": 1652037843127,
    "source_hash": "f14ca1d",
    "tags": []
   },
   "outputs": [
    {
     "data": {
      "image/png": "[encoded data removed]",
      "text/plain": [
       "<Figure size 1080x1080 with 19 Axes>"
      ]
     },
     "metadata": {
      "image/png": {
       "height": 1072,
       "width": 1072
      },
      "needs_background": "light"
     },
     "output_type": "display_data"
    }
   ],
   "source": [
    "# Feature distributions\n",
    "# categorical \n",
    "fig, axes = plt.subplots(7, 3, figsize = (15, 15))\n",
    "for i, x in enumerate(cat):\n",
    "    sns.countplot(ax=axes[i//3, i%3],x=x,data=full_processed_df)\n",
    "\n",
    "fig.delaxes(axes[6][1])\n",
    "fig.delaxes(axes[6][2])\n",
    "fig.tight_layout()\n",
    "plt.show()\n"
   ]
  },
  {
   "cell_type": "code",
   "execution_count": null,
   "metadata": {
    "cell_id": "b9de2279163d478fbe1eb81c0bb0bf5e",
    "deepnote_cell_height": 1052,
    "deepnote_cell_type": "code",
    "deepnote_output_heights": [
     null,
     611
    ],
    "deepnote_to_be_reexecuted": false,
    "execution_millis": 5108,
    "execution_start": 1652037853443,
    "source_hash": "2c291c3c",
    "tags": []
   },
   "outputs": [
    {
     "name": "stderr",
     "output_type": "stream",
     "text": [
      "No artists with labels found to put in legend.  Note that artists whose label start with an underscore are ignored when legend() is called with no argument.\n",
      "No artists with labels found to put in legend.  Note that artists whose label start with an underscore are ignored when legend() is called with no argument.\n",
      "No artists with labels found to put in legend.  Note that artists whose label start with an underscore are ignored when legend() is called with no argument.\n",
      "No artists with labels found to put in legend.  Note that artists whose label start with an underscore are ignored when legend() is called with no argument.\n"
     ]
    },
    {
     "data": {
      "image/png": "[encoded data removed]",
      "text/plain": [
       "<Figure size 864x864 with 4 Axes>"
      ]
     },
     "metadata": {
      "image/png": {
       "height": 856,
       "width": 856
      },
      "needs_background": "light"
     },
     "output_type": "display_data"
    }
   ],
   "source": [
    "# Numerical data\n",
    "\n",
    "# delete duplicated indices\n",
    "temp_df = full_processed_df.loc[~full_processed_df.index.duplicated(), :]\n",
    "\n",
    "fig, axs = plt.subplots(2, 2, figsize = (12, 12))\n",
    "axs = axs.ravel()\n",
    "for i, x in enumerate(quant):\n",
    "    sns.kdeplot(data=temp_df,x=x,ax=axs[i],fill=True, palette=\"crest\", alpha=.5)\n",
    "    axs[i].set_xlabel(x)\n",
    "    axs[i].legend()\n",
    "\n",
    "fig.tight_layout()\n",
    "plt.show()    "
   ]
  },
  {
   "cell_type": "markdown",
   "metadata": {
    "cell_id": "c063f03e07734992b4c9527df13d2ccc",
    "deepnote_cell_height": 62,
    "deepnote_cell_type": "markdown",
    "tags": []
   },
   "source": [
    "### Target vs Predictors Distribution"
   ]
  },
  {
   "cell_type": "code",
   "execution_count": null,
   "metadata": {
    "cell_id": "f02f01a8d1364f2abbc7288f8a6b529e",
    "deepnote_cell_height": 888,
    "deepnote_cell_type": "code",
    "deepnote_output_heights": [
     611
    ],
    "deepnote_to_be_reexecuted": false,
    "execution_millis": 1061,
    "execution_start": 1652037861810,
    "source_hash": "b3f07a43",
    "tags": []
   },
   "outputs": [
    {
     "data": {
      "image/png": "[encoded data removed]",
      "text/plain": [
       "<Figure size 864x864 with 4 Axes>"
      ]
     },
     "metadata": {
      "image/png": {
       "height": 697,
       "width": 730
      },
      "needs_background": "light"
     },
     "output_type": "display_data"
    }
   ],
   "source": [
    "# numerical data\n",
    "fig, axs = plt.subplots(2,2,figsize=(12,12))\n",
    "axs = axs.ravel()\n",
    "for i, x in enumerate(quant):\n",
    "\n",
    "      sns.boxplot(data=full_processed_df,x='satisfaction',y=x,ax=axs[i])\n",
    "      x_ticks = [0,1]\n",
    "      x_labels = ['Not satisfied', 'Satisfied']\n",
    "      axs[i].set_xlabel('Satisfaction')\n",
    "      axs[i].set_xticks(x_ticks)\n",
    "      axs[i].set_xticklabels(x_labels)"
   ]
  },
  {
   "cell_type": "code",
   "execution_count": null,
   "metadata": {
    "cell_id": "208f701ac4464747886b02a396fdbcb5",
    "deepnote_cell_height": 821,
    "deepnote_cell_type": "code",
    "deepnote_output_heights": [
     580
    ],
    "deepnote_to_be_reexecuted": false,
    "execution_millis": 2780,
    "execution_start": 1652037864013,
    "source_hash": "b84d3957",
    "tags": []
   },
   "outputs": [
    {
     "data": {
      "image/png": "[encoded data removed]",
      "text/plain": [
       "<Figure size 1008x720 with 6 Axes>"
      ]
     },
     "metadata": {
      "image/png": {
       "height": 712,
       "width": 1000
      },
      "needs_background": "light"
     },
     "output_type": "display_data"
    }
   ],
   "source": [
    "# Categorical data: Class, Cleanliness, Inflight service, Inflight entertainment, Leg room service, Seat comfort\n",
    "col = ['Class', 'Cleanliness', 'Inflight service', 'Inflight entertainment', 'Leg room service', 'Seat comfort']\n",
    "\n",
    "fig, axs = plt.subplots(2, 3, figsize = (14,10))\n",
    "axs = axs.ravel()\n",
    "for i, x in enumerate(col):\n",
    "    sns.countplot(x = x, hue = 'satisfaction', palette = \"pastel\", data = full_df, ax = axs[i])\n",
    "\n",
    "fig.tight_layout()"
   ]
  },
  {
   "cell_type": "markdown",
   "metadata": {
    "cell_id": "3482d5d2d52447b68e51db819d4510fc",
    "deepnote_cell_height": 70,
    "deepnote_cell_type": "markdown",
    "tags": []
   },
   "source": [
    "## Data Split: Train/Val/Test"
   ]
  },
  {
   "cell_type": "code",
   "execution_count": null,
   "metadata": {
    "cell_id": "13e992cb612648bf86ec69aa94946e9d",
    "deepnote_cell_height": 117,
    "deepnote_cell_type": "code",
    "deepnote_to_be_reexecuted": false,
    "execution_millis": 50,
    "execution_start": 1652037867867,
    "source_hash": "7e43a84",
    "tags": []
   },
   "outputs": [],
   "source": [
    "X = X_scaled\n",
    "X_train_big, X_test, y_train_big, y_test = train_test_split(X, y, test_size = 0.2, random_state = 1)\n",
    "X_train, X_val, y_train, y_val = train_test_split(X_train_big, y_train_big, test_size = 0.2, random_state = 1)"
   ]
  },
  {
   "cell_type": "code",
   "execution_count": null,
   "metadata": {
    "cell_id": "4968c54e61a74a52aa311e524b2140b5",
    "deepnote_cell_height": 111.6875,
    "deepnote_cell_type": "code",
    "deepnote_to_be_reexecuted": false,
    "execution_millis": 3,
    "execution_start": 1652037871432,
    "source_hash": "d4c2c58b",
    "tags": []
   },
   "outputs": [
    {
     "name": "stdout",
     "output_type": "stream",
     "text": [
      "Current number of features: 24\n"
     ]
    }
   ],
   "source": [
    "print(f\"Current number of features: {len(X_train.columns.tolist())}\")"
   ]
  },
  {
   "cell_type": "code",
   "execution_count": null,
   "metadata": {
    "cell_id": "ac876c0072904f33922481b1e0133bde",
    "deepnote_cell_height": 261,
    "deepnote_cell_type": "code",
    "deepnote_to_be_reexecuted": false,
    "execution_millis": 1,
    "execution_start": 1652044378378,
    "source_hash": "1c4cebe1",
    "tags": []
   },
   "outputs": [],
   "source": [
    "# # Create an SelectKBest object to select features with best ANOVA F-Values\n",
    "# k = 18 # tune after modeling if needed\n",
    "# fval_select = SelectKBest(f_classif, k=k)\n",
    "\n",
    "# # Apply the SelectKBest object to the features and target\n",
    "# X_kbest = fval_select.fit(X_train, y_train)\n",
    "# cols = X_kbest.get_support(indices=True)\n",
    "# X_train_select = X_train.iloc[:,cols]\n",
    "# X_val_select = X_val.iloc[:,cols]\n",
    "# X_test_select = X_test.iloc[:,cols]\n",
    "# X_train_select.head()"
   ]
  },
  {
   "cell_type": "code",
   "execution_count": null,
   "metadata": {
    "cell_id": "30041dc4b4164e6392439bbd51ad7b9c",
    "deepnote_cell_height": 117,
    "deepnote_cell_type": "code",
    "deepnote_to_be_reexecuted": false,
    "execution_millis": 0,
    "execution_start": 1652044385879,
    "source_hash": "30cc392a",
    "tags": []
   },
   "outputs": [],
   "source": [
    "# print(f\"Original columns: {X_train.columns.tolist()}\\n\")\n",
    "# print(f\"Columns after feature selection: {X_train_select.columns.tolist()}\")\n",
    "# print(f\"Least important features: {[i for i in X_train.columns if i not in X_train_select.columns]}\")"
   ]
  },
  {
   "cell_type": "code",
   "execution_count": null,
   "metadata": {
    "cell_id": "0b8209452bd14f2587c3260f36f0b9a3",
    "deepnote_cell_height": 171,
    "deepnote_cell_type": "code",
    "deepnote_to_be_reexecuted": false,
    "execution_millis": 7,
    "execution_start": 1652037880682,
    "source_hash": "ef57a2fa",
    "tags": []
   },
   "outputs": [],
   "source": [
    "# # Standardization of quant features\n",
    "# quant_select = [i for i in quant if i not in [i for i in X_train.columns if i not in X_train_select.columns]]\n",
    "# scaler = StandardScaler()\n",
    "# X_train_select[quant_select] = scaler.fit_transform(X_train_select[quant_select])\n",
    "# X_val_select[quant_select] = scaler.transform(X_val_select[quant_select])\n",
    "# X_test_select[quant_select] = scaler.transform(X_test_select[quant_select])"
   ]
  },
  {
   "cell_type": "markdown",
   "metadata": {
    "cell_id": "a9a755cbe2a3417486daf15a1807ce18",
    "deepnote_cell_height": 70,
    "deepnote_cell_type": "markdown",
    "tags": []
   },
   "source": [
    "## Modeling"
   ]
  },
  {
   "cell_type": "code",
   "execution_count": null,
   "metadata": {
    "cell_id": "56e94d2b0c854c2d97fa95acedacc221",
    "deepnote_cell_height": 153,
    "deepnote_cell_type": "code",
    "deepnote_to_be_reexecuted": false,
    "execution_millis": 0,
    "execution_start": 1652037890125,
    "source_hash": "96a66eb",
    "tags": []
   },
   "outputs": [],
   "source": [
    "# # Standardization of quant features\n",
    "# scaler = StandardScaler()\n",
    "# X_train[quant] = scaler.fit_transform(X_train[quant])\n",
    "# X_val[quant] = scaler.transform(X_val[quant])\n",
    "# X_test[quant] = scaler.transform(X_test[quant])"
   ]
  },
  {
   "cell_type": "code",
   "execution_count": null,
   "metadata": {
    "cell_id": "6a6df35cb3094763a3cd48832b2ab6ee",
    "deepnote_cell_height": 171,
    "deepnote_cell_type": "code",
    "deepnote_to_be_reexecuted": false,
    "execution_millis": 0,
    "execution_start": 1652037892975,
    "source_hash": "1bc2384c",
    "tags": []
   },
   "outputs": [],
   "source": [
    "# Keep track of scores.\n",
    "# We will select best model based on validation scores\n",
    "# and provide a final score using the test set.\n",
    "scores_val = {}\n",
    "scores_train = {}\n",
    "models = []"
   ]
  },
  {
   "cell_type": "code",
   "execution_count": null,
   "metadata": {
    "cell_id": "e5f96572689b45c4a2ccd8cc8e4039bc",
    "deepnote_cell_height": 636,
    "deepnote_cell_type": "code",
    "deepnote_to_be_reexecuted": false,
    "execution_millis": 134,
    "execution_start": 1652037893462,
    "source_hash": "7bb0d40a",
    "tags": []
   },
   "outputs": [
    {
     "data": {
      "application/vnd.deepnote.dataframe.v3+json": {
       "column_count": 25,
       "columns": [
        {
         "dtype": "int64",
         "name": "id"
        },
        {
         "dtype": "int64",
         "name": "Age"
        },
        {
         "dtype": "int64",
         "name": "Flight Distance"
        },
        {
         "dtype": "int64",
         "name": "Inflight wifi service"
        },
        {
         "dtype": "int64",
         "name": "Departure/Arrival time convenient"
        },
        {
         "dtype": "int64",
         "name": "Ease of Online booking"
        },
        {
         "dtype": "int64",
         "name": "Gate location"
        },
        {
         "dtype": "int64",
         "name": "Food and drink"
        },
        {
         "dtype": "int64",
         "name": "Online boarding"
        },
        {
         "dtype": "int64",
         "name": "Seat comfort"
        },
        {
         "dtype": "int64",
         "name": "Inflight entertainment"
        },
        {
         "dtype": "int64",
         "name": "On-board service"
        },
        {
         "dtype": "int64",
         "name": "Leg room service"
        },
        {
         "dtype": "int64",
         "name": "Baggage handling"
        },
        {
         "dtype": "int64",
         "name": "Checkin service"
        },
        {
         "dtype": "int64",
         "name": "Inflight service"
        },
        {
         "dtype": "int64",
         "name": "Cleanliness"
        },
        {
         "dtype": "int64",
         "name": "Departure Delay in Minutes"
        },
        {
         "dtype": "float64",
         "name": "Arrival Delay in Minutes"
        },
        {
         "dtype": "int64",
         "name": "satisfaction"
        },
        {
         "dtype": "uint8",
         "name": "Gender_Male"
        },
        {
         "dtype": "uint8",
         "name": "Customer Type_disloyal Customer"
        },
        {
         "dtype": "uint8",
         "name": "Type of Travel_Personal Travel"
        },
        {
         "dtype": "uint8",
         "name": "Class_Eco"
        },
        {
         "dtype": "uint8",
         "name": "Class_Eco Plus"
        },
        {
         "dtype": "int64",
         "name": "_deepnote_index_column"
        }
       ],
       "row_count": 129880,
       "rows": [
        {
         "Age": 13,
         "Arrival Delay in Minutes": 18,
         "Baggage handling": 4,
         "Checkin service": 4,
         "Class_Eco": 0,
         "Class_Eco Plus": 1,
         "Cleanliness": 5,
         "Customer Type_disloyal Customer": 0,
         "Departure Delay in Minutes": 25,
         "Departure/Arrival time convenient": 4,
         "Ease of Online booking": 3,
         "Flight Distance": 460,
         "Food and drink": 5,
         "Gate location": 1,
         "Gender_Male": 1,
         "Inflight entertainment": 5,
         "Inflight service": 5,
         "Inflight wifi service": 3,
         "Leg room service": 3,
         "On-board service": 4,
         "Online boarding": 3,
         "Seat comfort": 5,
         "Type of Travel_Personal Travel": 1,
         "_deepnote_index_column": 0,
         "id": 70172,
         "satisfaction": 0
        },
        {
         "Age": 25,
         "Arrival Delay in Minutes": 6,
         "Baggage handling": 3,
         "Checkin service": 1,
         "Class_Eco": 0,
         "Class_Eco Plus": 0,
         "Cleanliness": 1,
         "Customer Type_disloyal Customer": 1,
         "Departure Delay in Minutes": 1,
         "Departure/Arrival time convenient": 2,
         "Ease of Online booking": 3,
         "Flight Distance": 235,
         "Food and drink": 1,
         "Gate location": 3,
         "Gender_Male": 1,
         "Inflight entertainment": 1,
         "Inflight service": 4,
         "Inflight wifi service": 3,
         "Leg room service": 5,
         "On-board service": 1,
         "Online boarding": 3,
         "Seat comfort": 1,
         "Type of Travel_Personal Travel": 0,
         "_deepnote_index_column": 1,
         "id": 5047,
         "satisfaction": 0
        },
        {
         "Age": 26,
         "Arrival Delay in Minutes": 0,
         "Baggage handling": 4,
         "Checkin service": 4,
         "Class_Eco": 0,
         "Class_Eco Plus": 0,
         "Cleanliness": 5,
         "Customer Type_disloyal Customer": 0,
         "Departure Delay in Minutes": 0,
         "Departure/Arrival time convenient": 2,
         "Ease of Online booking": 2,
         "Flight Distance": 1142,
         "Food and drink": 5,
         "Gate location": 2,
         "Gender_Male": 0,
         "Inflight entertainment": 5,
         "Inflight service": 4,
         "Inflight wifi service": 2,
         "Leg room service": 3,
         "On-board service": 4,
         "Online boarding": 5,
         "Seat comfort": 5,
         "Type of Travel_Personal Travel": 0,
         "_deepnote_index_column": 2,
         "id": 110028,
         "satisfaction": 1
        },
        {
         "Age": 25,
         "Arrival Delay in Minutes": 9,
         "Baggage handling": 3,
         "Checkin service": 1,
         "Class_Eco": 0,
         "Class_Eco Plus": 0,
         "Cleanliness": 2,
         "Customer Type_disloyal Customer": 0,
         "Departure Delay in Minutes": 11,
         "Departure/Arrival time convenient": 5,
         "Ease of Online booking": 5,
         "Flight Distance": 562,
         "Food and drink": 2,
         "Gate location": 5,
         "Gender_Male": 0,
         "Inflight entertainment": 2,
         "Inflight service": 4,
         "Inflight wifi service": 2,
         "Leg room service": 5,
         "On-board service": 2,
         "Online boarding": 2,
         "Seat comfort": 2,
         "Type of Travel_Personal Travel": 0,
         "_deepnote_index_column": 3,
         "id": 24026,
         "satisfaction": 0
        },
        {
         "Age": 61,
         "Arrival Delay in Minutes": 0,
         "Baggage handling": 4,
         "Checkin service": 3,
         "Class_Eco": 0,
         "Class_Eco Plus": 0,
         "Cleanliness": 3,
         "Customer Type_disloyal Customer": 0,
         "Departure Delay in Minutes": 0,
         "Departure/Arrival time convenient": 3,
         "Ease of Online booking": 3,
         "Flight Distance": 214,
         "Food and drink": 4,
         "Gate location": 3,
         "Gender_Male": 1,
         "Inflight entertainment": 3,
         "Inflight service": 3,
         "Inflight wifi service": 3,
         "Leg room service": 4,
         "On-board service": 3,
         "Online boarding": 5,
         "Seat comfort": 5,
         "Type of Travel_Personal Travel": 0,
         "_deepnote_index_column": 4,
         "id": 119299,
         "satisfaction": 1
        },
        {
         "Age": 26,
         "Arrival Delay in Minutes": 0,
         "Baggage handling": 4,
         "Checkin service": 4,
         "Class_Eco": 1,
         "Class_Eco Plus": 0,
         "Cleanliness": 1,
         "Customer Type_disloyal Customer": 0,
         "Departure Delay in Minutes": 0,
         "Departure/Arrival time convenient": 4,
         "Ease of Online booking": 2,
         "Flight Distance": 1180,
         "Food and drink": 1,
         "Gate location": 1,
         "Gender_Male": 0,
         "Inflight entertainment": 1,
         "Inflight service": 4,
         "Inflight wifi service": 3,
         "Leg room service": 4,
         "On-board service": 3,
         "Online boarding": 2,
         "Seat comfort": 1,
         "Type of Travel_Personal Travel": 1,
         "_deepnote_index_column": 5,
         "id": 111157,
         "satisfaction": 0
        },
        {
         "Age": 47,
         "Arrival Delay in Minutes": 23,
         "Baggage handling": 4,
         "Checkin service": 3,
         "Class_Eco": 1,
         "Class_Eco Plus": 0,
         "Cleanliness": 2,
         "Customer Type_disloyal Customer": 0,
         "Departure Delay in Minutes": 9,
         "Departure/Arrival time convenient": 4,
         "Ease of Online booking": 2,
         "Flight Distance": 1276,
         "Food and drink": 2,
         "Gate location": 3,
         "Gender_Male": 1,
         "Inflight entertainment": 2,
         "Inflight service": 5,
         "Inflight wifi service": 2,
         "Leg room service": 3,
         "On-board service": 3,
         "Online boarding": 2,
         "Seat comfort": 2,
         "Type of Travel_Personal Travel": 1,
         "_deepnote_index_column": 6,
         "id": 82113,
         "satisfaction": 0
        },
        {
         "Age": 52,
         "Arrival Delay in Minutes": 0,
         "Baggage handling": 5,
         "Checkin service": 4,
         "Class_Eco": 0,
         "Class_Eco Plus": 0,
         "Cleanliness": 4,
         "Customer Type_disloyal Customer": 0,
         "Departure Delay in Minutes": 4,
         "Departure/Arrival time convenient": 3,
         "Ease of Online booking": 4,
         "Flight Distance": 2035,
         "Food and drink": 5,
         "Gate location": 4,
         "Gender_Male": 0,
         "Inflight entertainment": 5,
         "Inflight service": 5,
         "Inflight wifi service": 4,
         "Leg room service": 5,
         "On-board service": 5,
         "Online boarding": 5,
         "Seat comfort": 5,
         "Type of Travel_Personal Travel": 0,
         "_deepnote_index_column": 7,
         "id": 96462,
         "satisfaction": 1
        },
        {
         "Age": 41,
         "Arrival Delay in Minutes": 0,
         "Baggage handling": 1,
         "Checkin service": 4,
         "Class_Eco": 0,
         "Class_Eco Plus": 0,
         "Cleanliness": 2,
         "Customer Type_disloyal Customer": 0,
         "Departure Delay in Minutes": 0,
         "Departure/Arrival time convenient": 2,
         "Ease of Online booking": 2,
         "Flight Distance": 853,
         "Food and drink": 4,
         "Gate location": 2,
         "Gender_Male": 0,
         "Inflight entertainment": 1,
         "Inflight service": 1,
         "Inflight wifi service": 1,
         "Leg room service": 2,
         "On-board service": 1,
         "Online boarding": 3,
         "Seat comfort": 3,
         "Type of Travel_Personal Travel": 0,
         "_deepnote_index_column": 8,
         "id": 79485,
         "satisfaction": 0
        },
        {
         "Age": 20,
         "Arrival Delay in Minutes": 0,
         "Baggage handling": 4,
         "Checkin service": 4,
         "Class_Eco": 1,
         "Class_Eco Plus": 0,
         "Cleanliness": 2,
         "Customer Type_disloyal Customer": 1,
         "Departure Delay in Minutes": 0,
         "Departure/Arrival time convenient": 3,
         "Ease of Online booking": 3,
         "Flight Distance": 1061,
         "Food and drink": 2,
         "Gate location": 4,
         "Gender_Male": 1,
         "Inflight entertainment": 2,
         "Inflight service": 3,
         "Inflight wifi service": 3,
         "Leg room service": 3,
         "On-board service": 2,
         "Online boarding": 3,
         "Seat comfort": 3,
         "Type of Travel_Personal Travel": 0,
         "_deepnote_index_column": 9,
         "id": 65725,
         "satisfaction": 0
        }
       ]
      },
      "text/html": [
       "<div>\n",
       "<style scoped>\n",
       "    .dataframe tbody tr th:only-of-type {\n",
       "        vertical-align: middle;\n",
       "    }\n",
       "\n",
       "    .dataframe tbody tr th {\n",
       "        vertical-align: top;\n",
       "    }\n",
       "\n",
       "    .dataframe thead th {\n",
       "        text-align: right;\n",
       "    }\n",
       "</style>\n",
       "<table border=\"1\" class=\"dataframe\">\n",
       "  <thead>\n",
       "    <tr style=\"text-align: right;\">\n",
       "      <th></th>\n",
       "      <th>id</th>\n",
       "      <th>Age</th>\n",
       "      <th>Flight Distance</th>\n",
       "      <th>Inflight wifi service</th>\n",
       "      <th>Departure/Arrival time convenient</th>\n",
       "      <th>Ease of Online booking</th>\n",
       "      <th>Gate location</th>\n",
       "      <th>Food and drink</th>\n",
       "      <th>Online boarding</th>\n",
       "      <th>Seat comfort</th>\n",
       "      <th>...</th>\n",
       "      <th>Inflight service</th>\n",
       "      <th>Cleanliness</th>\n",
       "      <th>Departure Delay in Minutes</th>\n",
       "      <th>Arrival Delay in Minutes</th>\n",
       "      <th>satisfaction</th>\n",
       "      <th>Gender_Male</th>\n",
       "      <th>Customer Type_disloyal Customer</th>\n",
       "      <th>Type of Travel_Personal Travel</th>\n",
       "      <th>Class_Eco</th>\n",
       "      <th>Class_Eco Plus</th>\n",
       "    </tr>\n",
       "  </thead>\n",
       "  <tbody>\n",
       "    <tr>\n",
       "      <th>0</th>\n",
       "      <td>70172</td>\n",
       "      <td>13</td>\n",
       "      <td>460</td>\n",
       "      <td>3</td>\n",
       "      <td>4</td>\n",
       "      <td>3</td>\n",
       "      <td>1</td>\n",
       "      <td>5</td>\n",
       "      <td>3</td>\n",
       "      <td>5</td>\n",
       "      <td>...</td>\n",
       "      <td>5</td>\n",
       "      <td>5</td>\n",
       "      <td>25</td>\n",
       "      <td>18.0</td>\n",
       "      <td>0</td>\n",
       "      <td>1</td>\n",
       "      <td>0</td>\n",
       "      <td>1</td>\n",
       "      <td>0</td>\n",
       "      <td>1</td>\n",
       "    </tr>\n",
       "    <tr>\n",
       "      <th>1</th>\n",
       "      <td>5047</td>\n",
       "      <td>25</td>\n",
       "      <td>235</td>\n",
       "      <td>3</td>\n",
       "      <td>2</td>\n",
       "      <td>3</td>\n",
       "      <td>3</td>\n",
       "      <td>1</td>\n",
       "      <td>3</td>\n",
       "      <td>1</td>\n",
       "      <td>...</td>\n",
       "      <td>4</td>\n",
       "      <td>1</td>\n",
       "      <td>1</td>\n",
       "      <td>6.0</td>\n",
       "      <td>0</td>\n",
       "      <td>1</td>\n",
       "      <td>1</td>\n",
       "      <td>0</td>\n",
       "      <td>0</td>\n",
       "      <td>0</td>\n",
       "    </tr>\n",
       "    <tr>\n",
       "      <th>2</th>\n",
       "      <td>110028</td>\n",
       "      <td>26</td>\n",
       "      <td>1142</td>\n",
       "      <td>2</td>\n",
       "      <td>2</td>\n",
       "      <td>2</td>\n",
       "      <td>2</td>\n",
       "      <td>5</td>\n",
       "      <td>5</td>\n",
       "      <td>5</td>\n",
       "      <td>...</td>\n",
       "      <td>4</td>\n",
       "      <td>5</td>\n",
       "      <td>0</td>\n",
       "      <td>0.0</td>\n",
       "      <td>1</td>\n",
       "      <td>0</td>\n",
       "      <td>0</td>\n",
       "      <td>0</td>\n",
       "      <td>0</td>\n",
       "      <td>0</td>\n",
       "    </tr>\n",
       "    <tr>\n",
       "      <th>3</th>\n",
       "      <td>24026</td>\n",
       "      <td>25</td>\n",
       "      <td>562</td>\n",
       "      <td>2</td>\n",
       "      <td>5</td>\n",
       "      <td>5</td>\n",
       "      <td>5</td>\n",
       "      <td>2</td>\n",
       "      <td>2</td>\n",
       "      <td>2</td>\n",
       "      <td>...</td>\n",
       "      <td>4</td>\n",
       "      <td>2</td>\n",
       "      <td>11</td>\n",
       "      <td>9.0</td>\n",
       "      <td>0</td>\n",
       "      <td>0</td>\n",
       "      <td>0</td>\n",
       "      <td>0</td>\n",
       "      <td>0</td>\n",
       "      <td>0</td>\n",
       "    </tr>\n",
       "    <tr>\n",
       "      <th>4</th>\n",
       "      <td>119299</td>\n",
       "      <td>61</td>\n",
       "      <td>214</td>\n",
       "      <td>3</td>\n",
       "      <td>3</td>\n",
       "      <td>3</td>\n",
       "      <td>3</td>\n",
       "      <td>4</td>\n",
       "      <td>5</td>\n",
       "      <td>5</td>\n",
       "      <td>...</td>\n",
       "      <td>3</td>\n",
       "      <td>3</td>\n",
       "      <td>0</td>\n",
       "      <td>0.0</td>\n",
       "      <td>1</td>\n",
       "      <td>1</td>\n",
       "      <td>0</td>\n",
       "      <td>0</td>\n",
       "      <td>0</td>\n",
       "      <td>0</td>\n",
       "    </tr>\n",
       "    <tr>\n",
       "      <th>...</th>\n",
       "      <td>...</td>\n",
       "      <td>...</td>\n",
       "      <td>...</td>\n",
       "      <td>...</td>\n",
       "      <td>...</td>\n",
       "      <td>...</td>\n",
       "      <td>...</td>\n",
       "      <td>...</td>\n",
       "      <td>...</td>\n",
       "      <td>...</td>\n",
       "      <td>...</td>\n",
       "      <td>...</td>\n",
       "      <td>...</td>\n",
       "      <td>...</td>\n",
       "      <td>...</td>\n",
       "      <td>...</td>\n",
       "      <td>...</td>\n",
       "      <td>...</td>\n",
       "      <td>...</td>\n",
       "      <td>...</td>\n",
       "      <td>...</td>\n",
       "    </tr>\n",
       "    <tr>\n",
       "      <th>25971</th>\n",
       "      <td>78463</td>\n",
       "      <td>34</td>\n",
       "      <td>526</td>\n",
       "      <td>3</td>\n",
       "      <td>3</td>\n",
       "      <td>3</td>\n",
       "      <td>1</td>\n",
       "      <td>4</td>\n",
       "      <td>3</td>\n",
       "      <td>4</td>\n",
       "      <td>...</td>\n",
       "      <td>5</td>\n",
       "      <td>4</td>\n",
       "      <td>0</td>\n",
       "      <td>0.0</td>\n",
       "      <td>0</td>\n",
       "      <td>1</td>\n",
       "      <td>1</td>\n",
       "      <td>0</td>\n",
       "      <td>0</td>\n",
       "      <td>0</td>\n",
       "    </tr>\n",
       "    <tr>\n",
       "      <th>25972</th>\n",
       "      <td>71167</td>\n",
       "      <td>23</td>\n",
       "      <td>646</td>\n",
       "      <td>4</td>\n",
       "      <td>4</td>\n",
       "      <td>4</td>\n",
       "      <td>4</td>\n",
       "      <td>4</td>\n",
       "      <td>4</td>\n",
       "      <td>4</td>\n",
       "      <td>...</td>\n",
       "      <td>5</td>\n",
       "      <td>4</td>\n",
       "      <td>0</td>\n",
       "      <td>0.0</td>\n",
       "      <td>1</td>\n",
       "      <td>1</td>\n",
       "      <td>0</td>\n",
       "      <td>0</td>\n",
       "      <td>0</td>\n",
       "      <td>0</td>\n",
       "    </tr>\n",
       "    <tr>\n",
       "      <th>25973</th>\n",
       "      <td>37675</td>\n",
       "      <td>17</td>\n",
       "      <td>828</td>\n",
       "      <td>2</td>\n",
       "      <td>5</td>\n",
       "      <td>1</td>\n",
       "      <td>5</td>\n",
       "      <td>2</td>\n",
       "      <td>1</td>\n",
       "      <td>2</td>\n",
       "      <td>...</td>\n",
       "      <td>4</td>\n",
       "      <td>2</td>\n",
       "      <td>0</td>\n",
       "      <td>0.0</td>\n",
       "      <td>0</td>\n",
       "      <td>0</td>\n",
       "      <td>0</td>\n",
       "      <td>1</td>\n",
       "      <td>1</td>\n",
       "      <td>0</td>\n",
       "    </tr>\n",
       "    <tr>\n",
       "      <th>25974</th>\n",
       "      <td>90086</td>\n",
       "      <td>14</td>\n",
       "      <td>1127</td>\n",
       "      <td>3</td>\n",
       "      <td>3</td>\n",
       "      <td>3</td>\n",
       "      <td>3</td>\n",
       "      <td>4</td>\n",
       "      <td>4</td>\n",
       "      <td>4</td>\n",
       "      <td>...</td>\n",
       "      <td>5</td>\n",
       "      <td>4</td>\n",
       "      <td>0</td>\n",
       "      <td>0.0</td>\n",
       "      <td>1</td>\n",
       "      <td>1</td>\n",
       "      <td>0</td>\n",
       "      <td>0</td>\n",
       "      <td>0</td>\n",
       "      <td>0</td>\n",
       "    </tr>\n",
       "    <tr>\n",
       "      <th>25975</th>\n",
       "      <td>34799</td>\n",
       "      <td>42</td>\n",
       "      <td>264</td>\n",
       "      <td>2</td>\n",
       "      <td>5</td>\n",
       "      <td>2</td>\n",
       "      <td>5</td>\n",
       "      <td>4</td>\n",
       "      <td>2</td>\n",
       "      <td>2</td>\n",
       "      <td>...</td>\n",
       "      <td>1</td>\n",
       "      <td>1</td>\n",
       "      <td>0</td>\n",
       "      <td>0.0</td>\n",
       "      <td>0</td>\n",
       "      <td>0</td>\n",
       "      <td>0</td>\n",
       "      <td>1</td>\n",
       "      <td>1</td>\n",
       "      <td>0</td>\n",
       "    </tr>\n",
       "  </tbody>\n",
       "</table>\n",
       "<p>129880 rows × 25 columns</p>\n",
       "</div>"
      ],
      "text/plain": [
       "           id  Age  Flight Distance  Inflight wifi service  \\\n",
       "0       70172   13              460                      3   \n",
       "1        5047   25              235                      3   \n",
       "2      110028   26             1142                      2   \n",
       "3       24026   25              562                      2   \n",
       "4      119299   61              214                      3   \n",
       "...       ...  ...              ...                    ...   \n",
       "25971   78463   34              526                      3   \n",
       "25972   71167   23              646                      4   \n",
       "25973   37675   17              828                      2   \n",
       "25974   90086   14             1127                      3   \n",
       "25975   34799   42              264                      2   \n",
       "\n",
       "       Departure/Arrival time convenient  Ease of Online booking  \\\n",
       "0                                      4                       3   \n",
       "1                                      2                       3   \n",
       "2                                      2                       2   \n",
       "3                                      5                       5   \n",
       "4                                      3                       3   \n",
       "...                                  ...                     ...   \n",
       "25971                                  3                       3   \n",
       "25972                                  4                       4   \n",
       "25973                                  5                       1   \n",
       "25974                                  3                       3   \n",
       "25975                                  5                       2   \n",
       "\n",
       "       Gate location  Food and drink  Online boarding  Seat comfort  ...  \\\n",
       "0                  1               5                3             5  ...   \n",
       "1                  3               1                3             1  ...   \n",
       "2                  2               5                5             5  ...   \n",
       "3                  5               2                2             2  ...   \n",
       "4                  3               4                5             5  ...   \n",
       "...              ...             ...              ...           ...  ...   \n",
       "25971              1               4                3             4  ...   \n",
       "25972              4               4                4             4  ...   \n",
       "25973              5               2                1             2  ...   \n",
       "25974              3               4                4             4  ...   \n",
       "25975              5               4                2             2  ...   \n",
       "\n",
       "       Inflight service  Cleanliness  Departure Delay in Minutes  \\\n",
       "0                     5            5                          25   \n",
       "1                     4            1                           1   \n",
       "2                     4            5                           0   \n",
       "3                     4            2                          11   \n",
       "4                     3            3                           0   \n",
       "...                 ...          ...                         ...   \n",
       "25971                 5            4                           0   \n",
       "25972                 5            4                           0   \n",
       "25973                 4            2                           0   \n",
       "25974                 5            4                           0   \n",
       "25975                 1            1                           0   \n",
       "\n",
       "       Arrival Delay in Minutes  satisfaction  Gender_Male  \\\n",
       "0                          18.0             0            1   \n",
       "1                           6.0             0            1   \n",
       "2                           0.0             1            0   \n",
       "3                           9.0             0            0   \n",
       "4                           0.0             1            1   \n",
       "...                         ...           ...          ...   \n",
       "25971                       0.0             0            1   \n",
       "25972                       0.0             1            1   \n",
       "25973                       0.0             0            0   \n",
       "25974                       0.0             1            1   \n",
       "25975                       0.0             0            0   \n",
       "\n",
       "       Customer Type_disloyal Customer  Type of Travel_Personal Travel  \\\n",
       "0                                    0                               1   \n",
       "1                                    1                               0   \n",
       "2                                    0                               0   \n",
       "3                                    0                               0   \n",
       "4                                    0                               0   \n",
       "...                                ...                             ...   \n",
       "25971                                1                               0   \n",
       "25972                                0                               0   \n",
       "25973                                0                               1   \n",
       "25974                                0                               0   \n",
       "25975                                0                               1   \n",
       "\n",
       "       Class_Eco  Class_Eco Plus  \n",
       "0              0               1  \n",
       "1              0               0  \n",
       "2              0               0  \n",
       "3              0               0  \n",
       "4              0               0  \n",
       "...          ...             ...  \n",
       "25971          0               0  \n",
       "25972          0               0  \n",
       "25973          1               0  \n",
       "25974          0               0  \n",
       "25975          1               0  \n",
       "\n",
       "[129880 rows x 25 columns]"
      ]
     },
     "execution_count": 73,
     "metadata": {},
     "output_type": "execute_result"
    }
   ],
   "source": [
    "# threshold to account for class imbalance\n",
    "\n",
    "full_processed_df"
   ]
  },
  {
   "cell_type": "markdown",
   "metadata": {
    "cell_id": "d11298fa0fad4781805b4b7d38671d5e",
    "deepnote_cell_height": 62,
    "deepnote_cell_type": "markdown",
    "tags": []
   },
   "source": [
    "### Baseline Model: Lasso Logistic Regression"
   ]
  },
  {
   "cell_type": "code",
   "execution_count": null,
   "metadata": {
    "cell_id": "b6f9f6549c4940b8ad03e6bdb6fc68b5",
    "deepnote_cell_height": 402,
    "deepnote_cell_type": "code",
    "deepnote_to_be_reexecuted": false,
    "execution_millis": 44290,
    "execution_start": 1652037899971,
    "source_hash": "5bcdc17b",
    "tags": []
   },
   "outputs": [
    {
     "name": "stdout",
     "output_type": "stream",
     "text": [
      "The val accuracy of our Baseline Model is 0.8740676579567874\n",
      "The train accuracy of our Baseline Model is 0.8684239019284674\n"
     ]
    }
   ],
   "source": [
    "# Lasso Logistic Regression\n",
    "baseModel = LogisticRegressionCV(random_state=0, penalty = 'l1', solver = 'liblinear')\n",
    "baseModel.fit(X_train, y_train)\n",
    "# Accuracies\n",
    "y_pred_train = baseModel.predict_proba(X_train)[:, 1]\n",
    "y_pred_val = baseModel.predict_proba(X_val)[:, 1]\n",
    "y_pred_train = (y_pred_train>=threshold).astype(int)\n",
    "y_pred_val = (y_pred_val>=threshold).astype(int)\n",
    "acc_val = accuracy_score(y_val, y_pred_val)\n",
    "acc_train = accuracy_score(y_train, y_pred_train)\n",
    "print(f\"The val accuracy of our Baseline Model is {acc_val}\")\n",
    "print(f\"The train accuracy of our Baseline Model is {acc_train}\")\n",
    "scores_lr_tr = []\n",
    "scores_lr_val = []\n",
    "scores_lr_val.append(acc_val)\n",
    "scores_lr_tr.append(acc_train)"
   ]
  },
  {
   "cell_type": "code",
   "execution_count": null,
   "metadata": {
    "cell_id": "4e4605b311fc487097dc75031a85c579",
    "deepnote_cell_height": 1139.78125,
    "deepnote_cell_type": "code",
    "deepnote_output_heights": [
     null,
     264
    ],
    "deepnote_to_be_reexecuted": false,
    "execution_millis": 269,
    "execution_start": 1652037949214,
    "source_hash": "3dfd223f",
    "tags": []
   },
   "outputs": [
    {
     "name": "stdout",
     "output_type": "stream",
     "text": [
      "The train sensitivity with Lasso LR is 0.8898.\n",
      "The train specificity with Lasso LR is 0.8418.\n"
     ]
    },
    {
     "data": {
      "image/png": "[encoded data removed]",
      "text/plain": [
       "<Figure size 432x288 with 2 Axes>"
      ]
     },
     "metadata": {
      "image/png": {
       "height": 262,
       "width": 381
      },
      "needs_background": "light"
     },
     "output_type": "display_data"
    },
    {
     "name": "stdout",
     "output_type": "stream",
     "text": [
      "The validation sensitivity with Lasso LR is 0.8951.\n",
      "The validation specificity with Lasso LR is 0.8476.\n"
     ]
    }
   ],
   "source": [
    "# Confusion Matrix: train\n",
    "conf_mat = confusion_matrix(y_train, y_pred_train)\n",
    "# disp = ConfusionMatrixDisplay(confusion_matrix=conf_mat, display_labels=['Not satisfied', 'satisfied'])\n",
    "\n",
    "# disp.plot(cmap=plt.cm.Blues)\n",
    "# plt.show()\n",
    "\n",
    "tp, fp, fn, tn  = conf_mat[0,0], conf_mat[0,1], conf_mat[1,0], conf_mat[1,1]\n",
    "sensitivity_lr = tp/(tp+fn)\n",
    "specificity_lr = tn/(tn+fp)\n",
    "\n",
    "scores_lr_tr.append(sensitivity_lr)\n",
    "scores_lr_tr.append(specificity_lr)\n",
    "\n",
    "scores_train['Base Model'] = scores_lr_tr\n",
    "\n",
    "print(f\"The train sensitivity with Lasso LR is {sensitivity_lr:.4f}.\")\n",
    "print(f\"The train specificity with Lasso LR is {specificity_lr:.4f}.\")\n",
    "\n",
    "# Confusion Matrix: validation\n",
    "conf_mat = confusion_matrix(y_val, y_pred_val)\n",
    "disp = ConfusionMatrixDisplay(confusion_matrix=conf_mat, display_labels=['Not satisfied', 'satisfied'])\n",
    "\n",
    "disp.plot(cmap=plt.cm.Blues)\n",
    "plt.show()\n",
    "\n",
    "tp, fp, fn, tn  = conf_mat[0,0], conf_mat[0,1], conf_mat[1,0], conf_mat[1,1]\n",
    "sensitivity_lr = tp/(tp+fn)\n",
    "specificity_lr = tn/(tn+fp)\n",
    "\n",
    "scores_lr_val.append(sensitivity_lr)\n",
    "scores_lr_val.append(specificity_lr)\n",
    "\n",
    "scores_val['Base Model'] = scores_lr_val\n",
    "\n",
    "print(f\"The validation sensitivity with Lasso LR is {sensitivity_lr:.4f}.\")\n",
    "print(f\"The validation specificity with Lasso LR is {specificity_lr:.4f}.\")"
   ]
  },
  {
   "cell_type": "markdown",
   "metadata": {
    "cell_id": "5cb02e87f4f1446c82ef950cf8325a8a",
    "deepnote_cell_height": 62,
    "deepnote_cell_type": "markdown",
    "tags": []
   },
   "source": [
    "### Feature Selection using Lasso Logistic Regression"
   ]
  },
  {
   "cell_type": "code",
   "execution_count": null,
   "metadata": {
    "cell_id": "39e93737211e4ffe97350b1806566f48",
    "deepnote_cell_height": 302.96875,
    "deepnote_cell_type": "code",
    "deepnote_to_be_reexecuted": false,
    "execution_millis": 13,
    "execution_start": 1652046329068,
    "source_hash": "ed55d276",
    "tags": []
   },
   "outputs": [
    {
     "name": "stdout",
     "output_type": "stream",
     "text": [
      "There are 0 coefficients in the Lasso Regression that are equal to zero\n",
      "The predictors that are the least useful to make the predictions are Index(['id', 'Flight Distance', 'Gate location', 'Food and drink',\n",
      "       'Inflight entertainment', 'Gender_Male'],\n",
      "      dtype='object')\n",
      "The most useful predictor for the Logistic Regression is Online boarding\n"
     ]
    }
   ],
   "source": [
    "predictors = X_train.columns\n",
    "print(f'There are {len(np.where(baseModel.coef_ == 0)[0])} coefficients in the Lasso Regression that are equal to zero')\n",
    "thresh = 0.05\n",
    "print(f\"The predictors that are the least useful to make the predictions are {predictors[np.where(np.abs(baseModel.coef_)<thresh)[1]]}\") \n",
    "most_imp = predictors[int(np.where(baseModel.coef_ ==np.max(baseModel.coef_))[1])]\n",
    "print(f\"The most useful predictor for the Logistic Regression is {most_imp}\")\n"
   ]
  },
  {
   "cell_type": "code",
   "execution_count": null,
   "metadata": {
    "cell_id": "89e2d512252a44f197c51c211fd6a3bd",
    "deepnote_cell_height": 708,
    "deepnote_cell_type": "code",
    "deepnote_output_heights": [
     78.78125
    ],
    "deepnote_to_be_reexecuted": false,
    "execution_millis": 21,
    "execution_start": 1652046281522,
    "source_hash": "be1ee585",
    "tags": []
   },
   "outputs": [
    {
     "data": {
      "application/vnd.deepnote.dataframe.v3+json": {
       "column_count": 1,
       "columns": [
        {
         "dtype": "float64",
         "name": "Coefficient",
         "stats": {
          "histogram": [
           {
            "bin_end": 0.33073723296929536,
            "bin_start": 0.06477835412949656,
            "count": 11
           },
           {
            "bin_end": 0.5966961118090941,
            "bin_start": 0.33073723296929536,
            "count": 2
           },
           {
            "bin_end": 0.862654990648893,
            "bin_start": 0.5966961118090941,
            "count": 3
           },
           {
            "bin_end": 1.1286138694886918,
            "bin_start": 0.862654990648893,
            "count": 0
           },
           {
            "bin_end": 1.3945727483284907,
            "bin_start": 1.1286138694886918,
            "count": 0
           },
           {
            "bin_end": 1.6605316271682893,
            "bin_start": 1.3945727483284907,
            "count": 0
           },
           {
            "bin_end": 1.9264905060080881,
            "bin_start": 1.6605316271682893,
            "count": 0
           },
           {
            "bin_end": 2.1924493848478868,
            "bin_start": 1.9264905060080881,
            "count": 1
           },
           {
            "bin_end": 2.4584082636876854,
            "bin_start": 2.1924493848478868,
            "count": 0
           },
           {
            "bin_end": 2.7243671425274845,
            "bin_start": 2.4584082636876854,
            "count": 1
           }
          ],
          "max": "2.7243671425274845",
          "min": "0.06477835412949656",
          "nan_count": 0,
          "unique_count": 18
         }
        },
        {
         "dtype": "object",
         "name": "_deepnote_index_column"
        }
       ],
       "row_count": 18,
       "rows": [
        {
         "Coefficient": 2.7243671425274845,
         "_deepnote_index_column": "Type of Travel_Personal Travel"
        },
        {
         "Coefficient": 1.9996415722242735,
         "_deepnote_index_column": "Customer Type_disloyal Customer"
        },
        {
         "Coefficient": 0.8448107920666341,
         "_deepnote_index_column": "Class_Eco Plus"
        },
        {
         "Coefficient": 0.7345513020874235,
         "_deepnote_index_column": "Class_Eco"
        },
        {
         "Coefficient": 0.6218748964659068,
         "_deepnote_index_column": "Online boarding"
        },
        {
         "Coefficient": 0.39659980830523855,
         "_deepnote_index_column": "Inflight wifi service"
        },
        {
         "Coefficient": 0.34743088279352347,
         "_deepnote_index_column": "Arrival Delay in Minutes"
        },
        {
         "Coefficient": 0.3291255344461648,
         "_deepnote_index_column": "Checkin service"
        },
        {
         "Coefficient": 0.302783710229559,
         "_deepnote_index_column": "On-board service"
        },
        {
         "Coefficient": 0.24729659183376734,
         "_deepnote_index_column": "Leg room service"
        }
       ]
      },
      "text/html": [
       "<div>\n",
       "<style scoped>\n",
       "    .dataframe tbody tr th:only-of-type {\n",
       "        vertical-align: middle;\n",
       "    }\n",
       "\n",
       "    .dataframe tbody tr th {\n",
       "        vertical-align: top;\n",
       "    }\n",
       "\n",
       "    .dataframe thead th {\n",
       "        text-align: right;\n",
       "    }\n",
       "</style>\n",
       "<table border=\"1\" class=\"dataframe\">\n",
       "  <thead>\n",
       "    <tr style=\"text-align: right;\">\n",
       "      <th></th>\n",
       "      <th>Coefficient</th>\n",
       "    </tr>\n",
       "  </thead>\n",
       "  <tbody>\n",
       "    <tr>\n",
       "      <th>Type of Travel_Personal Travel</th>\n",
       "      <td>2.724367</td>\n",
       "    </tr>\n",
       "    <tr>\n",
       "      <th>Customer Type_disloyal Customer</th>\n",
       "      <td>1.999642</td>\n",
       "    </tr>\n",
       "    <tr>\n",
       "      <th>Class_Eco Plus</th>\n",
       "      <td>0.844811</td>\n",
       "    </tr>\n",
       "    <tr>\n",
       "      <th>Class_Eco</th>\n",
       "      <td>0.734551</td>\n",
       "    </tr>\n",
       "    <tr>\n",
       "      <th>Online boarding</th>\n",
       "      <td>0.621875</td>\n",
       "    </tr>\n",
       "    <tr>\n",
       "      <th>Inflight wifi service</th>\n",
       "      <td>0.396600</td>\n",
       "    </tr>\n",
       "    <tr>\n",
       "      <th>Arrival Delay in Minutes</th>\n",
       "      <td>0.347431</td>\n",
       "    </tr>\n",
       "    <tr>\n",
       "      <th>Checkin service</th>\n",
       "      <td>0.329126</td>\n",
       "    </tr>\n",
       "    <tr>\n",
       "      <th>On-board service</th>\n",
       "      <td>0.302784</td>\n",
       "    </tr>\n",
       "    <tr>\n",
       "      <th>Leg room service</th>\n",
       "      <td>0.247297</td>\n",
       "    </tr>\n",
       "    <tr>\n",
       "      <th>Cleanliness</th>\n",
       "      <td>0.231581</td>\n",
       "    </tr>\n",
       "    <tr>\n",
       "      <th>Departure Delay in Minutes</th>\n",
       "      <td>0.159729</td>\n",
       "    </tr>\n",
       "    <tr>\n",
       "      <th>Inflight service</th>\n",
       "      <td>0.146882</td>\n",
       "    </tr>\n",
       "    <tr>\n",
       "      <th>Ease of Online booking</th>\n",
       "      <td>0.135349</td>\n",
       "    </tr>\n",
       "    <tr>\n",
       "      <th>Departure/Arrival time convenient</th>\n",
       "      <td>0.133450</td>\n",
       "    </tr>\n",
       "    <tr>\n",
       "      <th>Age</th>\n",
       "      <td>0.132281</td>\n",
       "    </tr>\n",
       "    <tr>\n",
       "      <th>Baggage handling</th>\n",
       "      <td>0.128515</td>\n",
       "    </tr>\n",
       "    <tr>\n",
       "      <th>Seat comfort</th>\n",
       "      <td>0.064778</td>\n",
       "    </tr>\n",
       "  </tbody>\n",
       "</table>\n",
       "</div>"
      ],
      "text/plain": [
       "                                   Coefficient\n",
       "Type of Travel_Personal Travel        2.724367\n",
       "Customer Type_disloyal Customer       1.999642\n",
       "Class_Eco Plus                        0.844811\n",
       "Class_Eco                             0.734551\n",
       "Online boarding                       0.621875\n",
       "Inflight wifi service                 0.396600\n",
       "Arrival Delay in Minutes              0.347431\n",
       "Checkin service                       0.329126\n",
       "On-board service                      0.302784\n",
       "Leg room service                      0.247297\n",
       "Cleanliness                           0.231581\n",
       "Departure Delay in Minutes            0.159729\n",
       "Inflight service                      0.146882\n",
       "Ease of Online booking                0.135349\n",
       "Departure/Arrival time convenient     0.133450\n",
       "Age                                   0.132281\n",
       "Baggage handling                      0.128515\n",
       "Seat comfort                          0.064778"
      ]
     },
     "execution_count": 98,
     "metadata": {},
     "output_type": "execute_result"
    }
   ],
   "source": [
    "# Dataframe with most important features and respective coefficients as per Lasso LR model\n",
    "coefficients = np.abs(baseModel.coef_).reshape(-1,)\n",
    "imp_cols = np.array(X_train.columns)[coefficients>thresh]\n",
    "imp_coeffs = coefficients[coefficients>thresh]\n",
    "imp_df = pd.DataFrame(imp_coeffs).rename(columns={0: 'Coefficient'})\n",
    "imp_df = imp_df.set_index(imp_cols).sort_values(by=['Coefficient'], ascending = False)\n",
    "imp_df"
   ]
  },
  {
   "cell_type": "markdown",
   "metadata": {
    "cell_id": "ca016c8b6adf488787b9ac850dda8778",
    "deepnote_cell_height": 62,
    "deepnote_cell_type": "markdown",
    "tags": []
   },
   "source": [
    "### SVM"
   ]
  },
  {
   "cell_type": "code",
   "execution_count": null,
   "metadata": {
    "cell_id": "efbccc36e0f644b58e55d613338f156d",
    "deepnote_cell_height": 807,
    "deepnote_cell_type": "code",
    "deepnote_output_heights": [
     26
    ],
    "deepnote_to_be_reexecuted": false,
    "execution_millis": 2,
    "execution_start": 1652037972614,
    "source_hash": "47889c75",
    "tags": []
   },
   "outputs": [
    {
     "data": {
      "text/plain": [
       "'clf = svm.SVC(kernel=\"rbf\", probability=True)\\nclf.fit(X_train, y_train)\\n\\n#Evaluating metrics for the train set\\npredictions_train = (clf.predict_proba(X_train)[:,1]>threshold).astype(int)\\n\\nconf_train = confusion_matrix(y_train, predictions_train)\\ntp, fp, fn, tn  = conf_train[0,0], conf_train[0,1], conf_train[1,0], conf_train[1,1]\\ntrain_accuracy = (tp+tn) / (tp+tn+fp+fn)\\ntrain_sensitivity = tp/(tp+fn)\\ntrain_specificity = tn/(tn+fp)\\n\\nprint(f\"Using SVM without tuning the hyperparameters, the overall accuracy for the train set is {train_accuracy:.4f}.\")\\nprint(f\"Using SVM without tuning the hyperparameters, the overall sensitivity for the train set is {train_sensitivity:.4f}.\")\\nprint(f\"Using SVM without tuning the hyperparameters, the overall specificity for the train set is {train_specificity:.4f}.\")\\n\\nscores_train[\\'SVM\\'] = [train_accuracy, train_sensitivity, train_specificity]\\n\\n#Evaluating metrics for the validation set\\npredictions = (clf.predict_proba(X_val)[:,1]>threshold).astype(int)\\n\\nconf = confusion_matrix(y_val, predictions)\\nConfusionMatrixDisplay(confusion_matrix = conf).plot(cmap=plt.cm.Blues)\\nplt.title(\\'Confusion matrix using (non-tuned) SVM\\')\\nplt.show()\\n\\ntp, fp, fn, tn  = conf[0,0], conf[0,1], conf[1,0], conf[1,1]\\naccuracy = (tp+tn) / (tp+tn+fp+fn)\\nsensitivity = tp/(tp+fn)\\nspecificity = tn/(tn+fp)\\n\\nprint(f\"Using SVM without tuning the hyperparameters, the overall accuracy for the validation set is {accuracy:.4f}.\")\\nprint(f\"Using SVM without tuning the hyperparameters, the overall sensitivity for the validation set is {sensitivity:.4f}.\")\\nprint(f\"Using SVM without tuning the hyperparameters, the overall specificity for the validation set is {specificity:.4f}.\")\\n\\nscores_val[\\'SVM\\'] = [accuracy, sensitivity, specificity]\\n\\n\\n'"
      ]
     },
     "execution_count": 78,
     "metadata": {},
     "output_type": "execute_result"
    }
   ],
   "source": [
    "\"\"\"clf = svm.SVC(kernel=\"rbf\", probability=True)\n",
    "clf.fit(X_train, y_train)\n",
    "\n",
    "#Evaluating metrics for the train set\n",
    "predictions_train = (clf.predict_proba(X_train)[:,1]>threshold).astype(int)\n",
    "\n",
    "conf_train = confusion_matrix(y_train, predictions_train)\n",
    "tp, fp, fn, tn  = conf_train[0,0], conf_train[0,1], conf_train[1,0], conf_train[1,1]\n",
    "train_accuracy = (tp+tn) / (tp+tn+fp+fn)\n",
    "train_sensitivity = tp/(tp+fn)\n",
    "train_specificity = tn/(tn+fp)\n",
    "\n",
    "print(f\"Using SVM without tuning the hyperparameters, the overall accuracy for the train set is {train_accuracy:.4f}.\")\n",
    "print(f\"Using SVM without tuning the hyperparameters, the overall sensitivity for the train set is {train_sensitivity:.4f}.\")\n",
    "print(f\"Using SVM without tuning the hyperparameters, the overall specificity for the train set is {train_specificity:.4f}.\")\n",
    "\n",
    "scores_train['SVM'] = [train_accuracy, train_sensitivity, train_specificity]\n",
    "\n",
    "#Evaluating metrics for the validation set\n",
    "predictions = (clf.predict_proba(X_val)[:,1]>threshold).astype(int)\n",
    "\n",
    "conf = confusion_matrix(y_val, predictions)\n",
    "ConfusionMatrixDisplay(confusion_matrix = conf).plot(cmap=plt.cm.Blues)\n",
    "plt.title('Confusion matrix using (non-tuned) SVM')\n",
    "plt.show()\n",
    "\n",
    "tp, fp, fn, tn  = conf[0,0], conf[0,1], conf[1,0], conf[1,1]\n",
    "accuracy = (tp+tn) / (tp+tn+fp+fn)\n",
    "sensitivity = tp/(tp+fn)\n",
    "specificity = tn/(tn+fp)\n",
    "\n",
    "print(f\"Using SVM without tuning the hyperparameters, the overall accuracy for the validation set is {accuracy:.4f}.\")\n",
    "print(f\"Using SVM without tuning the hyperparameters, the overall sensitivity for the validation set is {sensitivity:.4f}.\")\n",
    "print(f\"Using SVM without tuning the hyperparameters, the overall specificity for the validation set is {specificity:.4f}.\")\n",
    "\n",
    "scores_val['SVM'] = [accuracy, sensitivity, specificity]\n",
    "\n",
    "\n",
    "\"\"\""
   ]
  },
  {
   "cell_type": "markdown",
   "metadata": {
    "cell_id": "d2a1dbd9b0e74a699b614f9f1b8fb3aa",
    "deepnote_cell_height": 62,
    "deepnote_cell_type": "markdown",
    "is_collapsed": false,
    "tags": []
   },
   "source": [
    "### Decision Trees"
   ]
  },
  {
   "cell_type": "markdown",
   "metadata": {
    "cell_id": "0cabe1d20ace4d5ab853db62e0c93d05",
    "deepnote_cell_height": 54,
    "deepnote_cell_type": "markdown",
    "tags": []
   },
   "source": [
    "#### Random forest"
   ]
  },
  {
   "cell_type": "code",
   "execution_count": null,
   "metadata": {
    "cell_id": "67997fd12e3641cab94001601de5b53f",
    "deepnote_cell_height": 1181.671875,
    "deepnote_cell_type": "code",
    "deepnote_output_heights": [
     null,
     280
    ],
    "deepnote_to_be_reexecuted": false,
    "execution_millis": 11678,
    "execution_start": 1652037975412,
    "source_hash": "1fda8e7c",
    "tags": []
   },
   "outputs": [
    {
     "name": "stdout",
     "output_type": "stream",
     "text": [
      "Using random forest without tuning the hyperparameters, the overall accuracy for the train set is 1.0000.\n",
      "Using random forest without tuning the hyperparameters, the overall sensitivity for the train set is 1.0000.\n",
      "Using random forest without tuning the hyperparameters, the overall specificity for the train set is 1.0000.\n"
     ]
    },
    {
     "data": {
      "image/png": "[encoded data removed]",
      "text/plain": [
       "<Figure size 432x288 with 2 Axes>"
      ]
     },
     "metadata": {
      "image/png": {
       "height": 278,
       "width": 341
      },
      "needs_background": "light"
     },
     "output_type": "display_data"
    },
    {
     "name": "stdout",
     "output_type": "stream",
     "text": [
      "Using random forest without tuning the hyperparameters, the overall accuracy for the validation set is 0.9616.\n",
      "Using random forest without tuning the hyperparameters, the overall sensitivity for the validation set is 0.9651.\n",
      "Using random forest without tuning the hyperparameters, the overall specificity for the validation set is 0.9571.\n"
     ]
    }
   ],
   "source": [
    "rfc = RandomForestClassifier()\n",
    "rfc.fit(X_train,y_train)\n",
    "\n",
    "#Evaluating metrics for the train set\n",
    "predictions_train = (rfc.predict_proba(X_train)[:,1]>threshold).astype(int)\n",
    "\n",
    "conf_train = confusion_matrix(y_train, predictions_train)\n",
    "tp, fp, fn, tn  = conf_train[0,0], conf_train[0,1], conf_train[1,0], conf_train[1,1]\n",
    "train_accuracy = (tp+tn) / (tp+tn+fp+fn)\n",
    "train_sensitivity = tp/(tp+fn)\n",
    "train_specificity = tn/(tn+fp)\n",
    "\n",
    "print(f\"Using random forest without tuning the hyperparameters, the overall accuracy for the train set is {train_accuracy:.4f}.\")\n",
    "print(f\"Using random forest without tuning the hyperparameters, the overall sensitivity for the train set is {train_sensitivity:.4f}.\")\n",
    "print(f\"Using random forest without tuning the hyperparameters, the overall specificity for the train set is {train_specificity:.4f}.\")\n",
    "\n",
    "scores_train['Random Forest'] = [train_accuracy, train_sensitivity, train_specificity]\n",
    "\n",
    "#Evaluating metrics for the validation set\n",
    "predictions = (rfc.predict_proba(X_val)[:,1]>threshold).astype(int)\n",
    "\n",
    "conf = confusion_matrix(y_val, predictions)\n",
    "ConfusionMatrixDisplay(confusion_matrix = conf).plot(cmap=plt.cm.Blues)\n",
    "plt.title('Confusion matrix using (non-tuned) random forest')\n",
    "plt.show()\n",
    "\n",
    "tp, fp, fn, tn  = conf[0,0], conf[0,1], conf[1,0], conf[1,1]\n",
    "accuracy = (tp+tn) / (tp+tn+fp+fn)\n",
    "sensitivity = tp/(tp+fn)\n",
    "specificity = tn/(tn+fp)\n",
    "\n",
    "print(f\"Using random forest without tuning the hyperparameters, the overall accuracy for the validation set is {accuracy:.4f}.\")\n",
    "print(f\"Using random forest without tuning the hyperparameters, the overall sensitivity for the validation set is {sensitivity:.4f}.\")\n",
    "print(f\"Using random forest without tuning the hyperparameters, the overall specificity for the validation set is {specificity:.4f}.\")\n",
    "\n",
    "scores_val['Random Forest'] = [accuracy, sensitivity, specificity]"
   ]
  },
  {
   "cell_type": "code",
   "execution_count": null,
   "metadata": {
    "cell_id": "1c0e99dc437347309a39edfc8c2b09fe",
    "deepnote_cell_height": 381.6875,
    "deepnote_cell_type": "code",
    "deepnote_to_be_reexecuted": false,
    "execution_millis": 4,
    "execution_start": 1652037987098,
    "source_hash": "9c2d76b0",
    "tags": []
   },
   "outputs": [
    {
     "name": "stdout",
     "output_type": "stream",
     "text": [
      "{'criterion': 'entropy', 'max_depth': 30, 'n_estimators': 200}\n"
     ]
    }
   ],
   "source": [
    "\"\"\"#Tuning\n",
    "rfc=RandomForestClassifier()\n",
    "\n",
    "param_grid = { \n",
    "    'n_estimators': [100, 200, 400],\n",
    "    'max_depth' : [20,30],\n",
    "    'criterion' :['gini', 'entropy']\n",
    "}\n",
    "\n",
    "\n",
    "CV_rfc = GridSearchCV(estimator=rfc, param_grid=param_grid, cv= 3)\n",
    "CV_rfc.fit(X_train_big, y_train_big)\n",
    "\n",
    "\n",
    "CV_rfc.best_params_\"\"\"\n",
    "print({'criterion': 'entropy', 'max_depth': 30, 'n_estimators': 200})"
   ]
  },
  {
   "cell_type": "code",
   "execution_count": null,
   "metadata": {
    "cell_id": "785fabc588c44f18ae9df344e7f8d9d3",
    "deepnote_cell_height": 1177.171875,
    "deepnote_cell_type": "code",
    "deepnote_output_heights": [
     null,
     280
    ],
    "deepnote_to_be_reexecuted": false,
    "execution_millis": 26093,
    "execution_start": 1652037987103,
    "source_hash": "b65f5b72",
    "tags": []
   },
   "outputs": [
    {
     "name": "stdout",
     "output_type": "stream",
     "text": [
      "Using random forest and tuning the hyperparameters, the overall accuracy for the train set is 1.0000.\n",
      "Using random forest and tuning the hyperparameters, the overall sensitivity for the train set is 1.0000.\n",
      "Using random forest and tuning the hyperparameters, the overall specificity for the train set is 1.0000.\n"
     ]
    },
    {
     "data": {
      "image/png": "[encoded data removed]",
      "text/plain": [
       "<Figure size 432x288 with 2 Axes>"
      ]
     },
     "metadata": {
      "image/png": {
       "height": 278,
       "width": 325
      },
      "needs_background": "light"
     },
     "output_type": "display_data"
    },
    {
     "name": "stdout",
     "output_type": "stream",
     "text": [
      "Using random forest and tuning the hyperparameters, the overall accuracy for the validation set is 0.9635.\n",
      "Using random forest and tuning the hyperparameters, the overall sensitivity for the validation set is 0.9651.\n",
      "Using random forest and tuning the hyperparameters, the overall specificity for the validation set is 0.9613.\n"
     ]
    }
   ],
   "source": [
    "best_rfc = RandomForestClassifier(criterion=\"entropy\", n_estimators=200, max_depth=30)\n",
    "best_rfc.fit(X_train,y_train)\n",
    "\n",
    "#Evaluating metrics for the train set\n",
    "predictions_train = (best_rfc.predict_proba(X_train)[:,1]>threshold).astype(int)\n",
    "\n",
    "conf_train = confusion_matrix(y_train, predictions_train)\n",
    "tp, fp, fn, tn  = conf_train[0,0], conf_train[0,1], conf_train[1,0], conf_train[1,1]\n",
    "train_accuracy = (tp+tn) / (tp+tn+fp+fn)\n",
    "train_sensitivity = tp/(tp+fn)\n",
    "train_specificity = tn/(tn+fp)\n",
    "\n",
    "print(f\"Using random forest and tuning the hyperparameters, the overall accuracy for the train set is {train_accuracy:.4f}.\")\n",
    "print(f\"Using random forest and tuning the hyperparameters, the overall sensitivity for the train set is {train_sensitivity:.4f}.\")\n",
    "print(f\"Using random forest and tuning the hyperparameters, the overall specificity for the train set is {train_specificity:.4f}.\")\n",
    "\n",
    "scores_train['Tuned Random Forest'] = [train_accuracy, train_sensitivity, train_specificity]\n",
    "\n",
    "#Evaluating metrics for the validation set\n",
    "predictions = (best_rfc.predict_proba(X_val)[:,1]>threshold).astype(int)\n",
    "\n",
    "conf = confusion_matrix(y_val, predictions)\n",
    "ConfusionMatrixDisplay(confusion_matrix = conf).plot(cmap=plt.cm.Blues)\n",
    "plt.title('Confusion matrix using tuned random forest')\n",
    "plt.show()\n",
    "\n",
    "tp, fp, fn, tn  = conf[0,0], conf[0,1], conf[1,0], conf[1,1]\n",
    "accuracy = (tp+tn) / (tp+tn+fp+fn)\n",
    "sensitivity = tp/(tp+fn)\n",
    "specificity = tn/(tn+fp)\n",
    "\n",
    "print(f\"Using random forest and tuning the hyperparameters, the overall accuracy for the validation set is {accuracy:.4f}.\")\n",
    "print(f\"Using random forest and tuning the hyperparameters, the overall sensitivity for the validation set is {sensitivity:.4f}.\")\n",
    "print(f\"Using random forest and tuning the hyperparameters, the overall specificity for the validation set is {specificity:.4f}.\")\n",
    "\n",
    "scores_val['Tuned Random Forest'] = [accuracy, sensitivity, specificity]"
   ]
  },
  {
   "cell_type": "markdown",
   "metadata": {
    "cell_id": "4b83bde74cb04096ad52e1b2a41404ed",
    "deepnote_cell_height": 54,
    "deepnote_cell_type": "markdown",
    "tags": []
   },
   "source": [
    "#### Bagging "
   ]
  },
  {
   "cell_type": "code",
   "execution_count": null,
   "metadata": {
    "cell_id": "f32d0bc362d245f7a8e7f442d01495b4",
    "deepnote_cell_height": 1177.171875,
    "deepnote_cell_type": "code",
    "deepnote_output_heights": [
     null,
     280
    ],
    "deepnote_to_be_reexecuted": false,
    "execution_millis": 4912,
    "execution_start": 1652038012679,
    "source_hash": "2abc90f1",
    "tags": []
   },
   "outputs": [
    {
     "name": "stdout",
     "output_type": "stream",
     "text": [
      "Using bagging without tuning the hyperparameters, the overall accuracy for the train set is 0.9977.\n",
      "Using bagging without tuning the hyperparameters, the overall sensitivity for the train set is 0.9982.\n",
      "Using bagging without tuning the hyperparameters, the overall specificity for the train set is 0.9971.\n"
     ]
    },
    {
     "data": {
      "image/png": "[encoded data removed]",
      "text/plain": [
       "<Figure size 432x288 with 2 Axes>"
      ]
     },
     "metadata": {
      "image/png": {
       "height": 278,
       "width": 325
      },
      "needs_background": "light"
     },
     "output_type": "display_data"
    },
    {
     "name": "stdout",
     "output_type": "stream",
     "text": [
      "Using bagging without tuning the hyperparameters, the overall accuracy for the validation set is 0.9554.\n",
      "Using bagging without tuning the hyperparameters, the overall sensitivity for the validation set is 0.9616.\n",
      "Using bagging without tuning the hyperparameters, the overall specificity for the validation set is 0.9474.\n"
     ]
    }
   ],
   "source": [
    "bagg = BaggingClassifier()\n",
    "bagg.fit(X_train,y_train)\n",
    "\n",
    "#Evaluating metrics for the train set\n",
    "predictions_train = (bagg.predict_proba(X_train)[:,1]>threshold).astype(int)\n",
    "\n",
    "conf_train = confusion_matrix(y_train, predictions_train)\n",
    "tp, fp, fn, tn  = conf_train[0,0], conf_train[0,1], conf_train[1,0], conf_train[1,1]\n",
    "train_accuracy = (tp+tn) / (tp+tn+fp+fn)\n",
    "train_sensitivity = tp/(tp+fn)\n",
    "train_specificity = tn/(tn+fp)\n",
    "\n",
    "print(f\"Using bagging without tuning the hyperparameters, the overall accuracy for the train set is {train_accuracy:.4f}.\")\n",
    "print(f\"Using bagging without tuning the hyperparameters, the overall sensitivity for the train set is {train_sensitivity:.4f}.\")\n",
    "print(f\"Using bagging without tuning the hyperparameters, the overall specificity for the train set is {train_specificity:.4f}.\")\n",
    "\n",
    "scores_train['Bagging'] = [train_accuracy, train_sensitivity, train_specificity]\n",
    "\n",
    "#Evaluating metrics for the validation set\n",
    "predictions = (bagg.predict_proba(X_val)[:,1]>threshold).astype(int)\n",
    "\n",
    "conf = confusion_matrix(y_val, predictions)\n",
    "ConfusionMatrixDisplay(confusion_matrix = conf).plot(cmap=plt.cm.Blues)\n",
    "plt.title('Confusion matrix using (non-tuned) bagging')\n",
    "plt.show()\n",
    "\n",
    "tp, fp, fn, tn  = conf[0,0], conf[0,1], conf[1,0], conf[1,1]\n",
    "accuracy = (tp+tn) / (tp+tn+fp+fn)\n",
    "sensitivity = tp/(tp+fn)\n",
    "specificity = tn/(tn+fp)\n",
    "\n",
    "print(f\"Using bagging without tuning the hyperparameters, the overall accuracy for the validation set is {accuracy:.4f}.\")\n",
    "print(f\"Using bagging without tuning the hyperparameters, the overall sensitivity for the validation set is {sensitivity:.4f}.\")\n",
    "print(f\"Using bagging without tuning the hyperparameters, the overall specificity for the validation set is {specificity:.4f}.\")\n",
    "\n",
    "scores_val['Bagging'] = [accuracy, sensitivity, specificity]"
   ]
  },
  {
   "cell_type": "code",
   "execution_count": null,
   "metadata": {
    "cell_id": "d87bb88f93d448d292377838ef18ec76",
    "deepnote_cell_height": 310,
    "deepnote_cell_type": "code",
    "deepnote_to_be_reexecuted": false,
    "execution_millis": 18,
    "execution_start": 1652038017592,
    "source_hash": "29c4eb5f",
    "tags": []
   },
   "outputs": [
    {
     "name": "stdout",
     "output_type": "stream",
     "text": [
      "{'base_estimator__max_depth': 30, 'max_samples': 0.5}\n"
     ]
    }
   ],
   "source": [
    "\"\"\"param_grid = {\n",
    "    'base_estimator__max_depth' : [20,30],\n",
    "    'max_samples' : [0.1, 0.2, 0.5]\n",
    "}\n",
    "\n",
    "CV_bagg = GridSearchCV(BaggingClassifier(DecisionTreeClassifier(criterion=\"entropy\"),n_estimators = 200),param_grid, cv = 3)\n",
    "                       \n",
    "CV_bagg.fit(X_train, y_train)\n",
    "\n",
    "\n",
    "CV_bagg.best_params_\"\"\"\n",
    "print({'base_estimator__max_depth': 30, 'max_samples': 0.5})"
   ]
  },
  {
   "cell_type": "code",
   "execution_count": null,
   "metadata": {
    "cell_id": "4382204147a74bcea1ccdf48afe16e40",
    "deepnote_cell_height": 1177.171875,
    "deepnote_cell_type": "code",
    "deepnote_output_heights": [
     null,
     280
    ],
    "deepnote_to_be_reexecuted": false,
    "execution_millis": 55182,
    "execution_start": 1652038017614,
    "source_hash": "e5bdd081",
    "tags": []
   },
   "outputs": [
    {
     "name": "stdout",
     "output_type": "stream",
     "text": [
      "Using bagging and tuning the hyperparameters, the overall accuracy for the train set is 0.9948.\n",
      "Using bagging and tuning the hyperparameters, the overall sensitivity for the train set is 0.9962.\n",
      "Using bagging and tuning the hyperparameters, the overall specificity for the train set is 0.9931.\n"
     ]
    },
    {
     "data": {
      "image/png": "[encoded data removed]",
      "text/plain": [
       "<Figure size 432x288 with 2 Axes>"
      ]
     },
     "metadata": {
      "image/png": {
       "height": 278,
       "width": 325
      },
      "needs_background": "light"
     },
     "output_type": "display_data"
    },
    {
     "name": "stdout",
     "output_type": "stream",
     "text": [
      "Using bagging and tuning the hyperparameters, the overall accuracy for the validation set is 0.9635.\n",
      "Using bagging and tuning the hyperparameters, the overall sensitivity for the validation set is 0.9646.\n",
      "Using bagging and tuning the hyperparameters, the overall specificity for the validation set is 0.9620.\n"
     ]
    }
   ],
   "source": [
    "best_bagg = BaggingClassifier(DecisionTreeClassifier(criterion='entropy',max_depth=30),n_estimators=200,max_samples=0.5)\n",
    "best_bagg.fit(X_train,y_train)\n",
    "\n",
    "#Evaluating metrics for the train set\n",
    "predictions_train = (best_bagg.predict_proba(X_train)[:,1]>threshold).astype(int)\n",
    "\n",
    "conf_train = confusion_matrix(y_train, predictions_train)\n",
    "tp, fp, fn, tn  = conf_train[0,0], conf_train[0,1], conf_train[1,0], conf_train[1,1]\n",
    "train_accuracy = (tp+tn) / (tp+tn+fp+fn)\n",
    "train_sensitivity = tp/(tp+fn)\n",
    "train_specificity = tn/(tn+fp)\n",
    "\n",
    "print(f\"Using bagging and tuning the hyperparameters, the overall accuracy for the train set is {train_accuracy:.4f}.\")\n",
    "print(f\"Using bagging and tuning the hyperparameters, the overall sensitivity for the train set is {train_sensitivity:.4f}.\")\n",
    "print(f\"Using bagging and tuning the hyperparameters, the overall specificity for the train set is {train_specificity:.4f}.\")\n",
    "\n",
    "scores_train['Tuned Bagging'] = [train_accuracy, train_sensitivity, train_specificity]\n",
    "\n",
    "#Evaluating metrics for the validation set\n",
    "predictions = (best_bagg.predict_proba(X_val)[:,1]>threshold).astype(int)\n",
    "\n",
    "conf = confusion_matrix(y_val, predictions)\n",
    "ConfusionMatrixDisplay(confusion_matrix = conf).plot(cmap=plt.cm.Blues)\n",
    "plt.title('Confusion matrix using tuned bagging')\n",
    "plt.show()\n",
    "\n",
    "tp, fp, fn, tn  = conf[0,0], conf[0,1], conf[1,0], conf[1,1]\n",
    "accuracy = (tp+tn) / (tp+tn+fp+fn)\n",
    "sensitivity = tp/(tp+fn)\n",
    "specificity = tn/(tn+fp)\n",
    "\n",
    "print(f\"Using bagging and tuning the hyperparameters, the overall accuracy for the validation set is {accuracy:.4f}.\")\n",
    "print(f\"Using bagging and tuning the hyperparameters, the overall sensitivity for the validation set is {sensitivity:.4f}.\")\n",
    "print(f\"Using bagging and tuning the hyperparameters, the overall specificity for the validation set is {specificity:.4f}.\")\n",
    "\n",
    "scores_val['Tuned Bagging'] = [accuracy, sensitivity, specificity]"
   ]
  },
  {
   "cell_type": "markdown",
   "metadata": {
    "cell_id": "6e00e5387a394fee975f2d0ab39617d4",
    "deepnote_cell_height": 54,
    "deepnote_cell_type": "markdown",
    "tags": []
   },
   "source": [
    "#### Boosting"
   ]
  },
  {
   "cell_type": "code",
   "execution_count": null,
   "metadata": {
    "cell_id": "1d22c98211e444b49c5b0a147546bac2",
    "deepnote_cell_height": 1177.171875,
    "deepnote_cell_type": "code",
    "deepnote_output_heights": [
     null,
     280
    ],
    "deepnote_to_be_reexecuted": false,
    "execution_millis": 18459,
    "execution_start": 1652038072819,
    "source_hash": "652ea008",
    "tags": []
   },
   "outputs": [
    {
     "name": "stdout",
     "output_type": "stream",
     "text": [
      "Using boosting without tuning the hyperparameters, the overall accuracy for the train set is 0.9422.\n",
      "Using boosting without tuning the hyperparameters, the overall sensitivity for the train set is 0.9474.\n",
      "Using boosting without tuning the hyperparameters, the overall specificity for the train set is 0.9353.\n"
     ]
    },
    {
     "data": {
      "image/png": "[encoded data removed]",
      "text/plain": [
       "<Figure size 432x288 with 2 Axes>"
      ]
     },
     "metadata": {
      "image/png": {
       "height": 278,
       "width": 325
      },
      "needs_background": "light"
     },
     "output_type": "display_data"
    },
    {
     "name": "stdout",
     "output_type": "stream",
     "text": [
      "Using boosting without tuning the hyperparameters, the overall accuracy for the validation set is 0.9435.\n",
      "Using boosting without tuning the hyperparameters, the overall sensitivity for the validation set is 0.9496.\n",
      "Using boosting without tuning the hyperparameters, the overall specificity for the validation set is 0.9355.\n"
     ]
    }
   ],
   "source": [
    "boost = GradientBoostingClassifier()\n",
    "boost.fit(X_train,y_train)\n",
    "\n",
    "#Evaluating metrics for the train set\n",
    "predictions_train = (boost.predict_proba(X_train)[:,1]>threshold).astype(int)\n",
    "\n",
    "conf_train = confusion_matrix(y_train, predictions_train)\n",
    "tp, fp, fn, tn  = conf_train[0,0], conf_train[0,1], conf_train[1,0], conf_train[1,1]\n",
    "train_accuracy = (tp+tn) / (tp+tn+fp+fn)\n",
    "train_sensitivity = tp/(tp+fn)\n",
    "train_specificity = tn/(tn+fp)\n",
    "\n",
    "print(f\"Using boosting without tuning the hyperparameters, the overall accuracy for the train set is {train_accuracy:.4f}.\")\n",
    "print(f\"Using boosting without tuning the hyperparameters, the overall sensitivity for the train set is {train_sensitivity:.4f}.\")\n",
    "print(f\"Using boosting without tuning the hyperparameters, the overall specificity for the train set is {train_specificity:.4f}.\")\n",
    "\n",
    "scores_train['Boosting'] = [train_accuracy, train_sensitivity, train_specificity]\n",
    "\n",
    "#Evaluating metrics for the validation set\n",
    "predictions = (boost.predict_proba(X_val)[:,1]>threshold).astype(int)\n",
    "\n",
    "conf = confusion_matrix(y_val, predictions)\n",
    "ConfusionMatrixDisplay(confusion_matrix = conf).plot(cmap=plt.cm.Blues)\n",
    "plt.title('Confusion matrix using (non-tuned) boosting')\n",
    "plt.show()\n",
    "\n",
    "tp, fp, fn, tn  = conf[0,0], conf[0,1], conf[1,0], conf[1,1]\n",
    "accuracy = (tp+tn) / (tp+tn+fp+fn)\n",
    "sensitivity = tp/(tp+fn)\n",
    "specificity = tn/(tn+fp)\n",
    "\n",
    "print(f\"Using boosting without tuning the hyperparameters, the overall accuracy for the validation set is {accuracy:.4f}.\")\n",
    "print(f\"Using boosting without tuning the hyperparameters, the overall sensitivity for the validation set is {sensitivity:.4f}.\")\n",
    "print(f\"Using boosting without tuning the hyperparameters, the overall specificity for the validation set is {specificity:.4f}.\")\n",
    "\n",
    "scores_val['Boosting'] = [accuracy, sensitivity, specificity]"
   ]
  },
  {
   "cell_type": "code",
   "execution_count": null,
   "metadata": {
    "cell_id": "7732d6078bf74ee4966c18e6d053868b",
    "deepnote_cell_height": 381.6875,
    "deepnote_cell_type": "code",
    "deepnote_to_be_reexecuted": false,
    "execution_millis": 618,
    "execution_start": 1652038090842,
    "source_hash": "bd99123c",
    "tags": []
   },
   "outputs": [
    {
     "name": "stdout",
     "output_type": "stream",
     "text": [
      "{'learning_rate': 0.4}\n"
     ]
    }
   ],
   "source": [
    "#Tuning\n",
    "\"\"\"\n",
    "boost=GradientBoostingClassifier(n_estimators=200)\n",
    "\n",
    "param_grid = { \n",
    "    \"learning_rate\": [0.01, 0.025, 0.05, 0.075, 0.1, 0.15, 0.2, 0.35, 0.4, 0.45, 0.5, 0.6, 1, 5]\n",
    "}\n",
    "\n",
    "\n",
    "CV_boost = GridSearchCV(estimator=boost, param_grid=param_grid, cv= 3)\n",
    "CV_boost.fit(X_train, y_train)\n",
    "\n",
    "\n",
    "CV_boost.best_params_\n",
    "\"\"\"\n",
    "print({'learning_rate': 0.4})"
   ]
  },
  {
   "cell_type": "code",
   "execution_count": null,
   "metadata": {
    "cell_id": "0f917c7ac97c4ab3a53684552a7c4be9",
    "deepnote_cell_height": 1177.171875,
    "deepnote_cell_type": "code",
    "deepnote_output_heights": [
     null,
     280
    ],
    "deepnote_to_be_reexecuted": false,
    "execution_millis": 35755,
    "execution_start": 1652047714472,
    "source_hash": "97b703da",
    "tags": []
   },
   "outputs": [
    {
     "name": "stdout",
     "output_type": "stream",
     "text": [
      "Using boosting and tuning the hyperparameters, the overall accuracy for the train set is 0.9650.\n",
      "Using boosting and tuning the hyperparameters, the overall sensitivity for the train set is 0.9673.\n",
      "Using boosting and tuning the hyperparameters, the overall specificity for the train set is 0.9621.\n"
     ]
    },
    {
     "data": {
      "image/png": "[encoded data removed]",
      "text/plain": [
       "<Figure size 432x288 with 2 Axes>"
      ]
     },
     "metadata": {
      "image/png": {
       "height": 278,
       "width": 325
      },
      "needs_background": "light"
     },
     "output_type": "display_data"
    },
    {
     "name": "stdout",
     "output_type": "stream",
     "text": [
      "Using boosting and tuning the hyperparameters, the overall accuracy for the validation set is 0.9587.\n",
      "Using boosting and tuning the hyperparameters, the overall sensitivity for the validation set is 0.9636.\n",
      "Using boosting and tuning the hyperparameters, the overall specificity for the validation set is 0.9522.\n"
     ]
    }
   ],
   "source": [
    "best_boost = GradientBoostingClassifier(n_estimators=200, learning_rate = 0.4)\n",
    "best_boost.fit(X_train,y_train)\n",
    "\n",
    "#Evaluating metrics for the train set\n",
    "predictions_train = (best_boost.predict_proba(X_train)[:,1]>threshold).astype(int)\n",
    "\n",
    "conf_train = confusion_matrix(y_train, predictions_train)\n",
    "tp, fp, fn, tn  = conf_train[0,0], conf_train[0,1], conf_train[1,0], conf_train[1,1]\n",
    "train_accuracy = (tp+tn) / (tp+tn+fp+fn)\n",
    "train_sensitivity = tp/(tp+fn)\n",
    "train_specificity = tn/(tn+fp)\n",
    "\n",
    "print(f\"Using boosting and tuning the hyperparameters, the overall accuracy for the train set is {train_accuracy:.4f}.\")\n",
    "print(f\"Using boosting and tuning the hyperparameters, the overall sensitivity for the train set is {train_sensitivity:.4f}.\")\n",
    "print(f\"Using boosting and tuning the hyperparameters, the overall specificity for the train set is {train_specificity:.4f}.\")\n",
    "\n",
    "scores_train['Tuned Boosting'] = [train_accuracy, train_sensitivity, train_specificity]\n",
    "\n",
    "#Evaluating metrics for the validation set\n",
    "predictions = (best_boost.predict_proba(X_val)[:,1]>threshold).astype(int)\n",
    "\n",
    "conf = confusion_matrix(y_val, predictions)\n",
    "ConfusionMatrixDisplay(confusion_matrix = conf).plot(cmap=plt.cm.Blues)\n",
    "plt.title('Confusion matrix using tuned boosting')\n",
    "plt.show()\n",
    "\n",
    "tp, fp, fn, tn  = conf[0,0], conf[0,1], conf[1,0], conf[1,1]\n",
    "accuracy = (tp+tn) / (tp+tn+fp+fn)\n",
    "sensitivity = tp/(tp+fn)\n",
    "specificity = tn/(tn+fp)\n",
    "\n",
    "print(f\"Using boosting and tuning the hyperparameters, the overall accuracy for the validation set is {accuracy:.4f}.\")\n",
    "print(f\"Using boosting and tuning the hyperparameters, the overall sensitivity for the validation set is {sensitivity:.4f}.\")\n",
    "print(f\"Using boosting and tuning the hyperparameters, the overall specificity for the validation set is {specificity:.4f}.\")\n",
    "\n",
    "scores_val['Tuned Boosting'] = [accuracy, sensitivity, specificity]"
   ]
  },
  {
   "cell_type": "markdown",
   "metadata": {
    "cell_id": "2c5e5cf774964106b26021de78fe4d27",
    "deepnote_cell_height": 62,
    "deepnote_cell_type": "markdown",
    "is_collapsed": false,
    "tags": []
   },
   "source": [
    "### Feedforward Neural Network"
   ]
  },
  {
   "cell_type": "markdown",
   "metadata": {
    "cell_id": "af069328db1646f88289a8706247f0cd",
    "deepnote_cell_height": 74.796875,
    "deepnote_cell_type": "markdown",
    "tags": []
   },
   "source": [
    "**For the neural network model below, we will use the 18 features selected during our feature selection above. This will allow us to reduce training time as well as decrease overfitting to the training data.**"
   ]
  },
  {
   "cell_type": "code",
   "execution_count": null,
   "metadata": {
    "cell_id": "09053767a2eb49929f75759f2dde04bb",
    "deepnote_cell_height": 922.984375,
    "deepnote_cell_type": "code",
    "deepnote_to_be_reexecuted": false,
    "execution_millis": 111,
    "execution_start": 1652038302355,
    "source_hash": "d8da6e4e",
    "tags": []
   },
   "outputs": [
    {
     "name": "stdout",
     "output_type": "stream",
     "text": [
      "Model: \"sequential_2\"\n",
      "_________________________________________________________________\n",
      " Layer (type)                Output Shape              Param #   \n",
      "=================================================================\n",
      " dense_10 (Dense)            (None, 512)               9728      \n",
      "                                                                 \n",
      " dropout_4 (Dropout)         (None, 512)               0         \n",
      "                                                                 \n",
      " dense_11 (Dense)            (None, 256)               131328    \n",
      "                                                                 \n",
      " dense_12 (Dense)            (None, 256)               65792     \n",
      "                                                                 \n",
      " dropout_5 (Dropout)         (None, 256)               0         \n",
      "                                                                 \n",
      " dense_13 (Dense)            (None, 128)               32896     \n",
      "                                                                 \n",
      " dense_14 (Dense)            (None, 1)                 129       \n",
      "                                                                 \n",
      "=================================================================\n",
      "Total params: 239,873\n",
      "Trainable params: 239,873\n",
      "Non-trainable params: 0\n",
      "_________________________________________________________________\n"
     ]
    }
   ],
   "source": [
    "model = Sequential()\n",
    "model.add(Dense(512, input_shape=(X_train_select.shape[1],), activation=\"relu\"))\n",
    "model.add(Dropout(0.3))\n",
    "model.add(Dense(256, activation=\"relu\"))\n",
    "model.add(Dense(256, activation='relu'))\n",
    "model.add(Dropout(0.3))\n",
    "model.add(Dense(128, activation='relu'))\n",
    "model.add(Dense(1, activation='sigmoid'))\n",
    "learning_rate = 0.0001\n",
    "epochs = 40\n",
    "batch_size = 512\n",
    "optimizer = Adam()\n",
    "cb = [tf.keras.callbacks.EarlyStopping(\n",
    "    monitor=\"val_loss\",\n",
    "    patience=10,\n",
    "    verbose=1,\n",
    "    mode=\"min\",\n",
    "    restore_best_weights=True,\n",
    ")]\n",
    "model.compile(loss=tf.keras.losses.BinaryCrossentropy(), optimizer=optimizer,\n",
    "\tmetrics=[\"accuracy\"])\n",
    "model.summary()"
   ]
  },
  {
   "cell_type": "code",
   "execution_count": null,
   "metadata": {
    "cell_id": "9390f8c8b8bc4325a7ce91b767011220",
    "deepnote_cell_height": 719,
    "deepnote_cell_type": "code",
    "deepnote_to_be_reexecuted": false,
    "execution_millis": 175553,
    "execution_start": 1652038126784,
    "source_hash": "e797695",
    "tags": []
   },
   "outputs": [
    {
     "name": "stdout",
     "output_type": "stream",
     "text": [
      "Epoch 1/40\n",
      "163/163 [==============================] - 4s 22ms/step - loss: 0.3160 - accuracy: 0.8598 - val_loss: 0.1833 - val_accuracy: 0.9237\n",
      "Epoch 2/40\n",
      "163/163 [==============================] - 3s 21ms/step - loss: 0.1872 - accuracy: 0.9208 - val_loss: 0.1450 - val_accuracy: 0.9393\n",
      "Epoch 3/40\n",
      "163/163 [==============================] - 3s 21ms/step - loss: 0.1605 - accuracy: 0.9334 - val_loss: 0.1387 - val_accuracy: 0.9452\n",
      "Epoch 4/40\n",
      "163/163 [==============================] - 3s 21ms/step - loss: 0.1477 - accuracy: 0.9371 - val_loss: 0.1234 - val_accuracy: 0.9498\n",
      "Epoch 5/40\n",
      "163/163 [==============================] - 3s 21ms/step - loss: 0.1407 - accuracy: 0.9405 - val_loss: 0.1259 - val_accuracy: 0.9475\n",
      "Epoch 6/40\n",
      "163/163 [==============================] - 3s 21ms/step - loss: 0.1315 - accuracy: 0.9450 - val_loss: 0.1169 - val_accuracy: 0.9534\n",
      "Epoch 7/40\n",
      "163/163 [==============================] - 6s 35ms/step - loss: 0.1260 - accuracy: 0.9462 - val_loss: 0.1366 - val_accuracy: 0.9433\n",
      "Epoch 8/40\n",
      "163/163 [==============================] - 6s 38ms/step - loss: 0.1220 - accuracy: 0.9490 - val_loss: 0.1068 - val_accuracy: 0.9561\n",
      "Epoch 9/40\n",
      "163/163 [==============================] - 6s 40ms/step - loss: 0.1184 - accuracy: 0.9494 - val_loss: 0.1052 - val_accuracy: 0.9576\n",
      "Epoch 10/40\n",
      "163/163 [==============================] - 6s 39ms/step - loss: 0.1169 - accuracy: 0.9506 - val_loss: 0.1098 - val_accuracy: 0.9549\n",
      "Epoch 11/40\n",
      "163/163 [==============================] - 6s 38ms/step - loss: 0.1138 - accuracy: 0.9514 - val_loss: 0.1052 - val_accuracy: 0.9577\n",
      "Epoch 12/40\n",
      "163/163 [==============================] - 6s 35ms/step - loss: 0.1097 - accuracy: 0.9532 - val_loss: 0.1050 - val_accuracy: 0.9561\n",
      "Epoch 13/40\n",
      "163/163 [==============================] - 6s 36ms/step - loss: 0.1084 - accuracy: 0.9543 - val_loss: 0.1017 - val_accuracy: 0.9575\n",
      "Epoch 14/40\n",
      "163/163 [==============================] - 5s 29ms/step - loss: 0.1063 - accuracy: 0.9542 - val_loss: 0.0995 - val_accuracy: 0.9598\n",
      "Epoch 15/40\n",
      "163/163 [==============================] - 5s 31ms/step - loss: 0.1035 - accuracy: 0.9556 - val_loss: 0.0998 - val_accuracy: 0.9595\n",
      "Epoch 16/40\n",
      "163/163 [==============================] - 6s 37ms/step - loss: 0.1048 - accuracy: 0.9554 - val_loss: 0.0962 - val_accuracy: 0.9605\n",
      "Epoch 17/40\n",
      "163/163 [==============================] - 5s 33ms/step - loss: 0.1039 - accuracy: 0.9551 - val_loss: 0.0991 - val_accuracy: 0.9599\n",
      "Epoch 18/40\n",
      "163/163 [==============================] - 6s 36ms/step - loss: 0.1015 - accuracy: 0.9562 - val_loss: 0.0973 - val_accuracy: 0.9615\n",
      "Epoch 19/40\n",
      "163/163 [==============================] - 5s 30ms/step - loss: 0.1011 - accuracy: 0.9562 - val_loss: 0.0997 - val_accuracy: 0.9597\n",
      "Epoch 20/40\n",
      "163/163 [==============================] - 4s 27ms/step - loss: 0.0996 - accuracy: 0.9575 - val_loss: 0.0961 - val_accuracy: 0.9604\n",
      "Epoch 21/40\n",
      "163/163 [==============================] - 5s 28ms/step - loss: 0.0989 - accuracy: 0.9573 - val_loss: 0.0952 - val_accuracy: 0.9617\n",
      "Epoch 22/40\n",
      "163/163 [==============================] - 3s 21ms/step - loss: 0.0975 - accuracy: 0.9576 - val_loss: 0.0941 - val_accuracy: 0.9612\n",
      "Epoch 23/40\n",
      "163/163 [==============================] - 3s 21ms/step - loss: 0.0985 - accuracy: 0.9581 - val_loss: 0.0943 - val_accuracy: 0.9604\n",
      "Epoch 24/40\n",
      "163/163 [==============================] - 4s 22ms/step - loss: 0.0959 - accuracy: 0.9585 - val_loss: 0.0949 - val_accuracy: 0.9615\n",
      "Epoch 25/40\n",
      "163/163 [==============================] - 3s 21ms/step - loss: 0.0953 - accuracy: 0.9590 - val_loss: 0.0938 - val_accuracy: 0.9618\n",
      "Epoch 26/40\n",
      "163/163 [==============================] - 4s 22ms/step - loss: 0.0950 - accuracy: 0.9584 - val_loss: 0.0996 - val_accuracy: 0.9597\n",
      "Epoch 27/40\n",
      "163/163 [==============================] - 4s 23ms/step - loss: 0.0959 - accuracy: 0.9582 - val_loss: 0.0935 - val_accuracy: 0.9613\n",
      "Epoch 28/40\n",
      "163/163 [==============================] - 4s 26ms/step - loss: 0.0920 - accuracy: 0.9598 - val_loss: 0.0920 - val_accuracy: 0.9619\n",
      "Epoch 29/40\n",
      "163/163 [==============================] - 4s 22ms/step - loss: 0.0916 - accuracy: 0.9601 - val_loss: 0.0937 - val_accuracy: 0.9609\n",
      "Epoch 30/40\n",
      "163/163 [==============================] - 4s 23ms/step - loss: 0.0934 - accuracy: 0.9596 - val_loss: 0.0928 - val_accuracy: 0.9624\n",
      "Epoch 31/40\n",
      "163/163 [==============================] - 4s 22ms/step - loss: 0.0911 - accuracy: 0.9608 - val_loss: 0.0896 - val_accuracy: 0.9621\n",
      "Epoch 32/40\n",
      "163/163 [==============================] - 4s 22ms/step - loss: 0.0911 - accuracy: 0.9603 - val_loss: 0.0908 - val_accuracy: 0.9621\n",
      "Epoch 33/40\n",
      "163/163 [==============================] - 4s 24ms/step - loss: 0.0893 - accuracy: 0.9613 - val_loss: 0.0903 - val_accuracy: 0.9626\n",
      "Epoch 34/40\n",
      "163/163 [==============================] - 4s 21ms/step - loss: 0.0908 - accuracy: 0.9608 - val_loss: 0.0898 - val_accuracy: 0.9627\n",
      "Epoch 35/40\n",
      "163/163 [==============================] - 3s 21ms/step - loss: 0.0887 - accuracy: 0.9612 - val_loss: 0.0905 - val_accuracy: 0.9628\n",
      "Epoch 36/40\n",
      "163/163 [==============================] - 4s 24ms/step - loss: 0.0910 - accuracy: 0.9606 - val_loss: 0.0936 - val_accuracy: 0.9611\n",
      "Epoch 37/40\n",
      "163/163 [==============================] - 4s 26ms/step - loss: 0.0894 - accuracy: 0.9612 - val_loss: 0.0946 - val_accuracy: 0.9614\n",
      "Epoch 38/40\n",
      "163/163 [==============================] - 4s 26ms/step - loss: 0.0872 - accuracy: 0.9619 - val_loss: 0.0988 - val_accuracy: 0.9608\n",
      "Epoch 39/40\n",
      "163/163 [==============================] - 3s 21ms/step - loss: 0.0879 - accuracy: 0.9616 - val_loss: 0.0921 - val_accuracy: 0.9614\n",
      "Epoch 40/40\n",
      "163/163 [==============================] - 4s 24ms/step - loss: 0.0864 - accuracy: 0.9621 - val_loss: 0.0906 - val_accuracy: 0.9624\n"
     ]
    }
   ],
   "source": [
    "history = model.fit(X_train_select, y_train, validation_data=(X_val_select, y_val),\n",
    "\tepochs=epochs, batch_size = batch_size, callbacks = [cb])"
   ]
  },
  {
   "cell_type": "code",
   "execution_count": null,
   "metadata": {
    "cell_id": "b363c5fc49564035906ad77f05803933",
    "deepnote_cell_height": 940,
    "deepnote_cell_type": "code",
    "deepnote_output_heights": [
     280,
     280
    ],
    "deepnote_to_be_reexecuted": false,
    "execution_millis": 859,
    "execution_start": 1652036750608,
    "source_hash": "e7e3b8f8",
    "tags": []
   },
   "outputs": [
    {
     "data": {
      "image/png": "[encoded data removed]",
      "text/plain": [
       "<Figure size 432x288 with 1 Axes>"
      ]
     },
     "metadata": {
      "image/png": {
       "height": 278,
       "width": 392
      },
      "needs_background": "light"
     },
     "output_type": "display_data"
    },
    {
     "data": {
      "image/png": "[encoded data removed]",
      "text/plain": [
       "<Figure size 432x288 with 1 Axes>"
      ]
     },
     "metadata": {
      "image/png": {
       "height": 278,
       "width": 392
      },
      "needs_background": "light"
     },
     "output_type": "display_data"
    }
   ],
   "source": [
    "plt.plot(history.history['accuracy'])\n",
    "plt.plot(history.history['val_accuracy'])\n",
    "plt.title('model accuracy')\n",
    "plt.ylabel('accuracy')\n",
    "plt.xlabel('epoch')\n",
    "plt.legend(['train', 'val'], loc='upper left')\n",
    "plt.show()\n",
    "# summarize history for loss\n",
    "plt.plot(history.history['loss'])\n",
    "plt.plot(history.history['val_loss'])\n",
    "plt.title('model loss')\n",
    "plt.ylabel('loss')\n",
    "plt.xlabel('epoch')\n",
    "plt.legend(['train', 'val'], loc='upper left')\n",
    "plt.show()"
   ]
  },
  {
   "cell_type": "code",
   "execution_count": null,
   "metadata": {
    "cell_id": "94da3f2082a04f569a6c63e951c6bbc4",
    "deepnote_cell_height": 1341.171875,
    "deepnote_cell_type": "code",
    "deepnote_output_heights": [
     null,
     264
    ],
    "deepnote_to_be_reexecuted": false,
    "execution_millis": 6782,
    "execution_start": 1652036751030,
    "source_hash": "b58cedc2",
    "tags": []
   },
   "outputs": [
    {
     "name": "stdout",
     "output_type": "stream",
     "text": [
      "The train accuracy with Neural Net is 0.9665\n",
      "The train sensitivity with Neural Net is 0.9568.\n",
      "The train specificity with Neural Net is 0.9799.\n"
     ]
    },
    {
     "data": {
      "image/png": "[encoded data removed]",
      "text/plain": [
       "<Figure size 432x288 with 2 Axes>"
      ]
     },
     "metadata": {
      "image/png": {
       "height": 262,
       "width": 381
      },
      "needs_background": "light"
     },
     "output_type": "display_data"
    },
    {
     "name": "stdout",
     "output_type": "stream",
     "text": [
      "The validation accuracy with Neural Net is 0.9627\n",
      "The validation sensitivity with Neural Net is 0.9524.\n",
      "The validation specificity with Neural Net is 0.9773.\n"
     ]
    }
   ],
   "source": [
    "y_pred_val = (model.predict(X_val_select) > threshold).astype(int)\n",
    "y_pred_train = (model.predict(X_train_select) > threshold).astype(int)\n",
    "\n",
    "# Confusion Matrix: train\n",
    "conf_mat = confusion_matrix(y_train, y_pred_train)\n",
    "# disp = ConfusionMatrixDisplay(confusion_matrix=conf_mat, display_labels=['Not satisfied', 'satisfied'])\n",
    "\n",
    "# disp.plot(cmap=plt.cm.Blues)\n",
    "# plt.show()\n",
    "scores_lr_tr = []\n",
    "tp, fp, fn, tn  = conf_mat[0,0], conf_mat[0,1], conf_mat[1,0], conf_mat[1,1]\n",
    "sensitivity_lr = tp/(tp+fn)\n",
    "specificity_lr = tn/(tn+fp)\n",
    "accuracy = (tp+tn) / (tp+tn+fp+fn)\n",
    "\n",
    "scores_lr_tr.append(accuracy)\n",
    "scores_lr_tr.append(sensitivity_lr)\n",
    "scores_lr_tr.append(specificity_lr)\n",
    "\n",
    "scores_train['Neural Network'] = scores_lr_tr\n",
    "\n",
    "print(f\"The train accuracy with Neural Net is {accuracy:.4f}\")\n",
    "print(f\"The train sensitivity with Neural Net is {sensitivity_lr:.4f}.\")\n",
    "print(f\"The train specificity with Neural Net is {specificity_lr:.4f}.\")\n",
    "\n",
    "# Confusion Matrix: validation\n",
    "conf_mat = confusion_matrix(y_val, y_pred_val)\n",
    "disp = ConfusionMatrixDisplay(confusion_matrix=conf_mat, display_labels=['Not satisfied', 'satisfied'])\n",
    "\n",
    "disp.plot(cmap=plt.cm.Blues)\n",
    "plt.show()\n",
    "\n",
    "scores_lr_val = []\n",
    "tp, fp, fn, tn  = conf_mat[0,0], conf_mat[0,1], conf_mat[1,0], conf_mat[1,1]\n",
    "sensitivity_lr = tp/(tp+fn)\n",
    "specificity_lr = tn/(tn+fp)\n",
    "accuracy = (tp+tn) / (tp+tn+fp+fn)\n",
    "\n",
    "scores_lr_val.append(accuracy)\n",
    "scores_lr_val.append(sensitivity_lr)\n",
    "scores_lr_val.append(specificity_lr)\n",
    "\n",
    "scores_val['Neural Network'] = scores_lr_val\n",
    "print(f\"The validation accuracy with Neural Net is {accuracy:.4f}\")\n",
    "print(f\"The validation sensitivity with Neural Net is {sensitivity_lr:.4f}.\")\n",
    "print(f\"The validation specificity with Neural Net is {specificity_lr:.4f}.\")"
   ]
  },
  {
   "cell_type": "markdown",
   "metadata": {
    "cell_id": "56f5731bed1e4260899df8deda81e56c",
    "deepnote_cell_height": 70,
    "deepnote_cell_type": "markdown",
    "tags": []
   },
   "source": [
    "## Results"
   ]
  },
  {
   "cell_type": "code",
   "execution_count": null,
   "metadata": {
    "cell_id": "a2896dace2dc4b518b1f6cbd41cd8a3c",
    "deepnote_cell_height": 385,
    "deepnote_cell_type": "code",
    "deepnote_to_be_reexecuted": false,
    "execution_millis": 10,
    "execution_start": 1652036757844,
    "source_hash": "97dc230a",
    "tags": []
   },
   "outputs": [
    {
     "data": {
      "application/vnd.deepnote.dataframe.v3+json": {
       "column_count": 8,
       "columns": [
        {
         "dtype": "float64",
         "name": "Base Model",
         "stats": {
          "histogram": [
           {
            "bin_end": 0.8467090535147557,
            "bin_start": 0.8419149395509499,
            "count": 1
           },
           {
            "bin_end": 0.8515031674785614,
            "bin_start": 0.8467090535147557,
            "count": 0
           },
           {
            "bin_end": 0.856297281442367,
            "bin_start": 0.8515031674785614,
            "count": 0
           },
           {
            "bin_end": 0.8610913954061729,
            "bin_start": 0.856297281442367,
            "count": 0
           },
           {
            "bin_end": 0.8658855093699787,
            "bin_start": 0.8610913954061729,
            "count": 0
           },
           {
            "bin_end": 0.8706796233337843,
            "bin_start": 0.8658855093699787,
            "count": 1
           },
           {
            "bin_end": 0.87547373729759,
            "bin_start": 0.8706796233337843,
            "count": 0
           },
           {
            "bin_end": 0.8802678512613958,
            "bin_start": 0.87547373729759,
            "count": 0
           },
           {
            "bin_end": 0.8850619652252016,
            "bin_start": 0.8802678512613958,
            "count": 0
           },
           {
            "bin_end": 0.8898560791890073,
            "bin_start": 0.8850619652252016,
            "count": 1
           }
          ],
          "max": "0.8898560791890073",
          "min": "0.8419149395509499",
          "nan_count": 0,
          "unique_count": 3
         }
        },
        {
         "dtype": "float64",
         "name": "Random Forest",
         "stats": {
          "histogram": [
           {
            "bin_end": 0.99997518815648,
            "bin_start": 0.9999724312849778,
            "count": 1
           },
           {
            "bin_end": 0.9999779450279822,
            "bin_start": 0.99997518815648,
            "count": 0
           },
           {
            "bin_end": 0.9999807018994845,
            "bin_start": 0.9999779450279822,
            "count": 0
           },
           {
            "bin_end": 0.9999834587709867,
            "bin_start": 0.9999807018994845,
            "count": 0
           },
           {
            "bin_end": 0.9999862156424889,
            "bin_start": 0.9999834587709867,
            "count": 0
           },
           {
            "bin_end": 0.9999889725139911,
            "bin_start": 0.9999862156424889,
            "count": 1
           },
           {
            "bin_end": 0.9999917293854933,
            "bin_start": 0.9999889725139911,
            "count": 0
           },
           {
            "bin_end": 0.9999944862569956,
            "bin_start": 0.9999917293854933,
            "count": 0
           },
           {
            "bin_end": 0.9999972431284978,
            "bin_start": 0.9999944862569956,
            "count": 0
           },
           {
            "bin_end": 1,
            "bin_start": 0.9999972431284978,
            "count": 1
           }
          ],
          "max": "1.0",
          "min": "0.9999724312849778",
          "nan_count": 0,
          "unique_count": 3
         }
        },
        {
         "dtype": "float64",
         "name": "Tuned Random Forest",
         "stats": {
          "histogram": [
           {
            "bin_end": 0.6,
            "bin_start": 0.5,
            "count": 0
           },
           {
            "bin_end": 0.7,
            "bin_start": 0.6,
            "count": 0
           },
           {
            "bin_end": 0.8,
            "bin_start": 0.7,
            "count": 0
           },
           {
            "bin_end": 0.9,
            "bin_start": 0.8,
            "count": 0
           },
           {
            "bin_end": 1,
            "bin_start": 0.9,
            "count": 0
           },
           {
            "bin_end": 1.1,
            "bin_start": 1,
            "count": 3
           },
           {
            "bin_end": 1.2000000000000002,
            "bin_start": 1.1,
            "count": 0
           },
           {
            "bin_end": 1.3,
            "bin_start": 1.2000000000000002,
            "count": 0
           },
           {
            "bin_end": 1.4,
            "bin_start": 1.3,
            "count": 0
           },
           {
            "bin_end": 1.5,
            "bin_start": 1.4,
            "count": 0
           }
          ],
          "max": "1.0",
          "min": "1.0",
          "nan_count": 0,
          "unique_count": 1
         }
        },
        {
         "dtype": "float64",
         "name": "Bagging",
         "stats": {
          "histogram": [
           {
            "bin_end": 0.9970389067931337,
            "bin_start": 0.9968879096667584,
            "count": 1
           },
           {
            "bin_end": 0.9971899039195089,
            "bin_start": 0.9970389067931337,
            "count": 0
           },
           {
            "bin_end": 0.9973409010458841,
            "bin_start": 0.9971899039195089,
            "count": 0
           },
           {
            "bin_end": 0.9974918981722594,
            "bin_start": 0.9973409010458841,
            "count": 0
           },
           {
            "bin_end": 0.9976428952986346,
            "bin_start": 0.9974918981722594,
            "count": 0
           },
           {
            "bin_end": 0.9977938924250098,
            "bin_start": 0.9976428952986346,
            "count": 1
           },
           {
            "bin_end": 0.997944889551385,
            "bin_start": 0.9977938924250098,
            "count": 0
           },
           {
            "bin_end": 0.9980958866777603,
            "bin_start": 0.997944889551385,
            "count": 0
           },
           {
            "bin_end": 0.9982468838041355,
            "bin_start": 0.9980958866777603,
            "count": 0
           },
           {
            "bin_end": 0.9983978809305107,
            "bin_start": 0.9982468838041355,
            "count": 1
           }
          ],
          "max": "0.9983978809305107",
          "min": "0.9968879096667584",
          "nan_count": 0,
          "unique_count": 3
         }
        },
        {
         "dtype": "float64",
         "name": "Tuned Bagging",
         "stats": {
          "histogram": [
           {
            "bin_end": 0.9940299630927822,
            "bin_start": 0.9938293710917054,
            "count": 1
           },
           {
            "bin_end": 0.9942305550938589,
            "bin_start": 0.9940299630927822,
            "count": 0
           },
           {
            "bin_end": 0.9944311470949357,
            "bin_start": 0.9942305550938589,
            "count": 0
           },
           {
            "bin_end": 0.9946317390960125,
            "bin_start": 0.9944311470949357,
            "count": 0
           },
           {
            "bin_end": 0.9948323310970892,
            "bin_start": 0.9946317390960125,
            "count": 0
           },
           {
            "bin_end": 0.995032923098166,
            "bin_start": 0.9948323310970892,
            "count": 1
           },
           {
            "bin_end": 0.9952335150992428,
            "bin_start": 0.995032923098166,
            "count": 0
           },
           {
            "bin_end": 0.9954341071003197,
            "bin_start": 0.9952335150992428,
            "count": 0
           },
           {
            "bin_end": 0.9956346991013963,
            "bin_start": 0.9954341071003197,
            "count": 0
           },
           {
            "bin_end": 0.9958352911024732,
            "bin_start": 0.9956346991013963,
            "count": 1
           }
          ],
          "max": "0.9958352911024732",
          "min": "0.9938293710917054",
          "nan_count": 0,
          "unique_count": 3
         }
        },
        {
         "dtype": "float64",
         "name": "Boosting",
         "stats": {
          "histogram": [
           {
            "bin_end": 0.9367279601432694,
            "bin_start": 0.9355535254546965,
            "count": 1
           },
           {
            "bin_end": 0.9379023948318423,
            "bin_start": 0.9367279601432694,
            "count": 0
           },
           {
            "bin_end": 0.9390768295204152,
            "bin_start": 0.9379023948318423,
            "count": 0
           },
           {
            "bin_end": 0.9402512642089881,
            "bin_start": 0.9390768295204152,
            "count": 0
           },
           {
            "bin_end": 0.941425698897561,
            "bin_start": 0.9402512642089881,
            "count": 0
           },
           {
            "bin_end": 0.9426001335861339,
            "bin_start": 0.941425698897561,
            "count": 1
           },
           {
            "bin_end": 0.9437745682747068,
            "bin_start": 0.9426001335861339,
            "count": 0
           },
           {
            "bin_end": 0.9449490029632797,
            "bin_start": 0.9437745682747068,
            "count": 0
           },
           {
            "bin_end": 0.9461234376518526,
            "bin_start": 0.9449490029632797,
            "count": 0
           },
           {
            "bin_end": 0.9472978723404255,
            "bin_start": 0.9461234376518526,
            "count": 1
           }
          ],
          "max": "0.9472978723404255",
          "min": "0.9355535254546965",
          "nan_count": 0,
          "unique_count": 3
         }
        },
        {
         "dtype": "float64",
         "name": "Tuned Boosting",
         "stats": {
          "histogram": [
           {
            "bin_end": 0.9632436481205962,
            "bin_start": 0.9628714931875573,
            "count": 1
           },
           {
            "bin_end": 0.963615803053635,
            "bin_start": 0.9632436481205962,
            "count": 0
           },
           {
            "bin_end": 0.9639879579866738,
            "bin_start": 0.963615803053635,
            "count": 0
           },
           {
            "bin_end": 0.9643601129197127,
            "bin_start": 0.9639879579866738,
            "count": 0
           },
           {
            "bin_end": 0.9647322678527516,
            "bin_start": 0.9643601129197127,
            "count": 0
           },
           {
            "bin_end": 0.9651044227857905,
            "bin_start": 0.9647322678527516,
            "count": 1
           },
           {
            "bin_end": 0.9654765777188293,
            "bin_start": 0.9651044227857905,
            "count": 0
           },
           {
            "bin_end": 0.9658487326518681,
            "bin_start": 0.9654765777188293,
            "count": 0
           },
           {
            "bin_end": 0.966220887584907,
            "bin_start": 0.9658487326518681,
            "count": 0
           },
           {
            "bin_end": 0.9665930425179459,
            "bin_start": 0.966220887584907,
            "count": 1
           }
          ],
          "max": "0.9665930425179459",
          "min": "0.9628714931875573",
          "nan_count": 0,
          "unique_count": 3
         }
        },
        {
         "dtype": "float64",
         "name": "Neural Network",
         "stats": {
          "histogram": [
           {
            "bin_end": 0.9591232480302144,
            "bin_start": 0.9568137996807166,
            "count": 1
           },
           {
            "bin_end": 0.9614326963797123,
            "bin_start": 0.9591232480302144,
            "count": 0
           },
           {
            "bin_end": 0.96374214472921,
            "bin_start": 0.9614326963797123,
            "count": 0
           },
           {
            "bin_end": 0.9660515930787079,
            "bin_start": 0.96374214472921,
            "count": 0
           },
           {
            "bin_end": 0.9683610414282058,
            "bin_start": 0.9660515930787079,
            "count": 1
           },
           {
            "bin_end": 0.9706704897777036,
            "bin_start": 0.9683610414282058,
            "count": 0
           },
           {
            "bin_end": 0.9729799381272015,
            "bin_start": 0.9706704897777036,
            "count": 0
           },
           {
            "bin_end": 0.9752893864766993,
            "bin_start": 0.9729799381272015,
            "count": 0
           },
           {
            "bin_end": 0.9775988348261971,
            "bin_start": 0.9752893864766993,
            "count": 0
           },
           {
            "bin_end": 0.979908283175695,
            "bin_start": 0.9775988348261971,
            "count": 1
           }
          ],
          "max": "0.979908283175695",
          "min": "0.9568137996807166",
          "nan_count": 0,
          "unique_count": 3
         }
        },
        {
         "dtype": "object",
         "name": "_deepnote_index_column"
        }
       ],
       "row_count": 3,
       "rows": [
        {
         "Bagging": 0.9977382914476137,
         "Base Model": 0.8684840537516693,
         "Boosting": 0.9421940979031075,
         "Neural Network": 0.9665074648412594,
         "Random Forest": 0.9999879696353596,
         "Tuned Bagging": 0.9949592772156924,
         "Tuned Boosting": 0.9649796085319347,
         "Tuned Random Forest": 1,
         "_deepnote_index_column": "Accuracy"
        },
        {
         "Bagging": 0.9983978809305107,
         "Base Model": 0.8898560791890073,
         "Boosting": 0.9472978723404255,
         "Neural Network": 0.9568137996807166,
         "Random Forest": 1,
         "Tuned Bagging": 0.9958352911024732,
         "Tuned Boosting": 0.9665930425179459,
         "Tuned Random Forest": 1,
         "_deepnote_index_column": "Sensitivity"
        },
        {
         "Bagging": 0.9968879096667584,
         "Base Model": 0.8419149395509499,
         "Boosting": 0.9355535254546965,
         "Neural Network": 0.979908283175695,
         "Random Forest": 0.9999724312849778,
         "Tuned Bagging": 0.9938293710917054,
         "Tuned Boosting": 0.9628714931875573,
         "Tuned Random Forest": 1,
         "_deepnote_index_column": "Specificity"
        }
       ]
      },
      "text/html": [
       "<div>\n",
       "<style scoped>\n",
       "    .dataframe tbody tr th:only-of-type {\n",
       "        vertical-align: middle;\n",
       "    }\n",
       "\n",
       "    .dataframe tbody tr th {\n",
       "        vertical-align: top;\n",
       "    }\n",
       "\n",
       "    .dataframe thead th {\n",
       "        text-align: right;\n",
       "    }\n",
       "</style>\n",
       "<table border=\"1\" class=\"dataframe\">\n",
       "  <thead>\n",
       "    <tr style=\"text-align: right;\">\n",
       "      <th></th>\n",
       "      <th>Base Model</th>\n",
       "      <th>Random Forest</th>\n",
       "      <th>Tuned Random Forest</th>\n",
       "      <th>Bagging</th>\n",
       "      <th>Tuned Bagging</th>\n",
       "      <th>Boosting</th>\n",
       "      <th>Tuned Boosting</th>\n",
       "      <th>Neural Network</th>\n",
       "    </tr>\n",
       "  </thead>\n",
       "  <tbody>\n",
       "    <tr>\n",
       "      <th>Accuracy</th>\n",
       "      <td>0.868484</td>\n",
       "      <td>0.999988</td>\n",
       "      <td>1.0</td>\n",
       "      <td>0.997738</td>\n",
       "      <td>0.994959</td>\n",
       "      <td>0.942194</td>\n",
       "      <td>0.964980</td>\n",
       "      <td>0.966507</td>\n",
       "    </tr>\n",
       "    <tr>\n",
       "      <th>Sensitivity</th>\n",
       "      <td>0.889856</td>\n",
       "      <td>1.000000</td>\n",
       "      <td>1.0</td>\n",
       "      <td>0.998398</td>\n",
       "      <td>0.995835</td>\n",
       "      <td>0.947298</td>\n",
       "      <td>0.966593</td>\n",
       "      <td>0.956814</td>\n",
       "    </tr>\n",
       "    <tr>\n",
       "      <th>Specificity</th>\n",
       "      <td>0.841915</td>\n",
       "      <td>0.999972</td>\n",
       "      <td>1.0</td>\n",
       "      <td>0.996888</td>\n",
       "      <td>0.993829</td>\n",
       "      <td>0.935554</td>\n",
       "      <td>0.962871</td>\n",
       "      <td>0.979908</td>\n",
       "    </tr>\n",
       "  </tbody>\n",
       "</table>\n",
       "</div>"
      ],
      "text/plain": [
       "             Base Model  Random Forest  Tuned Random Forest   Bagging  \\\n",
       "Accuracy       0.868484       0.999988                  1.0  0.997738   \n",
       "Sensitivity    0.889856       1.000000                  1.0  0.998398   \n",
       "Specificity    0.841915       0.999972                  1.0  0.996888   \n",
       "\n",
       "             Tuned Bagging  Boosting  Tuned Boosting  Neural Network  \n",
       "Accuracy          0.994959  0.942194        0.964980        0.966507  \n",
       "Sensitivity       0.995835  0.947298        0.966593        0.956814  \n",
       "Specificity       0.993829  0.935554        0.962871        0.979908  "
      ]
     },
     "execution_count": 45,
     "metadata": {},
     "output_type": "execute_result"
    }
   ],
   "source": [
    "# summary of training results\n",
    "\n",
    "results_df_train = pd.DataFrame.from_dict(scores_train,orient='index').transpose().rename(index={0: 'Accuracy', 1: 'Sensitivity', 2: 'Specificity'})\n",
    "\n",
    "results_df_train"
   ]
  },
  {
   "cell_type": "code",
   "execution_count": null,
   "metadata": {
    "cell_id": "724939d0393f4ec58ab91924457f8ac7",
    "deepnote_cell_height": 385,
    "deepnote_cell_type": "code",
    "deepnote_table_loading": false,
    "deepnote_table_state": {
     "filters": [],
     "pageIndex": 0,
     "pageSize": 10,
     "sortBy": []
    },
    "deepnote_to_be_reexecuted": false,
    "execution_millis": 12,
    "execution_start": 1652036757888,
    "source_hash": "43b026f7",
    "tags": []
   },
   "outputs": [
    {
     "data": {
      "application/vnd.deepnote.dataframe.v3+json": {
       "column_count": 8,
       "columns": [
        {
         "dtype": "float64",
         "name": "Base Model",
         "stats": {
          "histogram": [
           {
            "bin_end": 0.8522635308358018,
            "bin_start": 0.8475019048655709,
            "count": 1
           },
           {
            "bin_end": 0.8570251568060326,
            "bin_start": 0.8522635308358018,
            "count": 0
           },
           {
            "bin_end": 0.8617867827762636,
            "bin_start": 0.8570251568060326,
            "count": 0
           },
           {
            "bin_end": 0.8665484087464945,
            "bin_start": 0.8617867827762636,
            "count": 0
           },
           {
            "bin_end": 0.8713100347167254,
            "bin_start": 0.8665484087464945,
            "count": 0
           },
           {
            "bin_end": 0.8760716606869563,
            "bin_start": 0.8713100347167254,
            "count": 1
           },
           {
            "bin_end": 0.8808332866571872,
            "bin_start": 0.8760716606869563,
            "count": 0
           },
           {
            "bin_end": 0.8855949126274182,
            "bin_start": 0.8808332866571872,
            "count": 0
           },
           {
            "bin_end": 0.8903565385976491,
            "bin_start": 0.8855949126274182,
            "count": 0
           },
           {
            "bin_end": 0.89511816456788,
            "bin_start": 0.8903565385976491,
            "count": 1
           }
          ],
          "max": "0.89511816456788",
          "min": "0.8475019048655709",
          "nan_count": 0,
          "unique_count": 3
         }
        },
        {
         "dtype": "float64",
         "name": "Random Forest",
         "stats": {
          "histogram": [
           {
            "bin_end": 0.960885578681355,
            "bin_start": 0.9604880232818447,
            "count": 1
           },
           {
            "bin_end": 0.9612831340808653,
            "bin_start": 0.960885578681355,
            "count": 0
           },
           {
            "bin_end": 0.9616806894803756,
            "bin_start": 0.9612831340808653,
            "count": 0
           },
           {
            "bin_end": 0.9620782448798859,
            "bin_start": 0.9616806894803756,
            "count": 0
           },
           {
            "bin_end": 0.9624758002793963,
            "bin_start": 0.9620782448798859,
            "count": 0
           },
           {
            "bin_end": 0.9628733556789065,
            "bin_start": 0.9624758002793963,
            "count": 1
           },
           {
            "bin_end": 0.9632709110784168,
            "bin_start": 0.9628733556789065,
            "count": 0
           },
           {
            "bin_end": 0.9636684664779271,
            "bin_start": 0.9632709110784168,
            "count": 0
           },
           {
            "bin_end": 0.9640660218774375,
            "bin_start": 0.9636684664779271,
            "count": 0
           },
           {
            "bin_end": 0.9644635772769478,
            "bin_start": 0.9640660218774375,
            "count": 1
           }
          ],
          "max": "0.9644635772769478",
          "min": "0.9604880232818447",
          "nan_count": 0,
          "unique_count": 3
         }
        },
        {
         "dtype": "float64",
         "name": "Tuned Random Forest",
         "stats": {
          "histogram": [
           {
            "bin_end": 0.96252676618236,
            "bin_start": 0.9623149394347241,
            "count": 1
           },
           {
            "bin_end": 0.9627385929299959,
            "bin_start": 0.96252676618236,
            "count": 0
           },
           {
            "bin_end": 0.9629504196776318,
            "bin_start": 0.9627385929299959,
            "count": 0
           },
           {
            "bin_end": 0.9631622464252677,
            "bin_start": 0.9629504196776318,
            "count": 0
           },
           {
            "bin_end": 0.9633740731729036,
            "bin_start": 0.9631622464252677,
            "count": 0
           },
           {
            "bin_end": 0.9635858999205394,
            "bin_start": 0.9633740731729036,
            "count": 1
           },
           {
            "bin_end": 0.9637977266681753,
            "bin_start": 0.9635858999205394,
            "count": 0
           },
           {
            "bin_end": 0.9640095534158113,
            "bin_start": 0.9637977266681753,
            "count": 0
           },
           {
            "bin_end": 0.9642213801634472,
            "bin_start": 0.9640095534158113,
            "count": 0
           },
           {
            "bin_end": 0.964433206911083,
            "bin_start": 0.9642213801634472,
            "count": 1
           }
          ],
          "max": "0.964433206911083",
          "min": "0.9623149394347241",
          "nan_count": 0,
          "unique_count": 3
         }
        },
        {
         "dtype": "float64",
         "name": "Bagging",
         "stats": {
          "histogram": [
           {
            "bin_end": 0.9497973643047306,
            "bin_start": 0.948703683097808,
            "count": 1
           },
           {
            "bin_end": 0.9508910455116532,
            "bin_start": 0.9497973643047306,
            "count": 0
           },
           {
            "bin_end": 0.9519847267185758,
            "bin_start": 0.9508910455116532,
            "count": 0
           },
           {
            "bin_end": 0.9530784079254984,
            "bin_start": 0.9519847267185758,
            "count": 0
           },
           {
            "bin_end": 0.954172089132421,
            "bin_start": 0.9530784079254984,
            "count": 0
           },
           {
            "bin_end": 0.9552657703393437,
            "bin_start": 0.954172089132421,
            "count": 1
           },
           {
            "bin_end": 0.9563594515462662,
            "bin_start": 0.9552657703393437,
            "count": 0
           },
           {
            "bin_end": 0.9574531327531889,
            "bin_start": 0.9563594515462662,
            "count": 0
           },
           {
            "bin_end": 0.9585468139601114,
            "bin_start": 0.9574531327531889,
            "count": 0
           },
           {
            "bin_end": 0.9596404951670341,
            "bin_start": 0.9585468139601114,
            "count": 1
           }
          ],
          "max": "0.9596404951670341",
          "min": "0.948703683097808",
          "nan_count": 0,
          "unique_count": 3
         }
        },
        {
         "dtype": "float64",
         "name": "Tuned Bagging",
         "stats": {
          "histogram": [
           {
            "bin_end": 0.9630142274672208,
            "bin_start": 0.9628548984401302,
            "count": 1
           },
           {
            "bin_end": 0.9631735564943114,
            "bin_start": 0.9630142274672208,
            "count": 0
           },
           {
            "bin_end": 0.963332885521402,
            "bin_start": 0.9631735564943114,
            "count": 0
           },
           {
            "bin_end": 0.9634922145484925,
            "bin_start": 0.963332885521402,
            "count": 0
           },
           {
            "bin_end": 0.9636515435755832,
            "bin_start": 0.9634922145484925,
            "count": 0
           },
           {
            "bin_end": 0.9638108726026738,
            "bin_start": 0.9636515435755832,
            "count": 1
           },
           {
            "bin_end": 0.9639702016297644,
            "bin_start": 0.9638108726026738,
            "count": 0
           },
           {
            "bin_end": 0.964129530656855,
            "bin_start": 0.9639702016297644,
            "count": 0
           },
           {
            "bin_end": 0.9642888596839456,
            "bin_start": 0.964129530656855,
            "count": 0
           },
           {
            "bin_end": 0.9644481887110362,
            "bin_start": 0.9642888596839456,
            "count": 1
           }
          ],
          "max": "0.9644481887110362",
          "min": "0.9628548984401302",
          "nan_count": 0,
          "unique_count": 3
         }
        },
        {
         "dtype": "float64",
         "name": "Boosting",
         "stats": {
          "histogram": [
           {
            "bin_end": 0.9377334098152426,
            "bin_start": 0.936407172290901,
            "count": 1
           },
           {
            "bin_end": 0.939059647339584,
            "bin_start": 0.9377334098152426,
            "count": 0
           },
           {
            "bin_end": 0.9403858848639255,
            "bin_start": 0.939059647339584,
            "count": 0
           },
           {
            "bin_end": 0.9417121223882671,
            "bin_start": 0.9403858848639255,
            "count": 0
           },
           {
            "bin_end": 0.9430383599126086,
            "bin_start": 0.9417121223882671,
            "count": 0
           },
           {
            "bin_end": 0.9443645974369501,
            "bin_start": 0.9430383599126086,
            "count": 1
           },
           {
            "bin_end": 0.9456908349612916,
            "bin_start": 0.9443645974369501,
            "count": 0
           },
           {
            "bin_end": 0.9470170724856332,
            "bin_start": 0.9456908349612916,
            "count": 0
           },
           {
            "bin_end": 0.9483433100099747,
            "bin_start": 0.9470170724856332,
            "count": 0
           },
           {
            "bin_end": 0.9496695475343162,
            "bin_start": 0.9483433100099747,
            "count": 1
           }
          ],
          "max": "0.9496695475343162",
          "min": "0.936407172290901",
          "nan_count": 0,
          "unique_count": 3
         }
        },
        {
         "dtype": "float64",
         "name": "Tuned Boosting",
         "stats": {
          "histogram": [
           {
            "bin_end": 0.9547812531518343,
            "bin_start": 0.9538170487424883,
            "count": 1
           },
           {
            "bin_end": 0.9557454575611801,
            "bin_start": 0.9547812531518343,
            "count": 0
           },
           {
            "bin_end": 0.956709661970526,
            "bin_start": 0.9557454575611801,
            "count": 0
           },
           {
            "bin_end": 0.957673866379872,
            "bin_start": 0.956709661970526,
            "count": 0
           },
           {
            "bin_end": 0.9586380707892179,
            "bin_start": 0.957673866379872,
            "count": 0
           },
           {
            "bin_end": 0.9596022751985638,
            "bin_start": 0.9586380707892179,
            "count": 1
           },
           {
            "bin_end": 0.9605664796079096,
            "bin_start": 0.9596022751985638,
            "count": 0
           },
           {
            "bin_end": 0.9615306840172556,
            "bin_start": 0.9605664796079096,
            "count": 0
           },
           {
            "bin_end": 0.9624948884266016,
            "bin_start": 0.9615306840172556,
            "count": 0
           },
           {
            "bin_end": 0.9634590928359474,
            "bin_start": 0.9624948884266016,
            "count": 1
           }
          ],
          "max": "0.9634590928359474",
          "min": "0.9538170487424883",
          "nan_count": 0,
          "unique_count": 3
         }
        },
        {
         "dtype": "float64",
         "name": "Neural Network",
         "stats": {
          "histogram": [
           {
            "bin_end": 0.9548793829994231,
            "bin_start": 0.9523926985693143,
            "count": 1
           },
           {
            "bin_end": 0.957366067429532,
            "bin_start": 0.9548793829994231,
            "count": 0
           },
           {
            "bin_end": 0.9598527518596408,
            "bin_start": 0.957366067429532,
            "count": 0
           },
           {
            "bin_end": 0.9623394362897496,
            "bin_start": 0.9598527518596408,
            "count": 0
           },
           {
            "bin_end": 0.9648261207198585,
            "bin_start": 0.9623394362897496,
            "count": 1
           },
           {
            "bin_end": 0.9673128051499673,
            "bin_start": 0.9648261207198585,
            "count": 0
           },
           {
            "bin_end": 0.9697994895800761,
            "bin_start": 0.9673128051499673,
            "count": 0
           },
           {
            "bin_end": 0.9722861740101849,
            "bin_start": 0.9697994895800761,
            "count": 0
           },
           {
            "bin_end": 0.9747728584402938,
            "bin_start": 0.9722861740101849,
            "count": 0
           },
           {
            "bin_end": 0.9772595428704026,
            "bin_start": 0.9747728584402938,
            "count": 1
           }
          ],
          "max": "0.9772595428704026",
          "min": "0.9523926985693143",
          "nan_count": 0,
          "unique_count": 3
         }
        },
        {
         "dtype": "object",
         "name": "_deepnote_index_column"
        }
       ],
       "row_count": 3,
       "rows": [
        {
         "Bagging": 0.9549107357682498,
         "Base Model": 0.8740676579567874,
         "Boosting": 0.9439391752081228,
         "Neural Network": 0.962706318271498,
         "Random Forest": 0.9627544391511477,
         "Tuned Bagging": 0.963764977623791,
         "Tuned Boosting": 0.9592897358163707,
         "Tuned Random Forest": 0.9635243732255425,
         "_deepnote_index_column": "Accuracy"
        },
        {
         "Bagging": 0.9596404951670341,
         "Base Model": 0.89511816456788,
         "Boosting": 0.9496695475343162,
         "Neural Network": 0.9523926985693143,
         "Random Forest": 0.9644635772769478,
         "Tuned Bagging": 0.9644481887110362,
         "Tuned Boosting": 0.9634590928359474,
         "Tuned Random Forest": 0.964433206911083,
         "_deepnote_index_column": "Sensitivity"
        },
        {
         "Bagging": 0.948703683097808,
         "Base Model": 0.8475019048655709,
         "Boosting": 0.936407172290901,
         "Neural Network": 0.9772595428704026,
         "Random Forest": 0.9604880232818447,
         "Tuned Bagging": 0.9628548984401302,
         "Tuned Boosting": 0.9538170487424883,
         "Tuned Random Forest": 0.9623149394347241,
         "_deepnote_index_column": "Specificity"
        }
       ]
      },
      "text/html": [
       "<div>\n",
       "<style scoped>\n",
       "    .dataframe tbody tr th:only-of-type {\n",
       "        vertical-align: middle;\n",
       "    }\n",
       "\n",
       "    .dataframe tbody tr th {\n",
       "        vertical-align: top;\n",
       "    }\n",
       "\n",
       "    .dataframe thead th {\n",
       "        text-align: right;\n",
       "    }\n",
       "</style>\n",
       "<table border=\"1\" class=\"dataframe\">\n",
       "  <thead>\n",
       "    <tr style=\"text-align: right;\">\n",
       "      <th></th>\n",
       "      <th>Base Model</th>\n",
       "      <th>Random Forest</th>\n",
       "      <th>Tuned Random Forest</th>\n",
       "      <th>Bagging</th>\n",
       "      <th>Tuned Bagging</th>\n",
       "      <th>Boosting</th>\n",
       "      <th>Tuned Boosting</th>\n",
       "      <th>Neural Network</th>\n",
       "    </tr>\n",
       "  </thead>\n",
       "  <tbody>\n",
       "    <tr>\n",
       "      <th>Accuracy</th>\n",
       "      <td>0.874068</td>\n",
       "      <td>0.962754</td>\n",
       "      <td>0.963524</td>\n",
       "      <td>0.954911</td>\n",
       "      <td>0.963765</td>\n",
       "      <td>0.943939</td>\n",
       "      <td>0.959290</td>\n",
       "      <td>0.962706</td>\n",
       "    </tr>\n",
       "    <tr>\n",
       "      <th>Sensitivity</th>\n",
       "      <td>0.895118</td>\n",
       "      <td>0.964464</td>\n",
       "      <td>0.964433</td>\n",
       "      <td>0.959640</td>\n",
       "      <td>0.964448</td>\n",
       "      <td>0.949670</td>\n",
       "      <td>0.963459</td>\n",
       "      <td>0.952393</td>\n",
       "    </tr>\n",
       "    <tr>\n",
       "      <th>Specificity</th>\n",
       "      <td>0.847502</td>\n",
       "      <td>0.960488</td>\n",
       "      <td>0.962315</td>\n",
       "      <td>0.948704</td>\n",
       "      <td>0.962855</td>\n",
       "      <td>0.936407</td>\n",
       "      <td>0.953817</td>\n",
       "      <td>0.977260</td>\n",
       "    </tr>\n",
       "  </tbody>\n",
       "</table>\n",
       "</div>"
      ],
      "text/plain": [
       "             Base Model  Random Forest  Tuned Random Forest   Bagging  \\\n",
       "Accuracy       0.874068       0.962754             0.963524  0.954911   \n",
       "Sensitivity    0.895118       0.964464             0.964433  0.959640   \n",
       "Specificity    0.847502       0.960488             0.962315  0.948704   \n",
       "\n",
       "             Tuned Bagging  Boosting  Tuned Boosting  Neural Network  \n",
       "Accuracy          0.963765  0.943939        0.959290        0.962706  \n",
       "Sensitivity       0.964448  0.949670        0.963459        0.952393  \n",
       "Specificity       0.962855  0.936407        0.953817        0.977260  "
      ]
     },
     "execution_count": 46,
     "metadata": {},
     "output_type": "execute_result"
    }
   ],
   "source": [
    "# summary of validation results\n",
    "\n",
    "results_df_val = pd.DataFrame.from_dict(scores_val,orient='index').transpose().rename(index={0: 'Accuracy', 1: 'Sensitivity', 2: 'Specificity'})\n",
    "\n",
    "results_df_val"
   ]
  },
  {
   "cell_type": "markdown",
   "metadata": {
    "cell_id": "fdc5fdf941e04ac7a9523e6d09295201",
    "deepnote_cell_height": 52.390625,
    "deepnote_cell_type": "markdown",
    "owner_user_id": "549989fa-1a8f-4ef2-80af-11662bd0e787",
    "tags": []
   },
   "source": [
    "**Therefore, the best model found is tuned bagging. We will evaluate its performance on the test set.**"
   ]
  },
  {
   "cell_type": "code",
   "execution_count": null,
   "metadata": {
    "cell_id": "82b946b60cec4508aca57676742c5a98",
    "deepnote_cell_height": 331.078125,
    "deepnote_cell_type": "code",
    "deepnote_to_be_reexecuted": false,
    "execution_millis": 863,
    "execution_start": 1652036757906,
    "source_hash": "c24471e6",
    "tags": []
   },
   "outputs": [
    {
     "name": "stdout",
     "output_type": "stream",
     "text": [
      "Using the best model (tuned bagging), the overall accuracy for the test set is 0.9617.\n",
      "Using the best model (tuned bagging), the overall sensitivity for the test set is 0.9628.\n",
      "Using the best model (tuned bagging), the overall specificity for the test set is 0.9601.\n"
     ]
    }
   ],
   "source": [
    "predictions_test = (best_bagg.predict_proba(X_test)[:,1]>threshold).astype(int)\n",
    "\n",
    "conf_test = confusion_matrix(y_test, predictions_test)\n",
    "tp, fp, fn, tn  = conf_test[0,0], conf_test[0,1], conf_test[1,0], conf_test[1,1]\n",
    "test_accuracy = (tp+tn) / (tp+tn+fp+fn)\n",
    "test_sensitivity = tp/(tp+fn)\n",
    "test_specificity = tn/(tn+fp)\n",
    "\n",
    "print(f\"Using the best model (tuned bagging), the overall accuracy for the test set is {test_accuracy:.4f}.\")\n",
    "print(f\"Using the best model (tuned bagging), the overall sensitivity for the test set is {test_sensitivity:.4f}.\")\n",
    "print(f\"Using the best model (tuned bagging), the overall specificity for the test set is {test_specificity:.4f}.\")"
   ]
  }
 ],
 "metadata": {
  "deepnote": {},
  "deepnote_execution_queue": [],
  "deepnote_notebook_id": "17ca43d9-05a4-4be7-bd2b-f2375024c032",
  "kernelspec": {
   "display_name": "Python 3 (ipykernel)",
   "language": "python",
   "name": "python3"
  },
  "language_info": {
   "codemirror_mode": {
    "name": "ipython",
    "version": 3
   },
   "file_extension": ".py",
   "mimetype": "text/x-python",
   "name": "python",
   "nbconvert_exporter": "python",
   "pygments_lexer": "ipython3",
   "version": "3.8.8"
  }
 },
 "nbformat": 4,
 "nbformat_minor": 4
}
