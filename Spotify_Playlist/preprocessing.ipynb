{
 "cells": [
  {
   "cell_type": "code",
   "execution_count": 109,
   "id": "abc6442d",
   "metadata": {},
   "outputs": [],
   "source": [
    "import pandas as pd\n",
    "import numpy as np\n",
    "import spotipy\n",
    "from spotipy.oauth2 import SpotifyClientCredentials\n",
    "import time "
   ]
  },
  {
   "cell_type": "markdown",
   "id": "9e967036",
   "metadata": {},
   "source": [
    "# Change thesse file locations :) "
   ]
  },
  {
   "cell_type": "code",
   "execution_count": 2,
   "id": "517e08b5",
   "metadata": {},
   "outputs": [],
   "source": [
    "song_meta_table = pd.read_csv(\"merged_songs.csv\")"
   ]
  },
  {
   "cell_type": "code",
   "execution_count": 3,
   "id": "a5008d28",
   "metadata": {},
   "outputs": [],
   "source": [
    "# train_idx = test_idx = pd.read_csv(\"/Users/mbutler/Downloads/down_df.csv\")\n",
    "test_idx = pd.read_csv(\"/Users/mbutler/Downloads/test_idx.csv\")"
   ]
  },
  {
   "cell_type": "code",
   "execution_count": 4,
   "id": "22ded13c",
   "metadata": {},
   "outputs": [],
   "source": [
    "actual_data = pd.read_csv(\"full_playlist_wo_tracks.csv\")"
   ]
  },
  {
   "cell_type": "code",
   "execution_count": 111,
   "id": "d1a801ff",
   "metadata": {},
   "outputs": [],
   "source": [
    "test = actual_data.loc[actual_data['pid'].isin(list(test_idx['pid']))]"
   ]
  },
  {
   "cell_type": "code",
   "execution_count": 100,
   "id": "919f8199",
   "metadata": {},
   "outputs": [],
   "source": [
    "client_id = 'b939139ade0a4698825027b82def40ca'\n",
    "client_secret = 'f2389d5c42ef4baea58521293ff7ba74'\n",
    "\n",
    "client_credentials_manager = SpotifyClientCredentials(client_id, client_secret)\n",
    "sp = spotipy.Spotify(client_credentials_manager=client_credentials_manager)"
   ]
  },
  {
   "cell_type": "code",
   "execution_count": 101,
   "id": "7846cd8f",
   "metadata": {},
   "outputs": [],
   "source": [
    "def getTrackFeatures(id):\n",
    "    meta = sp.track(id)\n",
    "    features = sp.audio_features(id)\n",
    "\n",
    "      # meta\n",
    "    name = meta['name']\n",
    "    album = meta['album']['name']\n",
    "    artist = meta['album']['artists'][0]['name']\n",
    "    release_date = meta['album']['release_date']\n",
    "    length = meta['duration_ms']\n",
    "    popularity = meta['popularity']\n",
    "\n",
    "      # features\n",
    "    acousticness = features[0]['acousticness']\n",
    "    danceability = features[0]['danceability']\n",
    "    energy = features[0]['energy']\n",
    "    instrumentalness = features[0]['instrumentalness']\n",
    "    liveness = features[0]['liveness']\n",
    "    loudness = features[0]['loudness']\n",
    "    speechiness = features[0]['speechiness']\n",
    "    tempo = features[0]['tempo']\n",
    "    time_signature = features[0]['time_signature']\n",
    "\n",
    "    track = [name, length, popularity, danceability, acousticness, danceability, energy, instrumentalness, liveness, loudness, speechiness, tempo, time_signature]\n",
    "    return track"
   ]
  },
  {
   "cell_type": "code",
   "execution_count": 137,
   "id": "8bbc44fd",
   "metadata": {},
   "outputs": [],
   "source": [
    "def find_song_in_table(song_id,pos):\n",
    "    try:\n",
    "        return (list(song_meta_table.loc[song_meta_table['Unnamed: 0'] == song_id][['Song Name','popularity', 'duration_ms', 'danceability', 'energy',\n",
    "           'key', 'loudness', 'mode', 'speechiness', 'acousticness',\n",
    "           'instrumentalness', 'liveness', 'valence', 'tempo', 'time_signature']].values[0]),pos)\n",
    "    except:\n",
    "        return song_id,pos\n",
    "#     (our_songs.loc[our_songs['Unnamed: 0'] == song_id]['TrackID'],pos)\n",
    "\n"
   ]
  },
  {
   "cell_type": "code",
   "execution_count": null,
   "id": "1aac07eb",
   "metadata": {},
   "outputs": [],
   "source": []
  },
  {
   "cell_type": "code",
   "execution_count": 132,
   "id": "137b19c5",
   "metadata": {},
   "outputs": [],
   "source": [
    "def put_song_in_playlist(playlist):        \n",
    "    return [find_song_in_table(i[0],i[1]) for i in eval(playlist)]\n",
    "    "
   ]
  },
  {
   "cell_type": "code",
   "execution_count": 134,
   "id": "601e57b6",
   "metadata": {},
   "outputs": [],
   "source": [
    "def get_avgs(playlist):\n",
    "    #Creates Avg columns for each playlist row\n",
    "    count = 0\n",
    "    none_count = 0\n",
    "#     Features\n",
    "    popularity = 0\n",
    "    danceability = 0\n",
    "    duration = 0\n",
    "    energy = 0\n",
    "    key = 0\n",
    "    loudness = 0\n",
    "    mode = 0\n",
    "    speechiness = 0\n",
    "    acousticness = 0\n",
    "    instrumentalness = 0\n",
    "    liveness = 0\n",
    "    valence = 0\n",
    "    tempo = 0\n",
    "    time_signature = 0\n",
    "    for i in playlist:\n",
    "        if type(i[0]) != int:\n",
    "            popularity += i[0][1] \n",
    "            duration += i[0][2] \n",
    "            danceability += i[0][3]\n",
    "            energy += i[0][4]\n",
    "            key += i[0][5]\n",
    "            loudness += i[0][6]\n",
    "            mode += i[0][7]\n",
    "            speechiness += i[0][8]\n",
    "            acousticness += i[0][9]\n",
    "            instrumentalness += i[0][10]\n",
    "            liveness += i[0][11]\n",
    "            valence += i[0][12]\n",
    "            tempo += i[0][13]\n",
    "            time_signature += i[0][14]\n",
    "        else:\n",
    "            none_count += 1\n",
    "        count += 1\n",
    "        \n",
    "#     if none_count == count:\n",
    "        \n",
    "#         num = np.random.randint(len(playlist))\n",
    "#         sample = np.random.choice(len(playlist))\n",
    "        \n",
    "    \n",
    "    \n",
    "    return popularity/count,duration/count, danceability/count, energy/count, key/count,loudness/count, \\\n",
    "    mode/count,speechiness/count,acousticness/count,instrumentalness/count,liveness/count, \\\n",
    "    valence/count,tempo/count,time_signature/count\n",
    "    "
   ]
  },
  {
   "cell_type": "code",
   "execution_count": null,
   "id": "fb5f1d7b",
   "metadata": {},
   "outputs": [],
   "source": [
    "%%time\n",
    "test['tracks_trans'] = test['tracks'].apply(put_song_in_playlist)"
   ]
  },
  {
   "cell_type": "code",
   "execution_count": 107,
   "id": "036f34e6",
   "metadata": {},
   "outputs": [],
   "source": [
    "test[\"avg_popularity\"],test['avg_duration'],test[\"avg_danceability\"],test['avg_energy'],test['avg_key'],test['avg_loudness'], \\\n",
    "test['avg_mode'],test['avg_speechiness'],test['avg_acousticness'] ,test['avg_instrumentalness'], \\\n",
    "test['avg_liveness'], test['avg_valence'],test['avg_temp'],test['avg_time_signature'] = zip(*test['tracks_trans'].map(get_avgs))\n"
   ]
  },
  {
   "cell_type": "code",
   "execution_count": null,
   "id": "d103b8f4",
   "metadata": {},
   "outputs": [],
   "source": [
    "test.to_csv(\"testing_data_avgs.csv\")"
   ]
  }
 ],
 "metadata": {
  "kernelspec": {
   "display_name": "Python 3 (ipykernel)",
   "language": "python",
   "name": "python3"
  },
  "language_info": {
   "codemirror_mode": {
    "name": "ipython",
    "version": 3
   },
   "file_extension": ".py",
   "mimetype": "text/x-python",
   "name": "python",
   "nbconvert_exporter": "python",
   "pygments_lexer": "ipython3",
   "version": "3.8.8"
  }
 },
 "nbformat": 4,
 "nbformat_minor": 5
}
